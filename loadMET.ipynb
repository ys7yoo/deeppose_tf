{
 "cells": [
  {
   "cell_type": "code",
   "execution_count": 1,
   "metadata": {},
   "outputs": [],
   "source": [
    "# load MET dataset\n",
    "\n",
    "import numpy as np\n",
    "import copy\n",
    "import os\n",
    "import sys\n",
    "import math\n",
    "from tqdm import tqdm\n",
    "from scripts import dataset\n",
    "from scripts import config\n"
   ]
  },
  {
   "cell_type": "code",
   "execution_count": 2,
   "metadata": {},
   "outputs": [
    {
     "name": "stderr",
     "output_type": "stream",
     "text": [
      "15it [00:00, 123.93it/s]"
     ]
    },
    {
     "name": "stdout",
     "output_type": "stream",
     "text": [
      "/var/data/MET2/activity_20180618.csv\n",
      "/var/data/MET2\n",
      "Reading dataset from /var/data/MET2/activity_20180618.csv\n",
      "Downscale images to the height 400px\n"
     ]
    },
    {
     "name": "stderr",
     "output_type": "stream",
     "text": [
      "54it [00:00, 74.99it/s] "
     ]
    },
    {
     "name": "stdout",
     "output_type": "stream",
     "text": [
      "/var/data/MET2/image/office activities/walking about/46.jpg contains non-valid joints\n",
      "[1 1 0 1 1 1 1 1]\n",
      "/var/data/MET2/image/office activities/writing/11.bmp contains non-valid joints\n",
      "[1 1 1 1 0 0 1 1]\n",
      "/var/data/MET2/image/office activities/writing/17.bmp contains non-valid joints\n",
      "[1 1 1 1 1 1 0 1]\n",
      "/var/data/MET2/image/office activities/writing/19.bmp contains non-valid joints\n",
      "[1 1 1 1 0 0 1 1]\n",
      "/var/data/MET2/image/office activities/writing/24.jpeg contains non-valid joints\n",
      "[1 1 1 1 1 0 1 1]\n",
      "/var/data/MET2/image/office activities/writing/25.jpeg contains non-valid joints\n",
      "[1 1 1 1 1 0 1 1]\n",
      "/var/data/MET2/image/office activities/writing/27.jpeg contains non-valid joints\n",
      "[1 1 1 0 1 1 1 1]\n",
      "/var/data/MET2/image/office activities/writing/30.jpeg contains non-valid joints\n",
      "[1 1 1 1 0 1 1 1]\n",
      "/var/data/MET2/image/office activities/writing/35.jpeg contains non-valid joints\n",
      "[1 1 1 1 1 1 1 0]\n",
      "/var/data/MET2/image/office activities/writing/38.jpeg contains non-valid joints\n",
      "[1 0 1 1 1 1 0 1]\n",
      "/var/data/MET2/image/office activities/writing/55.jpeg contains non-valid joints\n",
      "[1 1 1 0 1 1 1 1]\n",
      "/var/data/MET2/image/office activities/writing/58.jpeg contains non-valid joints\n",
      "[1 1 1 1 0 1 1 1]\n"
     ]
    },
    {
     "name": "stderr",
     "output_type": "stream",
     "text": [
      "\r",
      "136it [00:00, 161.03it/s]"
     ]
    },
    {
     "name": "stdout",
     "output_type": "stream",
     "text": [
      "/var/data/MET2/image/office activities/reading.seated/17.jpg contains non-valid joints\n",
      "[1 1 1 1 1 0 1 1]\n",
      "/var/data/MET2/image/office activities/reading.seated/23.png contains non-valid joints\n",
      "[0 0 0 1 1 1 1 1]\n",
      "/var/data/MET2/image/office activities/reading.seated/25.png contains non-valid joints\n",
      "[1 1 1 1 0 0 1 1]\n"
     ]
    },
    {
     "name": "stderr",
     "output_type": "stream",
     "text": [
      "233it [00:01, 140.43it/s]"
     ]
    },
    {
     "name": "stdout",
     "output_type": "stream",
     "text": [
      "/var/data/MET2/image/office activities/typing/10.bmp contains non-valid joints\n",
      "[1 0 0 1 0 1 1 1]\n",
      "/var/data/MET2/image/office activities/typing/33.bmp contains non-valid joints\n",
      "[1 0 1 1 0 1 1 1]\n"
     ]
    },
    {
     "name": "stderr",
     "output_type": "stream",
     "text": [
      "302it [00:01, 157.92it/s]"
     ]
    },
    {
     "name": "stdout",
     "output_type": "stream",
     "text": [
      "/var/data/MET2/image/office activities/lifting.packing/lifting/60.jpg contains non-valid joints\n",
      "[0 1 1 0 0 1 1 1]\n"
     ]
    },
    {
     "name": "stderr",
     "output_type": "stream",
     "text": [
      "329it [00:02, 135.80it/s]/home/yyoo/src/deeppose/scripts/dataset.py:153: UserWarning: Skipping joint with incorrect joints coordinates. They are out of the image.\n",
      "image: /var/data/MET2/image/office activities/lifting.packing/packing/41.png, joint: [522. 701.], im.shape: (328, 622)\n",
      "  'image: {}, joint: {}, im.shape: {}'.format(img_path, joints[i_joint], image_shape[:2]))\n",
      "412it [00:03, 134.40it/s]"
     ]
    },
    {
     "name": "stdout",
     "output_type": "stream",
     "text": [
      "/var/data/MET2/image/office activities/filing.seated/1.bmp contains non-valid joints\n",
      "[1 1 1 1 0 1 1 1]\n",
      "/var/data/MET2/image/office activities/filing.seated/10.bmp contains non-valid joints\n",
      "[1 0 0 1 1 1 1 1]\n",
      "/var/data/MET2/image/office activities/filing.seated/12.bmp contains non-valid joints\n",
      "[1 0 1 1 1 1 1 1]\n",
      "/var/data/MET2/image/office activities/filing.seated/13.bmp contains non-valid joints\n",
      "[1 0 1 1 0 1 1 1]\n",
      "/var/data/MET2/image/office activities/filing.seated/19.bmp contains non-valid joints\n",
      "[1 1 1 1 1 0 1 1]\n",
      "/var/data/MET2/image/office activities/filing.seated/2.bmp contains non-valid joints\n",
      "[1 1 1 1 0 1 1 1]\n",
      "/var/data/MET2/image/office activities/filing.seated/20.bmp contains non-valid joints\n",
      "[1 1 0 1 1 1 1 1]\n",
      "/var/data/MET2/image/office activities/filing.seated/24.jpg contains non-valid joints\n",
      "[1 1 1 1 0 1 1 1]\n",
      "/var/data/MET2/image/office activities/filing.seated/27.jpg contains non-valid joints\n",
      "[0 1 1 1 1 1 1 1]\n",
      "/var/data/MET2/image/office activities/filing.seated/29.jpg contains non-valid joints\n",
      "[1 1 1 1 1 1 1 0]\n",
      "/var/data/MET2/image/office activities/filing.seated/3.bmp contains non-valid joints\n",
      "[1 0 1 1 1 1 1 1]\n",
      "/var/data/MET2/image/office activities/filing.seated/31.jpg contains non-valid joints\n",
      "[1 1 1 0 0 1 1 1]\n",
      "/var/data/MET2/image/office activities/filing.seated/35.jpg contains non-valid joints\n",
      "[1 1 1 1 1 0 1 1]\n",
      "/var/data/MET2/image/office activities/filing.seated/4.bmp contains non-valid joints\n",
      "[1 1 1 1 1 1 0 1]\n",
      "/var/data/MET2/image/office activities/filing.seated/42.jpg contains non-valid joints\n",
      "[0 0 1 1 1 1 1 1]\n",
      "/var/data/MET2/image/office activities/filing.seated/45.jpg contains non-valid joints\n",
      "[1 1 1 1 0 1 1 1]\n",
      "/var/data/MET2/image/office activities/filing.seated/47.jpg contains non-valid joints\n",
      "[0 0 0 1 1 1 1 1]\n",
      "/var/data/MET2/image/office activities/filing.seated/49.jpg contains non-valid joints\n",
      "[1 1 1 1 0 1 1 1]\n",
      "/var/data/MET2/image/office activities/filing.seated/5.bmp contains non-valid joints\n",
      "[1 0 1 1 1 1 1 1]\n",
      "/var/data/MET2/image/office activities/filing.seated/51.jpg contains non-valid joints\n",
      "[1 1 1 1 0 0 1 1]\n",
      "/var/data/MET2/image/office activities/filing.seated/55.jpg contains non-valid joints\n",
      "[1 1 1 1 0 1 1 1]\n"
     ]
    },
    {
     "name": "stderr",
     "output_type": "stream",
     "text": [
      "474it [00:03, 143.25it/s]"
     ]
    },
    {
     "name": "stdout",
     "output_type": "stream",
     "text": [
      "/var/data/MET2/image/office activities/filing.seated/58.jpg contains non-valid joints\n",
      "[1 1 1 1 1 1 0 1]\n",
      "/var/data/MET2/image/office activities/filing.seated/6.bmp contains non-valid joints\n",
      "[1 1 1 1 0 1 1 1]\n",
      "/var/data/MET2/image/office activities/filing.stand/10.bmp contains non-valid joints\n",
      "[0 0 1 1 1 1 1 1]\n",
      "/var/data/MET2/image/office activities/filing.stand/12.bmp contains non-valid joints\n",
      "[1 1 1 1 0 1 1 1]\n",
      "/var/data/MET2/image/office activities/filing.stand/13.bmp contains non-valid joints\n",
      "[0 0 1 1 1 1 1 1]\n",
      "/var/data/MET2/image/office activities/filing.stand/14.bmp contains non-valid joints\n",
      "[1 1 1 1 0 1 1 1]\n",
      "/var/data/MET2/image/office activities/filing.stand/16.bmp contains non-valid joints\n",
      "[1 1 1 0 0 0 1 1]\n",
      "/var/data/MET2/image/office activities/filing.stand/20.jpg contains non-valid joints\n",
      "[1 1 1 1 0 0 1 1]\n",
      "/var/data/MET2/image/office activities/filing.stand/21.jpg contains non-valid joints\n",
      "[1 1 1 1 0 1 1 1]\n",
      "/var/data/MET2/image/office activities/filing.stand/22.jpg contains non-valid joints\n",
      "[1 1 1 1 1 1 0 1]\n",
      "/var/data/MET2/image/office activities/filing.stand/24.jpg contains non-valid joints\n",
      "[1 1 1 1 0 0 1 1]\n",
      "/var/data/MET2/image/office activities/filing.stand/25.jpg contains non-valid joints\n",
      "[1 1 1 1 0 1 1 1]\n",
      "/var/data/MET2/image/office activities/filing.stand/26.jpg contains non-valid joints\n",
      "[0 0 1 1 1 1 1 1]\n",
      "/var/data/MET2/image/office activities/filing.stand/28.jpg contains non-valid joints\n",
      "[1 0 1 1 1 1 1 1]\n",
      "/var/data/MET2/image/office activities/filing.stand/29.jpg contains non-valid joints\n",
      "[1 1 1 1 0 1 1 1]\n",
      "/var/data/MET2/image/office activities/filing.stand/31.jpg contains non-valid joints\n",
      "[1 0 1 1 1 1 1 1]\n",
      "/var/data/MET2/image/office activities/filing.stand/33.jpg contains non-valid joints\n",
      "[1 0 1 1 1 1 1 1]\n",
      "/var/data/MET2/image/office activities/filing.stand/34.jpg contains non-valid joints\n",
      "[1 0 1 1 1 1 1 1]\n",
      "/var/data/MET2/image/office activities/filing.stand/36.jpg contains non-valid joints\n",
      "[1 1 1 1 1 0 1 1]\n",
      "/var/data/MET2/image/office activities/filing.stand/37.jpg contains non-valid joints\n",
      "[1 1 1 1 0 0 1 1]\n",
      "/var/data/MET2/image/office activities/filing.stand/40.jpg contains non-valid joints\n",
      "[1 1 1 1 0 0 1 1]\n",
      "/var/data/MET2/image/office activities/filing.stand/47.jpg contains non-valid joints\n",
      "[1 1 1 1 0 0 1 1]\n",
      "/var/data/MET2/image/office activities/filing.stand/49.jpg contains non-valid joints\n",
      "[1 1 1 1 0 0 1 1]\n",
      "/var/data/MET2/image/office activities/filing.stand/5.bmp contains non-valid joints\n",
      "[1 1 0 1 1 1 1 1]\n",
      "/var/data/MET2/image/office activities/filing.stand/52.JPG contains non-valid joints\n",
      "[1 1 1 1 0 0 1 1]\n",
      "/var/data/MET2/image/office activities/filing.stand/53.jpg contains non-valid joints\n",
      "[1 1 1 1 0 0 1 1]\n",
      "/var/data/MET2/image/office activities/filing.stand/58.PNG contains non-valid joints\n",
      "[1 1 1 1 1 0 1 1]\n",
      "/var/data/MET2/image/miscellaneous occupational activity/cooking/2.png contains non-valid joints\n",
      "[0 0 1 1 1 1 1 1]\n",
      "/var/data/MET2/image/miscellaneous occupational activity/cooking/6.jpg contains non-valid joints\n",
      "[0 0 0 1 1 1 1 1]\n",
      "/var/data/MET2/image/miscellaneous occupational activity/cooking/10.jpg contains non-valid joints\n",
      "[1 1 1 1 1 1 1 0]\n",
      "/var/data/MET2/image/miscellaneous occupational activity/cooking/11.jpg contains non-valid joints\n",
      "[1 1 1 1 1 1 1 0]\n",
      "/var/data/MET2/image/miscellaneous occupational activity/cooking/13.jpg contains non-valid joints\n",
      "[1 1 1 1 1 1 1 0]\n",
      "/var/data/MET2/image/miscellaneous occupational activity/cooking/15.jpg contains non-valid joints\n",
      "[1 1 1 1 0 1 1 1]\n"
     ]
    },
    {
     "name": "stderr",
     "output_type": "stream",
     "text": [
      "569it [00:03, 151.54it/s]"
     ]
    },
    {
     "name": "stdout",
     "output_type": "stream",
     "text": [
      "/var/data/MET2/image/miscellaneous occupational activity/cooking/53.PNG contains non-valid joints\n",
      "[1 1 1 1 0 1 1 1]\n"
     ]
    },
    {
     "name": "stderr",
     "output_type": "stream",
     "text": [
      "624it [00:03, 157.42it/s]"
     ]
    },
    {
     "name": "stdout",
     "output_type": "stream",
     "text": [
      "/var/data/MET2/image/miscellaneous occupational activity/house cleaning/35.png contains non-valid joints\n",
      "[1 1 1 1 1 0 1 1]\n",
      "/var/data/MET2/image/miscellaneous occupational activity/house cleaning/38.jpg contains non-valid joints\n",
      "[1 1 1 1 1 1 0 1]\n",
      "/var/data/MET2/image/miscellaneous occupational activity/house cleaning/39.jpg contains non-valid joints\n",
      "[0 1 1 1 1 1 1 1]\n",
      "/var/data/MET2/image/miscellaneous occupational activity/house cleaning/52.jpg contains non-valid joints\n",
      "[1 1 1 1 1 1 0 1]\n",
      "/var/data/MET2/image/miscellaneous occupational activity/machine work.light/4.png contains non-valid joints\n",
      "[1 1 1 1 1 1 1 0]\n",
      "/var/data/MET2/image/miscellaneous occupational activity/machine work.light/6.jpg contains non-valid joints\n",
      "[0 1 1 1 1 1 1 1]\n"
     ]
    },
    {
     "name": "stderr",
     "output_type": "stream",
     "text": [
      "687it [00:04, 159.11it/s]"
     ]
    },
    {
     "name": "stdout",
     "output_type": "stream",
     "text": [
      "/var/data/MET2/image/miscellaneous occupational activity/machine work.light/31.jpg contains non-valid joints\n",
      "[1 1 1 1 0 1 1 1]\n",
      "/var/data/MET2/image/miscellaneous occupational activity/machine work.light/40.jpg contains non-valid joints\n",
      "[1 1 1 1 1 1 1 0]\n",
      "/var/data/MET2/image/miscellaneous occupational activity/machine work.sawing/1.jpg contains non-valid joints\n",
      "[1 1 1 1 1 1 0 0]\n"
     ]
    },
    {
     "name": "stderr",
     "output_type": "stream",
     "text": [
      "739it [00:04, 161.69it/s]"
     ]
    },
    {
     "name": "stdout",
     "output_type": "stream",
     "text": [
      "/var/data/MET2/image/miscellaneous occupational activity/machine work.sawing/5.jpg contains non-valid joints\n",
      "[1 1 1 1 0 0 1 1]\n",
      "/var/data/MET2/image/miscellaneous occupational activity/machine work.sawing/57.jpg contains non-valid joints\n",
      "[1 1 1 1 1 1 1 0]\n",
      "/var/data/MET2/image/miscellaneous occupational activity/machine work.sawing/55.jpg contains non-valid joints\n",
      "[1 0 1 1 1 1 1 1]\n"
     ]
    },
    {
     "name": "stderr",
     "output_type": "stream",
     "text": [
      "763it [00:04, 162.86it/s]/home/yyoo/src/deeppose/scripts/dataset.py:153: UserWarning: Skipping joint with incorrect joints coordinates. They are out of the image.\n",
      "image: /var/data/MET2/image/resting/seated.quiet/31.jpg, joint: [660.         175.83333333], im.shape: (400, 267)\n",
      "  'image: {}, joint: {}, im.shape: {}'.format(img_path, joints[i_joint], image_shape[:2]))\n",
      "836it [00:04, 170.52it/s]"
     ]
    },
    {
     "name": "stdout",
     "output_type": "stream",
     "text": [
      "/var/data/MET2/image/resting/reclining/7.png contains non-valid joints\n",
      "[1 1 1 0 1 1 1 1]\n",
      "/var/data/MET2/image/resting/seated.quiet/31.jpg contains non-valid joints\n",
      "[0 0 1 1 1 1 1 1]\n",
      "/var/data/MET2/image/resting/sleeping/10.png contains non-valid joints\n",
      "[1 1 1 1 1 0 1 1]\n"
     ]
    },
    {
     "name": "stderr",
     "output_type": "stream",
     "text": [
      "959it [00:05, 190.15it/s]"
     ]
    },
    {
     "name": "stdout",
     "output_type": "stream",
     "text": [
      "/var/data/MET2/image/resting/sleeping/16.png contains non-valid joints\n",
      "[1 1 1 1 1 0 1 1]\n",
      "/var/data/MET2/image/resting/sleeping/24.jpg contains non-valid joints\n",
      "[1 1 1 1 1 0 1 1]\n",
      "/var/data/MET2/image/resting/sleeping/30.jpg contains non-valid joints\n",
      "[1 1 0 1 1 1 1 1]\n",
      "Joints shape: (8, 2)\n",
      "data ready\n"
     ]
    },
    {
     "name": "stderr",
     "output_type": "stream",
     "text": [
      "\n"
     ]
    }
   ],
   "source": [
    "dataset_name = 'met'\n",
    "#dataset_name = 'met-ub'\n",
    "\n",
    "if dataset_name not in ['met', 'met-ub', 'lsp', 'mpii']:\n",
    "    raise ValueError('Unknown dataset: {}'.format(dataset_name))\n",
    "\n",
    "if dataset_name == 'mpii':\n",
    "    TEST_CV_FILEPATH = os.path.join(config.MPII_DATASET_ROOT, 'test_joints.csv')\n",
    "    IMG_PATH_PREFIX = os.path.join(config.MPII_DATASET_ROOT, 'images')\n",
    "    symmetric_joints = \"[[12, 13], [11, 14], [10, 15], [2, 3], [1, 4], [0, 5]]\"\n",
    "    ignore_label = -100500\n",
    "elif dataset_name == 'lsp': # LSP dataset\n",
    "    TEST_CV_FILEPATH = os.path.join(config.LSP_DATASET_ROOT, 'test_joints.csv')\n",
    "    IMG_PATH_PREFIX = os.path.join(config.LSP_DATASET_ROOT, 'images')\n",
    "    symmetric_joints = \"[[8, 9], [7, 10], [6, 11], [2, 3], [1, 4], [0, 5]]\"\n",
    "    ignore_label = -1\n",
    "elif dataset_name == 'met': # MET dataset\n",
    "    #TEST_CV_FILEPATH = os.path.join(config.MET_DATASET_ROOT, 'activity1.csv') # test only one image\n",
    "    #TEST_CV_FILEPATH = os.path.join(config.MET_DATASET_ROOT, 'activity.csv')    \n",
    "    #TEST_CV_FILEPATH = os.path.join(config.MET_DATASET_ROOT, 'activity_wo.csv')\n",
    "    TEST_CV_FILEPATH = os.path.join(config.MET_DATASET_ROOT, 'activity_20180618.csv')\n",
    "    # for debugging\n",
    "    #TEST_CV_FILEPATH = os.path.join(config.MET_DATASET_ROOT, 'writing46.csv')  # with valid joints info\n",
    "    #TEST_CV_FILEPATH = os.path.join(config.MET_DATASET_ROOT, 'writing46nv.csv')  # without valid joints info\n",
    "    IMG_PATH_PREFIX = os.path.join(config.MET_DATASET_ROOT)\n",
    "    symmetric_joints = \"[[8, 9], [7, 10], [6, 11], [2, 3], [1, 4], [0, 5]]\"\n",
    "    ignore_label = -1\n",
    "elif dataset_name == 'met-ub': # MET dataset with upper body \n",
    "    #TEST_CV_FILEPATH = os.path.join(config.MET_DATASET_ROOT, 'activity_wo_ub.csv')\n",
    "    TEST_CV_FILEPATH = os.path.join(config.MET_DATASET_ROOT, 'activity-met_n10_ub.csv')\n",
    "    IMG_PATH_PREFIX = os.path.join(config.MET_DATASET_ROOT)\n",
    "    symmetric_joints = \"[[8, 9], [7, 10], [6, 11], [2, 3], [1, 4], [0, 5]]\"\n",
    "    ignore_label = -1\n",
    "else:\n",
    "    pass\n",
    " \n",
    "    \n",
    "print(TEST_CV_FILEPATH)\n",
    "print(IMG_PATH_PREFIX)\n",
    "\n",
    "test_dataset = dataset.PoseDataset(\n",
    "    TEST_CV_FILEPATH,\n",
    "    IMG_PATH_PREFIX, 227,\n",
    "    fliplr=False, rotate=False,\n",
    "    shift=None,\n",
    "    #bbox_extension_range=(1.0, 1.0),\n",
    "    bbox_extension_range=(1.4, 1.4),\n",
    "    coord_normalize=True,\n",
    "    gcn=True,\n",
    "    fname_index=0,\n",
    "    #joint_index=1, joint_index_end=29,\n",
    "    joint_index=13, joint_index_end=29,\n",
    "    symmetric_joints=symmetric_joints,\n",
    "    ignore_label=ignore_label,\n",
    "    should_return_bbox=True,\n",
    "    should_downscale_images=True,\n",
    "    downscale_height=400\n",
    ")\n",
    "\n",
    "print(\"data ready\")"
   ]
  },
  {
   "cell_type": "markdown",
   "metadata": {},
   "source": [
    "## Let's first understand how to process one image"
   ]
  },
  {
   "cell_type": "code",
   "execution_count": 3,
   "metadata": {},
   "outputs": [
    {
     "name": "stdout",
     "output_type": "stream",
     "text": [
      "68 98\n"
     ]
    },
    {
     "data": {
      "text/plain": [
       "[<matplotlib.lines.Line2D at 0x7f5359180c18>]"
      ]
     },
     "execution_count": 3,
     "metadata": {},
     "output_type": "execute_result"
    },
    {
     "data": {
      "image/png": "[encoded data removed]",
      "text/plain": [
       "<Figure size 432x288 with 1 Axes>"
      ]
     },
     "metadata": {},
     "output_type": "display_data"
    }
   ],
   "source": [
    "from matplotlib import pyplot as plt\n",
    "%matplotlib inline\n",
    "\n",
    "imageIdx = 0   # this image has only upper body\n",
    "img=test_dataset.get_original_image(imageIdx)\n",
    "\n",
    "\n",
    "image, joints, is_valid_joints, misc = test_dataset.get_example(imageIdx)\n",
    "valid_joints = joints[is_valid_joints].reshape(-1,2)\n",
    "\n",
    "#bbox=misc['orig_tightest_bbox']\n",
    "bbox=misc['bbox']\n",
    "\n",
    "\n",
    "# plot joints\n",
    "plt.imshow(img[:,:,::-1])\n",
    "# plot joints\n",
    "offsetX = bbox[0]\n",
    "offsetY = bbox[1]\n",
    "W = bbox[2]#-bbox[0]\n",
    "H = bbox[3]#-bbox[1]\n",
    "print(W,H)\n",
    "plt.plot((valid_joints[:,0]+0.5)*W+offsetX, (valid_joints[:,1]+0.5)*H+offsetY,'or')"
   ]
  },
  {
   "cell_type": "code",
   "execution_count": 4,
   "metadata": {},
   "outputs": [
    {
     "name": "stdout",
     "output_type": "stream",
     "text": [
      "['image', 'office activities', 'walking about', '1.png']\n",
      "walking about 01 png\n"
     ]
    }
   ],
   "source": [
    "# let's parse image name\n",
    "id = misc['image_id'].split('/')\n",
    "print(id)\n",
    "\n",
    "activity = id[-2]\n",
    "filename = id[-1]\n",
    "filename_no, filename_ext = filename.split('.',1)\n",
    "filename_no = int(filename_no)\n",
    "filename_no = '{:02d}'.format(filename_no) # add leaning 0 for one digit numbers\n",
    "\n",
    "print(activity, filename_no, filename_ext)\n",
    "\n"
   ]
  },
  {
   "cell_type": "code",
   "execution_count": 5,
   "metadata": {},
   "outputs": [
    {
     "data": {
      "text/plain": [
       "<Figure size 432x288 with 0 Axes>"
      ]
     },
     "metadata": {},
     "output_type": "display_data"
    }
   ],
   "source": [
    "# try to save\n",
    "import os\n",
    "folderName = 'joints/{}'.format(activity)\n",
    "if not os.path.exists(folderName):\n",
    "    os.makedirs(folderName)\n",
    "plt.savefig(folderName+'/'+filename_no+'.'+filename_ext)"
   ]
  },
  {
   "cell_type": "markdown",
   "metadata": {},
   "source": [
    "## Let's repeat for all the images!"
   ]
  },
  {
   "cell_type": "code",
   "execution_count": 6,
   "metadata": {},
   "outputs": [
    {
     "name": "stderr",
     "output_type": "stream",
     "text": [
      "\r",
      "  0%|          | 0/957 [00:00<?, ?it/s]"
     ]
    },
    {
     "name": "stdout",
     "output_type": "stream",
     "text": [
      "68 98\n",
      "walking about 01 png\n"
     ]
    },
    {
     "name": "stderr",
     "output_type": "stream",
     "text": [
      "\r",
      "  0%|          | 2/957 [00:00<00:48, 19.64it/s]"
     ]
    },
    {
     "name": "stdout",
     "output_type": "stream",
     "text": [
      "80 124\n",
      "walking about 10 png\n",
      "38 234\n",
      "walking about 11 jpg\n",
      "90 138\n",
      "walking about 12 jpg\n"
     ]
    },
    {
     "name": "stderr",
     "output_type": "stream",
     "text": [
      "\r",
      "  0%|          | 4/957 [00:00<00:53, 17.96it/s]"
     ]
    },
    {
     "name": "stdout",
     "output_type": "stream",
     "text": [
      "55 151\n",
      "walking about 13 jpg\n"
     ]
    },
    {
     "name": "stderr",
     "output_type": "stream",
     "text": [
      "\r",
      "  1%|          | 6/957 [00:00<00:53, 17.89it/s]"
     ]
    },
    {
     "name": "stdout",
     "output_type": "stream",
     "text": [
      "119 212\n",
      "walking about 14 png\n",
      "159 212\n",
      "walking about 15 png\n"
     ]
    },
    {
     "name": "stderr",
     "output_type": "stream",
     "text": [
      "\r",
      "  1%|          | 8/957 [00:00<00:53, 17.82it/s]"
     ]
    },
    {
     "name": "stdout",
     "output_type": "stream",
     "text": [
      "61 151\n",
      "walking about 16 png\n",
      "95 103\n",
      "walking about 17 jpg\n"
     ]
    },
    {
     "name": "stderr",
     "output_type": "stream",
     "text": [
      "\r",
      "  1%|          | 10/957 [00:00<00:53, 17.73it/s]"
     ]
    },
    {
     "name": "stdout",
     "output_type": "stream",
     "text": [
      "87 123\n",
      "walking about 18 png\n",
      "145 143\n",
      "walking about 19 png\n"
     ]
    },
    {
     "name": "stderr",
     "output_type": "stream",
     "text": [
      "\r",
      "  1%|▏         | 12/957 [00:00<00:53, 17.71it/s]"
     ]
    },
    {
     "name": "stdout",
     "output_type": "stream",
     "text": [
      "118 182\n",
      "walking about 02 png\n",
      "89 180\n",
      "walking about 20 jpg\n"
     ]
    },
    {
     "name": "stderr",
     "output_type": "stream",
     "text": [
      "\r",
      "  1%|▏         | 14/957 [00:00<00:53, 17.66it/s]"
     ]
    },
    {
     "name": "stdout",
     "output_type": "stream",
     "text": [
      "182 188\n",
      "walking about 21 png\n",
      "147 269\n",
      "walking about 22 png\n"
     ]
    },
    {
     "name": "stderr",
     "output_type": "stream",
     "text": [
      "\r",
      "  2%|▏         | 16/957 [00:00<00:53, 17.63it/s]"
     ]
    },
    {
     "name": "stdout",
     "output_type": "stream",
     "text": [
      "94 232\n",
      "walking about 23 png\n",
      "106 286\n",
      "walking about 24 png\n"
     ]
    },
    {
     "name": "stderr",
     "output_type": "stream",
     "text": [
      "\r",
      "  2%|▏         | 18/957 [00:01<00:53, 17.59it/s]"
     ]
    },
    {
     "name": "stdout",
     "output_type": "stream",
     "text": [
      "151 259\n",
      "walking about 25 png\n",
      "182 261\n",
      "walking about 26 png\n",
      "157 266\n",
      "walking about 27 jpg\n"
     ]
    },
    {
     "name": "stderr",
     "output_type": "stream",
     "text": [
      "\r",
      "  2%|▏         | 20/957 [00:01<00:53, 17.45it/s]"
     ]
    },
    {
     "name": "stdout",
     "output_type": "stream",
     "text": [
      "118 254\n",
      "walking about 28 png\n"
     ]
    },
    {
     "name": "stderr",
     "output_type": "stream",
     "text": [
      "\r",
      "  2%|▏         | 22/957 [00:01<00:53, 17.35it/s]"
     ]
    },
    {
     "name": "stdout",
     "output_type": "stream",
     "text": [
      "96 259\n",
      "walking about 29 png\n",
      "108 188\n",
      "walking about 03 png\n",
      "137 176\n",
      "walking about 30 png\n"
     ]
    },
    {
     "name": "stderr",
     "output_type": "stream",
     "text": [
      "  3%|▎         | 26/957 [00:01<00:55, 16.87it/s]"
     ]
    },
    {
     "name": "stdout",
     "output_type": "stream",
     "text": [
      "185 241\n",
      "walking about 31 png\n",
      "79 246\n",
      "walking about 32 png\n",
      "122 225\n",
      "walking about 33 png\n",
      "188 204\n",
      "walking about 34 png\n"
     ]
    },
    {
     "name": "stderr",
     "output_type": "stream",
     "text": [
      "\r",
      "  3%|▎         | 28/957 [00:01<00:55, 16.83it/s]"
     ]
    },
    {
     "name": "stdout",
     "output_type": "stream",
     "text": [
      "79 281\n",
      "walking about 35 png\n",
      "97 276\n",
      "walking about 36 png\n"
     ]
    },
    {
     "name": "stderr",
     "output_type": "stream",
     "text": [
      "  3%|▎         | 32/957 [00:01<00:54, 16.91it/s]"
     ]
    },
    {
     "name": "stdout",
     "output_type": "stream",
     "text": [
      "95 258\n",
      "walking about 37 jpg\n",
      "112 248\n",
      "walking about 38 jpg\n",
      "163 272\n",
      "walking about 39 jpg\n",
      "169 265\n",
      "walking about 04 png\n"
     ]
    },
    {
     "name": "stderr",
     "output_type": "stream",
     "text": [
      "\r",
      "  4%|▎         | 34/957 [00:02<00:54, 16.79it/s]"
     ]
    },
    {
     "name": "stdout",
     "output_type": "stream",
     "text": [
      "181 231\n",
      "walking about 40 jpg\n",
      "53 264\n",
      "walking about 41 png\n"
     ]
    },
    {
     "name": "stderr",
     "output_type": "stream",
     "text": [
      "  4%|▍         | 38/957 [00:02<00:54, 16.84it/s]"
     ]
    },
    {
     "name": "stdout",
     "output_type": "stream",
     "text": [
      "106 192\n",
      "walking about 42 png\n",
      "158 275\n",
      "walking about 43 jpg\n",
      "91 192\n",
      "walking about 44 jpg\n",
      "143 140\n",
      "walking about 45 png\n"
     ]
    },
    {
     "name": "stderr",
     "output_type": "stream",
     "text": [
      "\r",
      "  4%|▍         | 40/957 [00:02<00:54, 16.79it/s]"
     ]
    },
    {
     "name": "stdout",
     "output_type": "stream",
     "text": [
      "115 164\n",
      "walking about 46 jpg\n",
      "96 153\n",
      "walking about 47 jpg\n"
     ]
    },
    {
     "name": "stderr",
     "output_type": "stream",
     "text": [
      "\r",
      "  4%|▍         | 42/957 [00:02<00:54, 16.84it/s]"
     ]
    },
    {
     "name": "stdout",
     "output_type": "stream",
     "text": [
      "69 268\n",
      "walking about 48 png\n",
      "104 182\n",
      "walking about 49 png\n"
     ]
    },
    {
     "name": "stderr",
     "output_type": "stream",
     "text": [
      "\r",
      "  5%|▍         | 44/957 [00:02<00:54, 16.80it/s]"
     ]
    },
    {
     "name": "stdout",
     "output_type": "stream",
     "text": [
      "130 187\n",
      "walking about 05 png\n",
      "171 224\n",
      "walking about 50 png\n"
     ]
    },
    {
     "name": "stderr",
     "output_type": "stream",
     "text": [
      "\r",
      "  5%|▍         | 46/957 [00:02<00:54, 16.77it/s]"
     ]
    },
    {
     "name": "stdout",
     "output_type": "stream",
     "text": [
      "89 240\n",
      "walking about 51 png\n",
      "164 223\n",
      "walking about 52 jpg\n"
     ]
    },
    {
     "name": "stderr",
     "output_type": "stream",
     "text": [
      "\r",
      "  5%|▌         | 48/957 [00:02<00:54, 16.79it/s]"
     ]
    },
    {
     "name": "stdout",
     "output_type": "stream",
     "text": [
      "85 255\n",
      "walking about 53 jpg\n",
      "118 227\n",
      "walking about 54 jpg\n"
     ]
    },
    {
     "name": "stderr",
     "output_type": "stream",
     "text": [
      "\r",
      "  5%|▌         | 50/957 [00:02<00:54, 16.77it/s]"
     ]
    },
    {
     "name": "stdout",
     "output_type": "stream",
     "text": [
      "144 256\n",
      "walking about 55 jpg\n",
      "145 261\n",
      "walking about 56 png\n"
     ]
    },
    {
     "name": "stderr",
     "output_type": "stream",
     "text": [
      "\r",
      "  5%|▌         | 52/957 [00:03<00:54, 16.72it/s]"
     ]
    },
    {
     "name": "stdout",
     "output_type": "stream",
     "text": [
      "183 219\n",
      "walking about 57 png\n",
      "132 255\n",
      "walking about 58 png\n"
     ]
    },
    {
     "name": "stderr",
     "output_type": "stream",
     "text": [
      "\r",
      "  6%|▌         | 54/957 [00:03<00:53, 16.73it/s]"
     ]
    },
    {
     "name": "stdout",
     "output_type": "stream",
     "text": [
      "57 191\n",
      "walking about 59 jpg\n",
      "158 236\n",
      "walking about 06 png\n"
     ]
    },
    {
     "name": "stderr",
     "output_type": "stream",
     "text": [
      "\r",
      "  6%|▌         | 56/957 [00:03<00:54, 16.68it/s]"
     ]
    },
    {
     "name": "stdout",
     "output_type": "stream",
     "text": [
      "76 164\n",
      "walking about 60 jpg\n",
      "111 111\n",
      "walking about 07 png\n"
     ]
    },
    {
     "name": "stderr",
     "output_type": "stream",
     "text": [
      "\r",
      "  6%|▌         | 58/957 [00:03<00:54, 16.65it/s]"
     ]
    },
    {
     "name": "stdout",
     "output_type": "stream",
     "text": [
      "129 203\n",
      "walking about 08 png\n",
      "18 115\n",
      "walking about 09 png\n"
     ]
    },
    {
     "name": "stderr",
     "output_type": "stream",
     "text": [
      "\r",
      "  6%|▋         | 60/957 [00:03<00:53, 16.63it/s]"
     ]
    },
    {
     "name": "stdout",
     "output_type": "stream",
     "text": [
      "166 124\n",
      "writing 01 bmp\n",
      "233 157\n",
      "writing 10 bmp\n"
     ]
    },
    {
     "name": "stderr",
     "output_type": "stream",
     "text": [
      "\r",
      "  6%|▋         | 62/957 [00:03<00:53, 16.61it/s]"
     ]
    },
    {
     "name": "stdout",
     "output_type": "stream",
     "text": [
      "102 192\n",
      "writing 11 bmp\n",
      "175 171\n",
      "writing 12 jpeg\n"
     ]
    },
    {
     "name": "stderr",
     "output_type": "stream",
     "text": [
      "\r",
      "  7%|▋         | 64/957 [00:03<00:53, 16.54it/s]"
     ]
    },
    {
     "name": "stdout",
     "output_type": "stream",
     "text": [
      "94 150\n",
      "writing 13 jpeg\n",
      "112 171\n",
      "writing 14 bmp\n"
     ]
    },
    {
     "name": "stderr",
     "output_type": "stream",
     "text": [
      "\r",
      "  7%|▋         | 66/957 [00:03<00:53, 16.51it/s]"
     ]
    },
    {
     "name": "stdout",
     "output_type": "stream",
     "text": [
      "290 145\n",
      "writing 14 jpeg\n",
      "200 131\n",
      "writing 15 bmp\n"
     ]
    },
    {
     "name": "stderr",
     "output_type": "stream",
     "text": [
      "\r",
      "  7%|▋         | 68/957 [00:04<00:53, 16.47it/s]"
     ]
    },
    {
     "name": "stdout",
     "output_type": "stream",
     "text": [
      "192 158\n",
      "writing 16 bmp\n",
      "196 138\n",
      "writing 17 bmp\n"
     ]
    },
    {
     "name": "stderr",
     "output_type": "stream",
     "text": [
      "\r",
      "  7%|▋         | 70/957 [00:04<00:54, 16.42it/s]"
     ]
    },
    {
     "name": "stdout",
     "output_type": "stream",
     "text": [
      "139 117\n",
      "writing 18 bmp\n",
      "228 127\n",
      "writing 19 bmp\n"
     ]
    },
    {
     "name": "stderr",
     "output_type": "stream",
     "text": [
      "\r",
      "  8%|▊         | 72/957 [00:04<00:53, 16.40it/s]"
     ]
    },
    {
     "name": "stdout",
     "output_type": "stream",
     "text": [
      "208 178\n",
      "writing 02 jpeg\n",
      "174 183\n",
      "writing 20 jpeg\n"
     ]
    },
    {
     "name": "stderr",
     "output_type": "stream",
     "text": [
      "\r",
      "  8%|▊         | 74/957 [00:04<00:54, 16.35it/s]"
     ]
    },
    {
     "name": "stdout",
     "output_type": "stream",
     "text": [
      "231 186\n",
      "writing 21 jpeg\n",
      "240 194\n",
      "writing 22 jpeg\n"
     ]
    },
    {
     "name": "stderr",
     "output_type": "stream",
     "text": [
      "\r",
      "  8%|▊         | 76/957 [00:04<00:53, 16.32it/s]"
     ]
    },
    {
     "name": "stdout",
     "output_type": "stream",
     "text": [
      "137 170\n",
      "writing 23 jpeg\n",
      "207 183\n",
      "writing 24 jpeg\n"
     ]
    },
    {
     "name": "stderr",
     "output_type": "stream",
     "text": [
      "\r",
      "  8%|▊         | 78/957 [00:04<00:54, 16.27it/s]"
     ]
    },
    {
     "name": "stdout",
     "output_type": "stream",
     "text": [
      "223 183\n",
      "writing 25 jpeg\n"
     ]
    },
    {
     "name": "stderr",
     "output_type": "stream",
     "text": [
      "\r",
      "  8%|▊         | 80/957 [00:04<00:54, 16.08it/s]"
     ]
    },
    {
     "name": "stdout",
     "output_type": "stream",
     "text": [
      "81 87\n",
      "writing 26 jpeg\n",
      "166 179\n",
      "writing 27 jpeg\n",
      "185 125\n",
      "writing 28 jpeg\n"
     ]
    },
    {
     "name": "stderr",
     "output_type": "stream",
     "text": [
      "\r",
      "  9%|▊         | 82/957 [00:05<00:55, 15.83it/s]"
     ]
    },
    {
     "name": "stdout",
     "output_type": "stream",
     "text": [
      "213 98\n",
      "writing 29 jpeg\n",
      "321 223\n",
      "writing 03 bmp\n"
     ]
    },
    {
     "name": "stderr",
     "output_type": "stream",
     "text": [
      "\r",
      "  9%|▉         | 84/957 [00:05<00:55, 15.78it/s]"
     ]
    },
    {
     "name": "stdout",
     "output_type": "stream",
     "text": [
      "183 270\n",
      "writing 30 jpeg\n",
      "207 126\n",
      "writing 31 jpeg\n"
     ]
    },
    {
     "name": "stderr",
     "output_type": "stream",
     "text": [
      "\r",
      "  9%|▉         | 86/957 [00:05<00:55, 15.79it/s]"
     ]
    },
    {
     "name": "stdout",
     "output_type": "stream",
     "text": [
      "216 166\n",
      "writing 32 jpeg\n",
      "132 182\n",
      "writing 33 jpeg\n"
     ]
    },
    {
     "name": "stderr",
     "output_type": "stream",
     "text": [
      "\r",
      "  9%|▉         | 88/957 [00:05<00:55, 15.76it/s]"
     ]
    },
    {
     "name": "stdout",
     "output_type": "stream",
     "text": [
      "275 183\n",
      "writing 34 jpeg\n",
      "275 131\n",
      "writing 35 jpeg\n"
     ]
    },
    {
     "name": "stderr",
     "output_type": "stream",
     "text": [
      "\r",
      "  9%|▉         | 90/957 [00:05<00:55, 15.74it/s]"
     ]
    },
    {
     "name": "stdout",
     "output_type": "stream",
     "text": [
      "123 196\n",
      "writing 36 jpeg\n",
      "217 183\n",
      "writing 37 jpeg\n"
     ]
    },
    {
     "name": "stderr",
     "output_type": "stream",
     "text": [
      "\r",
      " 10%|▉         | 92/957 [00:05<00:54, 15.73it/s]"
     ]
    },
    {
     "name": "stdout",
     "output_type": "stream",
     "text": [
      "166 154\n",
      "writing 38 jpeg\n",
      "161 183\n",
      "writing 39 jpeg\n"
     ]
    },
    {
     "name": "stderr",
     "output_type": "stream",
     "text": [
      "\r",
      " 10%|▉         | 94/957 [00:05<00:54, 15.71it/s]"
     ]
    },
    {
     "name": "stdout",
     "output_type": "stream",
     "text": [
      "513 243\n",
      "writing 04 bmp\n"
     ]
    },
    {
     "name": "stderr",
     "output_type": "stream",
     "text": [
      "\r",
      " 10%|█         | 96/957 [00:06<00:54, 15.68it/s]"
     ]
    },
    {
     "name": "stdout",
     "output_type": "stream",
     "text": [
      "158 153\n",
      "writing 40 jpeg\n",
      "186 154\n",
      "writing 41 jpeg\n",
      "130 122\n",
      "writing 42 jpeg\n"
     ]
    },
    {
     "name": "stderr",
     "output_type": "stream",
     "text": [
      " 10%|█         | 100/957 [00:06<00:54, 15.67it/s]"
     ]
    },
    {
     "name": "stdout",
     "output_type": "stream",
     "text": [
      "161 164\n",
      "writing 43 jpeg\n",
      "178 182\n",
      "writing 44 jpeg\n",
      "140 110\n",
      "writing 45 jpeg\n",
      "181 180\n",
      "writing 46 jpeg\n"
     ]
    },
    {
     "name": "stderr",
     "output_type": "stream",
     "text": [
      " 11%|█         | 104/957 [00:06<00:54, 15.68it/s]"
     ]
    },
    {
     "name": "stdout",
     "output_type": "stream",
     "text": [
      "178 143\n",
      "writing 47 jpeg\n",
      "97 112\n",
      "writing 48 jpeg\n",
      "215 185\n",
      "writing 49 jpeg\n",
      "392 337\n",
      "writing 05 jpg\n"
     ]
    },
    {
     "name": "stderr",
     "output_type": "stream",
     "text": [
      " 11%|█▏        | 108/957 [00:06<00:54, 15.65it/s]"
     ]
    },
    {
     "name": "stdout",
     "output_type": "stream",
     "text": [
      "164 191\n",
      "writing 50 jpeg\n",
      "126 146\n",
      "writing 51 jpeg\n",
      "299 260\n",
      "writing 52 jpg\n"
     ]
    },
    {
     "name": "stderr",
     "output_type": "stream",
     "text": [
      " 12%|█▏        | 112/957 [00:07<00:54, 15.58it/s]"
     ]
    },
    {
     "name": "stdout",
     "output_type": "stream",
     "text": [
      "158 157\n",
      "writing 53 jpeg\n",
      "174 156\n",
      "writing 54 jpeg\n",
      "175 183\n",
      "writing 55 jpeg\n",
      "199 171\n",
      "writing 56 jpeg\n"
     ]
    },
    {
     "name": "stderr",
     "output_type": "stream",
     "text": [
      " 12%|█▏        | 116/957 [00:07<00:54, 15.57it/s]"
     ]
    },
    {
     "name": "stdout",
     "output_type": "stream",
     "text": [
      "211 207\n",
      "writing 57 jpeg\n",
      "154 166\n",
      "writing 58 jpeg\n",
      "206 168\n",
      "writing 59 jpeg\n"
     ]
    },
    {
     "name": "stderr",
     "output_type": "stream",
     "text": [
      "\r",
      " 12%|█▏        | 118/957 [00:07<00:53, 15.54it/s]"
     ]
    },
    {
     "name": "stdout",
     "output_type": "stream",
     "text": [
      "485 400\n",
      "writing 06 jpg\n",
      "130 175\n",
      "writing 60 jpeg\n",
      "158 140\n",
      "writing 07 bmp\n",
      "442 390\n",
      "writing 08 bmp\n"
     ]
    },
    {
     "name": "stderr",
     "output_type": "stream",
     "text": [
      " 13%|█▎        | 122/957 [00:07<00:53, 15.47it/s]"
     ]
    },
    {
     "name": "stdout",
     "output_type": "stream",
     "text": [
      "448 400\n",
      "reading.seated 01 bmp\n",
      "118 172\n",
      "reading.seated 10 bmp\n",
      "188 137\n",
      "reading.seated 11 bmp\n"
     ]
    },
    {
     "name": "stderr",
     "output_type": "stream",
     "text": [
      " 13%|█▎        | 126/957 [00:08<00:53, 15.50it/s]"
     ]
    },
    {
     "name": "stdout",
     "output_type": "stream",
     "text": [
      "237 164\n",
      "reading.seated 12 bmp\n",
      "111 140\n",
      "reading.seated 13 bmp\n",
      "112 83\n",
      "reading.seated 14 bmp\n",
      "122 91\n",
      "reading.seated 15 bmp\n"
     ]
    },
    {
     "name": "stderr",
     "output_type": "stream",
     "text": [
      " 14%|█▎        | 130/957 [00:08<00:53, 15.50it/s]"
     ]
    },
    {
     "name": "stdout",
     "output_type": "stream",
     "text": [
      "115 129\n",
      "reading.seated 16 bmp\n",
      "349 314\n",
      "reading.seated 17 jpg\n",
      "130 153\n",
      "reading.seated 18 bmp\n",
      "77 87\n",
      "reading.seated 19 bmp\n"
     ]
    },
    {
     "name": "stderr",
     "output_type": "stream",
     "text": [
      " 14%|█▍        | 134/957 [00:08<00:53, 15.49it/s]"
     ]
    },
    {
     "name": "stdout",
     "output_type": "stream",
     "text": [
      "343 382\n",
      "reading.seated 02 bmp\n",
      "166 158\n",
      "reading.seated 20 bmp\n",
      "228 243\n",
      "reading.seated 21 jpg\n"
     ]
    },
    {
     "name": "stderr",
     "output_type": "stream",
     "text": [
      "\r",
      " 14%|█▍        | 136/957 [00:08<00:53, 15.39it/s]"
     ]
    },
    {
     "name": "stdout",
     "output_type": "stream",
     "text": [
      "337 370\n",
      "reading.seated 22 jpg\n",
      "105 125\n",
      "reading.seated 23 png\n",
      "254 273\n",
      "reading.seated 24 png\n"
     ]
    },
    {
     "name": "stderr",
     "output_type": "stream",
     "text": [
      " 15%|█▍        | 140/957 [00:09<00:53, 15.37it/s]"
     ]
    },
    {
     "name": "stdout",
     "output_type": "stream",
     "text": [
      "141 235\n",
      "reading.seated 25 png\n",
      "469 400\n",
      "reading.seated 26 png\n",
      "145 229\n",
      "reading.seated 27 png\n"
     ]
    },
    {
     "name": "stderr",
     "output_type": "stream",
     "text": [
      "\r",
      " 15%|█▍        | 142/957 [00:09<00:53, 15.36it/s]"
     ]
    },
    {
     "name": "stdout",
     "output_type": "stream",
     "text": [
      "238 333\n",
      "reading.seated 28 jpg\n",
      "189 210\n",
      "reading.seated 29 png\n",
      "208 143\n",
      "reading.seated 03 bmp\n"
     ]
    },
    {
     "name": "stderr",
     "output_type": "stream",
     "text": [
      " 15%|█▌        | 146/957 [00:09<00:52, 15.31it/s]"
     ]
    },
    {
     "name": "stdout",
     "output_type": "stream",
     "text": [
      "165 186\n",
      "reading.seated 30 jpg\n",
      "160 176\n",
      "reading.seated 31 jpg\n",
      "162 233\n",
      "reading.seated 32 jpg\n"
     ]
    },
    {
     "name": "stderr",
     "output_type": "stream",
     "text": [
      "\r",
      " 15%|█▌        | 148/957 [00:09<00:52, 15.27it/s]"
     ]
    },
    {
     "name": "stdout",
     "output_type": "stream",
     "text": [
      "154 171\n",
      "reading.seated 33 jpg\n",
      "195 232\n",
      "reading.seated 34 jpg\n",
      "215 291\n",
      "reading.seated 35 png\n"
     ]
    },
    {
     "name": "stderr",
     "output_type": "stream",
     "text": [
      " 16%|█▌        | 152/957 [00:09<00:52, 15.21it/s]"
     ]
    },
    {
     "name": "stdout",
     "output_type": "stream",
     "text": [
      "549 400\n",
      "reading.seated 36 jpg\n",
      "281 274\n",
      "reading.seated 37 jpg\n",
      "206 242\n",
      "reading.seated 38 jpg\n"
     ]
    },
    {
     "name": "stderr",
     "output_type": "stream",
     "text": [
      "\r",
      " 16%|█▌        | 154/957 [00:10<00:52, 15.18it/s]"
     ]
    },
    {
     "name": "stdout",
     "output_type": "stream",
     "text": [
      "231 336\n",
      "reading.seated 39 jpg\n",
      "368 317\n",
      "reading.seated 04 jpg\n",
      "197 214\n",
      "reading.seated 40 jpg\n"
     ]
    },
    {
     "name": "stderr",
     "output_type": "stream",
     "text": [
      " 17%|█▋        | 158/957 [00:10<00:52, 15.11it/s]"
     ]
    },
    {
     "name": "stdout",
     "output_type": "stream",
     "text": [
      "240 394\n",
      "reading.seated 41 jpg\n",
      "367 400\n",
      "reading.seated 42 jpg\n",
      "81 179\n",
      "reading.seated 43 jpg\n"
     ]
    },
    {
     "name": "stderr",
     "output_type": "stream",
     "text": [
      "\r",
      " 17%|█▋        | 160/957 [00:10<00:52, 15.07it/s]"
     ]
    },
    {
     "name": "stdout",
     "output_type": "stream",
     "text": [
      "202 332\n",
      "reading.seated 44 jpg\n",
      "222 139\n",
      "reading.seated 45 png\n",
      "143 212\n",
      "reading.seated 46 jpg\n"
     ]
    },
    {
     "name": "stderr",
     "output_type": "stream",
     "text": [
      "\r",
      " 17%|█▋        | 162/957 [00:10<00:52, 15.02it/s]"
     ]
    },
    {
     "name": "stdout",
     "output_type": "stream",
     "text": [
      "147 222\n",
      "reading.seated 47 png\n",
      "216 300\n",
      "reading.seated 48 jpg\n",
      "318 277\n",
      "reading.seated 49 jpg\n"
     ]
    },
    {
     "name": "stderr",
     "output_type": "stream",
     "text": [
      " 17%|█▋        | 166/957 [00:11<00:52, 15.00it/s]"
     ]
    },
    {
     "name": "stdout",
     "output_type": "stream",
     "text": [
      "108 112\n",
      "reading.seated 05 bmp\n",
      "355 270\n",
      "reading.seated 50 jpg\n",
      "286 294\n",
      "reading.seated 51 jpg\n",
      "207 192\n",
      "reading.seated 52 jpg\n"
     ]
    },
    {
     "name": "stderr",
     "output_type": "stream",
     "text": [
      " 18%|█▊        | 170/957 [00:11<00:52, 14.97it/s]"
     ]
    },
    {
     "name": "stdout",
     "output_type": "stream",
     "text": [
      "152 215\n",
      "reading.seated 53 jpg\n",
      "228 283\n",
      "reading.seated 54 jpg\n",
      "106 135\n",
      "reading.seated 55 jpg\n"
     ]
    },
    {
     "name": "stderr",
     "output_type": "stream",
     "text": [
      " 18%|█▊        | 174/957 [00:11<00:52, 14.93it/s]"
     ]
    },
    {
     "name": "stdout",
     "output_type": "stream",
     "text": [
      "82 88\n",
      "reading.seated 56 jpg\n",
      "185 151\n",
      "reading.seated 57 jpg\n",
      "394 204\n",
      "reading.seated 58 png\n"
     ]
    },
    {
     "name": "stderr",
     "output_type": "stream",
     "text": [
      "\r",
      " 18%|█▊        | 176/957 [00:11<00:52, 14.94it/s]"
     ]
    },
    {
     "name": "stdout",
     "output_type": "stream",
     "text": [
      "227 305\n",
      "reading.seated 59 jpg\n",
      "77 94\n",
      "reading.seated 06 bmp\n",
      "445 300\n",
      "reading.seated 60 jpg\n",
      "96 100\n",
      "reading.seated 07 bmp\n"
     ]
    },
    {
     "name": "stderr",
     "output_type": "stream",
     "text": [
      " 19%|█▉        | 180/957 [00:12<00:51, 14.94it/s]"
     ]
    },
    {
     "name": "stdout",
     "output_type": "stream",
     "text": [
      "361 400\n",
      "reading.seated 08 jpg\n",
      "111 115\n",
      "reading.seated 09 bmp\n",
      "315 382\n",
      "typing 01 bmp\n"
     ]
    },
    {
     "name": "stderr",
     "output_type": "stream",
     "text": [
      " 19%|█▉        | 184/957 [00:12<00:51, 14.90it/s]"
     ]
    },
    {
     "name": "stdout",
     "output_type": "stream",
     "text": [
      "178 400\n",
      "typing 10 bmp\n",
      "139 164\n",
      "typing 11 bmp\n",
      "168 173\n",
      "typing 12 bmp\n"
     ]
    },
    {
     "name": "stderr",
     "output_type": "stream",
     "text": [
      "\r",
      " 19%|█▉        | 186/957 [00:12<00:51, 14.92it/s]"
     ]
    },
    {
     "name": "stdout",
     "output_type": "stream",
     "text": [
      "133 141\n",
      "typing 13 bmp\n",
      "129 123\n",
      "typing 14 bmp\n",
      "154 145\n",
      "typing 15 bmp\n",
      "130 136\n",
      "typing 16 bmp\n"
     ]
    },
    {
     "name": "stderr",
     "output_type": "stream",
     "text": [
      " 20%|█▉        | 190/957 [00:12<00:51, 14.88it/s]"
     ]
    },
    {
     "name": "stdout",
     "output_type": "stream",
     "text": [
      "117 104\n",
      "typing 17 bmp\n",
      "101 135\n",
      "typing 18 bmp\n",
      "136 140\n",
      "typing 19 bmp\n"
     ]
    },
    {
     "name": "stderr",
     "output_type": "stream",
     "text": [
      " 20%|██        | 194/957 [00:13<00:51, 14.85it/s]"
     ]
    },
    {
     "name": "stdout",
     "output_type": "stream",
     "text": [
      "374 389\n",
      "typing 02 bmp\n",
      "115 138\n",
      "typing 20 bmp\n",
      "317 400\n",
      "typing 21 bmp\n"
     ]
    },
    {
     "name": "stderr",
     "output_type": "stream",
     "text": [
      "\r",
      " 20%|██        | 196/957 [00:13<00:51, 14.83it/s]"
     ]
    },
    {
     "name": "stdout",
     "output_type": "stream",
     "text": [
      "273 389\n",
      "typing 22 bmp\n",
      "376 389\n",
      "typing 23 bmp\n",
      "376 400\n",
      "typing 24 bmp\n"
     ]
    },
    {
     "name": "stderr",
     "output_type": "stream",
     "text": [
      "\r",
      " 21%|██        | 198/957 [00:13<00:51, 14.79it/s]"
     ]
    },
    {
     "name": "stdout",
     "output_type": "stream",
     "text": [
      "419 400\n",
      "typing 25 bmp\n",
      "318 400\n",
      "typing 26 bmp\n",
      "297 240\n",
      "typing 27 bmp\n"
     ]
    },
    {
     "name": "stderr",
     "output_type": "stream",
     "text": [
      " 21%|██        | 202/957 [00:13<00:51, 14.74it/s]"
     ]
    },
    {
     "name": "stdout",
     "output_type": "stream",
     "text": [
      "189 263\n",
      "typing 28 bmp\n",
      "335 400\n",
      "typing 29 bmp\n",
      "226 246\n",
      "typing 03 bmp\n"
     ]
    },
    {
     "name": "stderr",
     "output_type": "stream",
     "text": [
      "\r",
      " 21%|██▏       | 204/957 [00:13<00:51, 14.72it/s]"
     ]
    },
    {
     "name": "stdout",
     "output_type": "stream",
     "text": [
      "355 400\n",
      "typing 30 bmp\n",
      "301 282\n",
      "typing 31 bmp\n",
      "181 275\n",
      "typing 32 bmp\n"
     ]
    },
    {
     "name": "stderr",
     "output_type": "stream",
     "text": [
      " 22%|██▏       | 208/957 [00:14<00:51, 14.65it/s]"
     ]
    },
    {
     "name": "stdout",
     "output_type": "stream",
     "text": [
      "311 393\n",
      "typing 33 bmp\n",
      "328 315\n",
      "typing 34 bmp\n",
      "517 400\n",
      "typing 35 bmp\n"
     ]
    },
    {
     "name": "stderr",
     "output_type": "stream",
     "text": [
      " 22%|██▏       | 212/957 [00:14<00:50, 14.64it/s]"
     ]
    },
    {
     "name": "stdout",
     "output_type": "stream",
     "text": [
      "190 355\n",
      "typing 36 bmp\n",
      "255 282\n",
      "typing 37 bmp\n",
      "175 208\n",
      "typing 38 bmp\n"
     ]
    },
    {
     "name": "stderr",
     "output_type": "stream",
     "text": [
      "\r",
      " 22%|██▏       | 214/957 [00:14<00:50, 14.63it/s]"
     ]
    },
    {
     "name": "stdout",
     "output_type": "stream",
     "text": [
      "484 400\n",
      "typing 39 bmp\n",
      "388 361\n",
      "typing 04 bmp\n",
      "302 373\n",
      "typing 40 bmp\n"
     ]
    },
    {
     "name": "stderr",
     "output_type": "stream",
     "text": [
      " 23%|██▎       | 218/957 [00:14<00:50, 14.59it/s]"
     ]
    },
    {
     "name": "stdout",
     "output_type": "stream",
     "text": [
      "273 280\n",
      "typing 41 bmp\n",
      "349 342\n",
      "typing 42 bmp\n",
      "151 207\n",
      "typing 43 bmp\n"
     ]
    },
    {
     "name": "stderr",
     "output_type": "stream",
     "text": [
      "\r",
      " 23%|██▎       | 220/957 [00:15<00:50, 14.57it/s]"
     ]
    },
    {
     "name": "stdout",
     "output_type": "stream",
     "text": [
      "321 379\n",
      "typing 44 bmp\n",
      "229 201\n",
      "typing 45 bmp\n",
      "166 186\n",
      "typing 46 bmp\n"
     ]
    },
    {
     "name": "stderr",
     "output_type": "stream",
     "text": [
      " 23%|██▎       | 224/957 [00:15<00:50, 14.56it/s]"
     ]
    },
    {
     "name": "stdout",
     "output_type": "stream",
     "text": [
      "207 202\n",
      "typing 47 bmp\n",
      "394 397\n",
      "typing 48 bmp\n",
      "466 400\n",
      "typing 49 bmp\n"
     ]
    },
    {
     "name": "stderr",
     "output_type": "stream",
     "text": [
      "\r",
      " 24%|██▎       | 226/957 [00:15<00:50, 14.55it/s]"
     ]
    },
    {
     "name": "stdout",
     "output_type": "stream",
     "text": [
      "166 144\n",
      "typing 05 bmp\n",
      "366 375\n",
      "typing 50 bmp\n",
      "518 376\n",
      "typing 51 bmp\n"
     ]
    },
    {
     "name": "stderr",
     "output_type": "stream",
     "text": [
      "\r",
      " 24%|██▍       | 228/957 [00:15<00:50, 14.49it/s]"
     ]
    },
    {
     "name": "stdout",
     "output_type": "stream",
     "text": [
      "258 263\n",
      "typing 52 bmp\n",
      "295 367\n",
      "typing 53 bmp\n"
     ]
    },
    {
     "name": "stderr",
     "output_type": "stream",
     "text": [
      "\r",
      " 24%|██▍       | 230/957 [00:15<00:50, 14.44it/s]"
     ]
    },
    {
     "name": "stdout",
     "output_type": "stream",
     "text": [
      "408 400\n",
      "typing 54 bmp\n",
      "329 384\n",
      "typing 55 bmp\n",
      "139 234\n",
      "typing 56 bmp\n"
     ]
    },
    {
     "name": "stderr",
     "output_type": "stream",
     "text": [
      " 24%|██▍       | 234/957 [00:16<00:50, 14.40it/s]"
     ]
    },
    {
     "name": "stdout",
     "output_type": "stream",
     "text": [
      "384 358\n",
      "typing 57 bmp\n",
      "368 400\n",
      "typing 58 bmp\n",
      "480 400\n",
      "typing 59 bmp\n"
     ]
    },
    {
     "name": "stderr",
     "output_type": "stream",
     "text": [
      "\r",
      " 25%|██▍       | 236/957 [00:16<00:50, 14.36it/s]"
     ]
    },
    {
     "name": "stdout",
     "output_type": "stream",
     "text": [
      "76 143\n",
      "typing 06 bmp\n",
      "405 359\n",
      "typing 60 bmp\n"
     ]
    },
    {
     "name": "stderr",
     "output_type": "stream",
     "text": [
      " 25%|██▌       | 240/957 [00:16<00:50, 14.32it/s]"
     ]
    },
    {
     "name": "stdout",
     "output_type": "stream",
     "text": [
      "223 315\n",
      "typing 07 bmp\n",
      "70 89\n",
      "typing 08 bmp\n",
      "102 160\n",
      "typing 09 bmp\n",
      "288 291\n",
      "lifting 01 png\n"
     ]
    },
    {
     "name": "stderr",
     "output_type": "stream",
     "text": [
      " 25%|██▌       | 244/957 [00:17<00:49, 14.33it/s]"
     ]
    },
    {
     "name": "stdout",
     "output_type": "stream",
     "text": [
      "398 206\n",
      "lifting 10 jpg\n",
      "96 150\n",
      "lifting 11 jpg\n",
      "52 171\n",
      "lifting 12 jpg\n",
      "181 223\n",
      "lifting 13 jpg\n"
     ]
    },
    {
     "name": "stderr",
     "output_type": "stream",
     "text": [
      " 26%|██▌       | 248/957 [00:17<00:49, 14.35it/s]"
     ]
    },
    {
     "name": "stdout",
     "output_type": "stream",
     "text": [
      "230 222\n",
      "lifting 14 jpg\n",
      "55 143\n",
      "lifting 15 jpg\n",
      "103 137\n",
      "lifting 16 jpg\n",
      "79 229\n",
      "lifting 17 png\n"
     ]
    },
    {
     "name": "stderr",
     "output_type": "stream",
     "text": [
      " 26%|██▋       | 252/957 [00:17<00:49, 14.34it/s]"
     ]
    },
    {
     "name": "stdout",
     "output_type": "stream",
     "text": [
      "112 273\n",
      "lifting 18 png\n",
      "137 197\n",
      "lifting 19 png\n",
      "123 158\n",
      "lifting 02 png\n",
      "203 101\n",
      "lifting 20 png\n"
     ]
    },
    {
     "name": "stderr",
     "output_type": "stream",
     "text": [
      "\r",
      " 27%|██▋       | 254/957 [00:17<00:49, 14.30it/s]"
     ]
    },
    {
     "name": "stdout",
     "output_type": "stream",
     "text": [
      "61 152\n",
      "lifting 21 jpg\n",
      "60 175\n",
      "lifting 44 jpg\n",
      "53 196\n",
      "lifting 23 jpg\n"
     ]
    },
    {
     "name": "stderr",
     "output_type": "stream",
     "text": [
      " 27%|██▋       | 258/957 [00:18<00:48, 14.28it/s]"
     ]
    },
    {
     "name": "stdout",
     "output_type": "stream",
     "text": [
      "69 152\n",
      "lifting 24 png\n",
      "81 290\n",
      "lifting 25 jpg\n",
      "238 184\n",
      "lifting 26 jpg\n"
     ]
    },
    {
     "name": "stderr",
     "output_type": "stream",
     "text": [
      " 27%|██▋       | 262/957 [00:18<00:48, 14.27it/s]"
     ]
    },
    {
     "name": "stdout",
     "output_type": "stream",
     "text": [
      "255 317\n",
      "lifting 27 jpg\n",
      "152 177\n",
      "lifting 28 jpg\n",
      "245 257\n",
      "lifting 29 png\n"
     ]
    },
    {
     "name": "stderr",
     "output_type": "stream",
     "text": [
      "\r",
      " 28%|██▊       | 264/957 [00:18<00:48, 14.28it/s]"
     ]
    },
    {
     "name": "stdout",
     "output_type": "stream",
     "text": [
      "40 117\n",
      "lifting 03 png\n",
      "310 398\n",
      "lifting 30 jpg\n",
      "211 210\n",
      "lifting 31 jpg\n",
      "115 275\n",
      "lifting 32 png\n"
     ]
    },
    {
     "name": "stderr",
     "output_type": "stream",
     "text": [
      " 28%|██▊       | 268/957 [00:18<00:48, 14.31it/s]"
     ]
    },
    {
     "name": "stdout",
     "output_type": "stream",
     "text": [
      "187 243\n",
      "lifting 33 jpg\n",
      "148 222\n",
      "lifting 34 jpg\n",
      "195 322\n",
      "lifting 35 jpg\n"
     ]
    },
    {
     "name": "stderr",
     "output_type": "stream",
     "text": [
      " 28%|██▊       | 272/957 [00:18<00:47, 14.32it/s]"
     ]
    },
    {
     "name": "stdout",
     "output_type": "stream",
     "text": [
      "48 255\n",
      "lifting 36 jpg\n",
      "80 76\n",
      "lifting 37 png\n",
      "136 256\n",
      "lifting 38 jpg\n",
      "193 192\n",
      "lifting 39 jpg\n"
     ]
    },
    {
     "name": "stderr",
     "output_type": "stream",
     "text": [
      " 29%|██▉       | 276/957 [00:19<00:47, 14.33it/s]"
     ]
    },
    {
     "name": "stdout",
     "output_type": "stream",
     "text": [
      "59 119\n",
      "lifting 04 png\n",
      "187 220\n",
      "lifting 40 jpg\n",
      "133 143\n",
      "lifting 41 jpg\n"
     ]
    },
    {
     "name": "stderr",
     "output_type": "stream",
     "text": [
      "\r",
      " 29%|██▉       | 278/957 [00:19<00:47, 14.28it/s]"
     ]
    },
    {
     "name": "stdout",
     "output_type": "stream",
     "text": [
      "199 207\n",
      "lifting 31 jpg\n",
      "185 188\n",
      "lifting 43 jpg\n",
      "60 175\n",
      "lifting 44 jpg\n"
     ]
    },
    {
     "name": "stderr",
     "output_type": "stream",
     "text": [
      " 29%|██▉       | 282/957 [00:19<00:47, 14.21it/s]"
     ]
    },
    {
     "name": "stdout",
     "output_type": "stream",
     "text": [
      "84 192\n",
      "lifting 45 jpg\n",
      "109 164\n",
      "lifting 46 jpg\n",
      "52 118\n",
      "lifting 47 png\n"
     ]
    },
    {
     "name": "stderr",
     "output_type": "stream",
     "text": [
      "\r",
      " 30%|██▉       | 284/957 [00:19<00:47, 14.22it/s]"
     ]
    },
    {
     "name": "stdout",
     "output_type": "stream",
     "text": [
      "97 103\n",
      "lifting 48 jpg\n",
      "108 76\n",
      "lifting 49 png\n",
      "275 351\n",
      "lifting 05 png\n"
     ]
    },
    {
     "name": "stderr",
     "output_type": "stream",
     "text": [
      " 30%|███       | 288/957 [00:20<00:47, 14.23it/s]"
     ]
    },
    {
     "name": "stdout",
     "output_type": "stream",
     "text": [
      "84 96\n",
      "lifting 50 png\n",
      "75 115\n",
      "lifting 51 jpg\n",
      "82 151\n",
      "lifting 52 jpg\n",
      "84 244\n",
      "lifting 53 png\n"
     ]
    },
    {
     "name": "stderr",
     "output_type": "stream",
     "text": [
      " 31%|███       | 292/957 [00:20<00:46, 14.23it/s]"
     ]
    },
    {
     "name": "stdout",
     "output_type": "stream",
     "text": [
      "102 304\n",
      "lifting 54 jpg\n",
      "151 179\n",
      "lifting 55 jpg\n",
      "150 271\n",
      "lifting 56 jpg\n"
     ]
    },
    {
     "name": "stderr",
     "output_type": "stream",
     "text": [
      "\r",
      " 31%|███       | 294/957 [00:20<00:46, 14.24it/s]"
     ]
    },
    {
     "name": "stdout",
     "output_type": "stream",
     "text": [
      "218 197\n",
      "lifting 57 png\n",
      "153 132\n",
      "lifting 58 jpg\n",
      "283 307\n",
      "lifting 59 jpg\n",
      "175 237\n",
      "lifting 06 png\n"
     ]
    },
    {
     "name": "stderr",
     "output_type": "stream",
     "text": [
      " 31%|███       | 298/957 [00:20<00:46, 14.25it/s]"
     ]
    },
    {
     "name": "stdout",
     "output_type": "stream",
     "text": [
      "419 316\n",
      "lifting 60 jpg\n",
      "155 73\n",
      "lifting 07 jpg\n",
      "91 108\n",
      "lifting 08 jpg\n",
      "77 130\n",
      "lifting 09 jpg\n"
     ]
    },
    {
     "name": "stderr",
     "output_type": "stream",
     "text": [
      " 32%|███▏      | 302/957 [00:21<00:45, 14.26it/s]"
     ]
    },
    {
     "name": "stdout",
     "output_type": "stream",
     "text": [
      "193 345\n",
      "packing 01 png\n",
      "325 194\n",
      "packing 10 png\n",
      "223 313\n",
      "packing 11 png\n"
     ]
    },
    {
     "name": "stderr",
     "output_type": "stream",
     "text": [
      "\r",
      " 32%|███▏      | 304/957 [00:21<00:45, 14.25it/s]"
     ]
    },
    {
     "name": "stdout",
     "output_type": "stream",
     "text": [
      "159 207\n",
      "packing 12 png\n",
      "139 243\n",
      "packing 13 png\n",
      "192 212\n",
      "packing 14 png\n"
     ]
    },
    {
     "name": "stderr",
     "output_type": "stream",
     "text": [
      " 32%|███▏      | 308/957 [00:21<00:45, 14.23it/s]"
     ]
    },
    {
     "name": "stdout",
     "output_type": "stream",
     "text": [
      "271 224\n",
      "packing 15 png\n",
      "493 400\n",
      "packing 16 png\n",
      "55 141\n",
      "packing 17 png\n"
     ]
    },
    {
     "name": "stderr",
     "output_type": "stream",
     "text": [
      " 33%|███▎      | 312/957 [00:21<00:45, 14.21it/s]"
     ]
    },
    {
     "name": "stdout",
     "output_type": "stream",
     "text": [
      "92 188\n",
      "packing 18 png\n",
      "207 250\n",
      "packing 19 png\n",
      "118 133\n",
      "packing 02 jpg\n"
     ]
    },
    {
     "name": "stderr",
     "output_type": "stream",
     "text": [
      "\r",
      " 33%|███▎      | 314/957 [00:22<00:45, 14.20it/s]"
     ]
    },
    {
     "name": "stdout",
     "output_type": "stream",
     "text": [
      "235 400\n",
      "packing 20 png\n",
      "202 360\n",
      "packing 21 png\n",
      "268 341\n",
      "packing 22 png\n"
     ]
    },
    {
     "name": "stderr",
     "output_type": "stream",
     "text": [
      " 33%|███▎      | 318/957 [00:22<00:45, 14.19it/s]"
     ]
    },
    {
     "name": "stdout",
     "output_type": "stream",
     "text": [
      "219 255\n",
      "packing 23 png\n",
      "145 270\n",
      "packing 24 png\n",
      "268 205\n",
      "packing 25 png\n"
     ]
    },
    {
     "name": "stderr",
     "output_type": "stream",
     "text": [
      "\r",
      " 33%|███▎      | 320/957 [00:22<00:44, 14.17it/s]"
     ]
    },
    {
     "name": "stdout",
     "output_type": "stream",
     "text": [
      "382 378\n",
      "packing 26 png\n",
      "277 400\n",
      "packing 27 png\n",
      "151 346\n",
      "packing 28 png\n"
     ]
    },
    {
     "name": "stderr",
     "output_type": "stream",
     "text": [
      " 34%|███▍      | 324/957 [00:22<00:44, 14.15it/s]"
     ]
    },
    {
     "name": "stdout",
     "output_type": "stream",
     "text": [
      "171 394\n",
      "packing 29 png\n",
      "82 89\n",
      "packing 03 jpg\n",
      "276 298\n",
      "packing 30 png\n"
     ]
    },
    {
     "name": "stderr",
     "output_type": "stream",
     "text": [
      "\r",
      " 34%|███▍      | 326/957 [00:23<00:44, 14.14it/s]"
     ]
    },
    {
     "name": "stdout",
     "output_type": "stream",
     "text": [
      "180 313\n",
      "packing 31 png\n",
      "234 292\n",
      "packing 32 png\n",
      "441 385\n",
      "packing 33 png\n"
     ]
    },
    {
     "name": "stderr",
     "output_type": "stream",
     "text": [
      "\r",
      " 34%|███▍      | 328/957 [00:23<00:44, 14.13it/s]"
     ]
    },
    {
     "name": "stdout",
     "output_type": "stream",
     "text": [
      "130 112\n",
      "packing 34 png\n",
      "370 400\n",
      "packing 35 png\n",
      "340 395\n",
      "packing 36 png\n"
     ]
    },
    {
     "name": "stderr",
     "output_type": "stream",
     "text": [
      " 35%|███▍      | 332/957 [00:23<00:44, 14.08it/s]"
     ]
    },
    {
     "name": "stdout",
     "output_type": "stream",
     "text": [
      "205 272\n",
      "packing 37 png\n",
      "186 294\n",
      "packing 38 png\n",
      "179 399\n",
      "packing 39 png\n"
     ]
    },
    {
     "name": "stderr",
     "output_type": "stream",
     "text": [
      "\r",
      " 35%|███▍      | 334/957 [00:23<00:44, 14.08it/s]"
     ]
    },
    {
     "name": "stdout",
     "output_type": "stream",
     "text": [
      "105 189\n",
      "packing 04 png\n",
      "278 362\n",
      "packing 40 png\n",
      "81 160\n",
      "packing 43 png\n"
     ]
    },
    {
     "name": "stderr",
     "output_type": "stream",
     "text": [
      " 35%|███▌      | 338/957 [00:24<00:44, 14.06it/s]"
     ]
    },
    {
     "name": "stdout",
     "output_type": "stream",
     "text": [
      "142 274\n",
      "packing 44 png\n",
      "230 271\n",
      "packing 45 png\n",
      "306 342\n",
      "packing 46 png\n"
     ]
    },
    {
     "name": "stderr",
     "output_type": "stream",
     "text": [
      " 36%|███▌      | 342/957 [00:24<00:43, 14.05it/s]"
     ]
    },
    {
     "name": "stdout",
     "output_type": "stream",
     "text": [
      "323 375\n",
      "packing 47 png\n",
      "286 293\n",
      "packing 48 png\n",
      "315 299\n",
      "packing 49 png\n"
     ]
    },
    {
     "name": "stderr",
     "output_type": "stream",
     "text": [
      "\r",
      " 36%|███▌      | 344/957 [00:24<00:43, 14.01it/s]"
     ]
    },
    {
     "name": "stdout",
     "output_type": "stream",
     "text": [
      "117 152\n",
      "packing 05 png\n",
      "395 400\n",
      "packing 50 png\n"
     ]
    },
    {
     "name": "stderr",
     "output_type": "stream",
     "text": [
      "\r",
      " 36%|███▌      | 346/957 [00:24<00:43, 13.99it/s]"
     ]
    },
    {
     "name": "stdout",
     "output_type": "stream",
     "text": [
      "191 400\n",
      "packing 51 png\n",
      "142 283\n",
      "packing 52 png\n",
      "263 200\n",
      "packing 53 png\n"
     ]
    },
    {
     "name": "stderr",
     "output_type": "stream",
     "text": [
      " 37%|███▋      | 350/957 [00:25<00:43, 13.98it/s]"
     ]
    },
    {
     "name": "stdout",
     "output_type": "stream",
     "text": [
      "172 225\n",
      "packing 54 png\n",
      "309 367\n",
      "packing 55 png\n",
      "153 165\n",
      "packing 56 png\n"
     ]
    },
    {
     "name": "stderr",
     "output_type": "stream",
     "text": [
      "\r",
      " 37%|███▋      | 352/957 [00:25<00:43, 13.98it/s]"
     ]
    },
    {
     "name": "stdout",
     "output_type": "stream",
     "text": [
      "156 181\n",
      "packing 57 png\n",
      "378 400\n",
      "packing 58 png\n",
      "326 362\n",
      "packing 59 png\n"
     ]
    },
    {
     "name": "stderr",
     "output_type": "stream",
     "text": [
      " 37%|███▋      | 356/957 [00:25<00:43, 13.97it/s]"
     ]
    },
    {
     "name": "stdout",
     "output_type": "stream",
     "text": [
      "133 186\n",
      "packing 06 png\n",
      "347 251\n",
      "packing 60 png\n",
      "227 266\n",
      "packing 07 png\n"
     ]
    },
    {
     "name": "stderr",
     "output_type": "stream",
     "text": [
      "\r",
      " 37%|███▋      | 358/957 [00:25<00:42, 13.95it/s]"
     ]
    },
    {
     "name": "stdout",
     "output_type": "stream",
     "text": [
      "188 278\n",
      "packing 08 png\n",
      "213 319\n",
      "packing 09 png\n",
      "68 124\n",
      "filing.seated 01 bmp\n"
     ]
    },
    {
     "name": "stderr",
     "output_type": "stream",
     "text": [
      "\r",
      " 38%|███▊      | 360/957 [00:25<00:42, 13.96it/s]"
     ]
    },
    {
     "name": "stdout",
     "output_type": "stream",
     "text": [
      "20 56\n",
      "filing.seated 10 bmp\n",
      "116 144\n",
      "filing.seated 11 bmp\n",
      "49 102\n",
      "filing.seated 12 bmp\n"
     ]
    },
    {
     "name": "stderr",
     "output_type": "stream",
     "text": [
      " 38%|███▊      | 364/957 [00:26<00:42, 13.93it/s]"
     ]
    },
    {
     "name": "stdout",
     "output_type": "stream",
     "text": [
      "63 78\n",
      "filing.seated 13 bmp\n",
      "61 97\n",
      "filing.seated 14 bmp\n",
      "133 184\n",
      "filing.seated 15 bmp\n",
      "68 115\n",
      "filing.seated 16 bmp\n"
     ]
    },
    {
     "name": "stderr",
     "output_type": "stream",
     "text": [
      " 38%|███▊      | 368/957 [00:26<00:42, 13.94it/s]"
     ]
    },
    {
     "name": "stdout",
     "output_type": "stream",
     "text": [
      "87 83\n",
      "filing.seated 17 bmp\n",
      "42 52\n",
      "filing.seated 18 bmp\n",
      "55 60\n",
      "filing.seated 19 bmp\n",
      "41 81\n",
      "filing.seated 02 bmp\n"
     ]
    },
    {
     "name": "stderr",
     "output_type": "stream",
     "text": [
      " 39%|███▉      | 372/957 [00:26<00:41, 13.95it/s]"
     ]
    },
    {
     "name": "stdout",
     "output_type": "stream",
     "text": [
      "111 76\n",
      "filing.seated 20 bmp\n",
      "159 186\n",
      "filing.seated 21 jpg\n",
      "357 400\n",
      "filing.seated 22 jpg\n"
     ]
    },
    {
     "name": "stderr",
     "output_type": "stream",
     "text": [
      " 39%|███▉      | 376/957 [00:26<00:41, 13.94it/s]"
     ]
    },
    {
     "name": "stdout",
     "output_type": "stream",
     "text": [
      "115 194\n",
      "filing.seated 23 jpg\n",
      "84 199\n",
      "filing.seated 24 jpg\n",
      "263 379\n",
      "filing.seated 25 jpg\n"
     ]
    },
    {
     "name": "stderr",
     "output_type": "stream",
     "text": [
      "\r",
      " 39%|███▉      | 378/957 [00:27<00:41, 13.94it/s]"
     ]
    },
    {
     "name": "stdout",
     "output_type": "stream",
     "text": [
      "304 321\n",
      "filing.seated 26 jpg\n",
      "305 400\n",
      "filing.seated 27 jpg\n",
      "161 185\n",
      "filing.seated 28 jpg\n"
     ]
    },
    {
     "name": "stderr",
     "output_type": "stream",
     "text": [
      " 40%|███▉      | 382/957 [00:27<00:41, 13.93it/s]"
     ]
    },
    {
     "name": "stdout",
     "output_type": "stream",
     "text": [
      "355 210\n",
      "filing.seated 29 jpg\n",
      "84 123\n",
      "filing.seated 03 bmp\n",
      "137 182\n",
      "filing.seated 30 jpg\n"
     ]
    },
    {
     "name": "stderr",
     "output_type": "stream",
     "text": [
      "\r",
      " 40%|████      | 384/957 [00:27<00:41, 13.93it/s]"
     ]
    },
    {
     "name": "stdout",
     "output_type": "stream",
     "text": [
      "190 177\n",
      "filing.seated 31 jpg\n",
      "171 91\n",
      "filing.seated 33 jpg\n",
      "255 326\n",
      "filing.seated 34 jpg\n"
     ]
    },
    {
     "name": "stderr",
     "output_type": "stream",
     "text": [
      " 41%|████      | 388/957 [00:27<00:40, 13.94it/s]"
     ]
    },
    {
     "name": "stdout",
     "output_type": "stream",
     "text": [
      "140 232\n",
      "filing.seated 35 jpg\n",
      "154 156\n",
      "filing.seated 36 jpg\n",
      "157 154\n",
      "filing.seated 36 jpg\n",
      "272 262\n",
      "filing.seated 37 jpg\n"
     ]
    },
    {
     "name": "stderr",
     "output_type": "stream",
     "text": [
      " 41%|████      | 392/957 [00:28<00:40, 13.94it/s]"
     ]
    },
    {
     "name": "stdout",
     "output_type": "stream",
     "text": [
      "241 274\n",
      "filing.seated 38 jpg\n",
      "87 113\n",
      "filing.seated 39 jpg\n",
      "123 115\n",
      "filing.seated 04 bmp\n"
     ]
    },
    {
     "name": "stderr",
     "output_type": "stream",
     "text": [
      "\r",
      " 41%|████      | 394/957 [00:28<00:40, 13.94it/s]"
     ]
    },
    {
     "name": "stdout",
     "output_type": "stream",
     "text": [
      "150 201\n",
      "filing.seated 40 jpg\n",
      "271 400\n",
      "filing.seated 41 jpg\n",
      "160 167\n",
      "filing.seated 42 jpg\n"
     ]
    },
    {
     "name": "stderr",
     "output_type": "stream",
     "text": [
      " 42%|████▏     | 398/957 [00:28<00:40, 13.95it/s]"
     ]
    },
    {
     "name": "stdout",
     "output_type": "stream",
     "text": [
      "130 183\n",
      "filing.seated 43 jpg\n",
      "181 168\n",
      "filing.seated 44 jpg\n",
      "48 67\n",
      "filing.seated 45 jpg\n"
     ]
    },
    {
     "name": "stderr",
     "output_type": "stream",
     "text": [
      "\r",
      " 42%|████▏     | 400/957 [00:28<00:39, 13.94it/s]"
     ]
    },
    {
     "name": "stdout",
     "output_type": "stream",
     "text": [
      "118 117\n",
      "filing.seated 46 jpg\n",
      "55 83\n",
      "filing.seated 47 jpg\n",
      "74 194\n",
      "filing.seated 48 jpg\n"
     ]
    },
    {
     "name": "stderr",
     "output_type": "stream",
     "text": [
      " 42%|████▏     | 404/957 [00:28<00:39, 13.95it/s]"
     ]
    },
    {
     "name": "stdout",
     "output_type": "stream",
     "text": [
      "96 103\n",
      "filing.seated 49 jpg\n",
      "91 68\n",
      "filing.seated 05 bmp\n",
      "94 81\n",
      "filing.seated 50 jpg\n"
     ]
    },
    {
     "name": "stderr",
     "output_type": "stream",
     "text": [
      "\r",
      " 42%|████▏     | 406/957 [00:29<00:39, 13.95it/s]"
     ]
    },
    {
     "name": "stdout",
     "output_type": "stream",
     "text": [
      "81 125\n",
      "filing.seated 51 jpg\n",
      "329 327\n",
      "filing.seated 52 jpg\n",
      "276 349\n",
      "filing.seated 53 jpg\n"
     ]
    },
    {
     "name": "stderr",
     "output_type": "stream",
     "text": [
      "\r",
      " 43%|████▎     | 408/957 [00:29<00:39, 13.95it/s]"
     ]
    },
    {
     "name": "stdout",
     "output_type": "stream",
     "text": [
      "131 112\n",
      "filing.seated 54 jpg\n",
      "101 151\n",
      "filing.seated 55 jpg\n",
      "384 272\n",
      "filing.seated 56 jpg\n"
     ]
    },
    {
     "name": "stderr",
     "output_type": "stream",
     "text": [
      " 43%|████▎     | 412/957 [00:29<00:39, 13.92it/s]"
     ]
    },
    {
     "name": "stdout",
     "output_type": "stream",
     "text": [
      "176 345\n",
      "filing.seated 57 jpg\n",
      "340 349\n",
      "filing.seated 58 jpg\n",
      "383 338\n",
      "filing.seated 59 jpg\n"
     ]
    },
    {
     "name": "stderr",
     "output_type": "stream",
     "text": [
      "\r",
      " 43%|████▎     | 414/957 [00:29<00:39, 13.91it/s]"
     ]
    },
    {
     "name": "stdout",
     "output_type": "stream",
     "text": [
      "46 52\n",
      "filing.seated 06 bmp\n",
      "98 124\n",
      "filing.seated 60 jpg\n",
      "42 67\n",
      "filing.seated 07 bmp\n"
     ]
    },
    {
     "name": "stderr",
     "output_type": "stream",
     "text": [
      " 44%|████▎     | 418/957 [00:30<00:38, 13.88it/s]"
     ]
    },
    {
     "name": "stdout",
     "output_type": "stream",
     "text": [
      "76 95\n",
      "filing.seated 08 bmp\n",
      "26 66\n",
      "filing.seated 09 bmp\n",
      "109 138\n",
      "filing.stand 01 bmp\n"
     ]
    },
    {
     "name": "stderr",
     "output_type": "stream",
     "text": [
      "\r",
      " 44%|████▍     | 420/957 [00:30<00:38, 13.86it/s]"
     ]
    },
    {
     "name": "stdout",
     "output_type": "stream",
     "text": [
      "48 67\n",
      "filing.stand 10 bmp\n",
      "67 93\n",
      "filing.stand 11 bmp\n",
      "49 49\n",
      "filing.stand 12 bmp\n"
     ]
    },
    {
     "name": "stderr",
     "output_type": "stream",
     "text": [
      " 44%|████▍     | 424/957 [00:30<00:38, 13.86it/s]"
     ]
    },
    {
     "name": "stdout",
     "output_type": "stream",
     "text": [
      "38 61\n",
      "filing.stand 13 bmp\n",
      "27 56\n",
      "filing.stand 14 bmp\n",
      "47 73\n",
      "filing.stand 15 bmp\n",
      "89 80\n",
      "filing.stand 16 bmp\n"
     ]
    },
    {
     "name": "stderr",
     "output_type": "stream",
     "text": [
      " 45%|████▍     | 428/957 [00:30<00:38, 13.86it/s]"
     ]
    },
    {
     "name": "stdout",
     "output_type": "stream",
     "text": [
      "60 95\n",
      "filing.stand 17 bmp\n",
      "41 73\n",
      "filing.stand 18 bmp\n",
      "46 47\n",
      "filing.stand 19 bmp\n"
     ]
    },
    {
     "name": "stderr",
     "output_type": "stream",
     "text": [
      " 45%|████▌     | 432/957 [00:31<00:37, 13.87it/s]"
     ]
    },
    {
     "name": "stdout",
     "output_type": "stream",
     "text": [
      "83 81\n",
      "filing.stand 02 bmp\n",
      "66 66\n",
      "filing.stand 20 jpg\n",
      "91 127\n",
      "filing.stand 21 jpg\n"
     ]
    },
    {
     "name": "stderr",
     "output_type": "stream",
     "text": [
      "\r",
      " 45%|████▌     | 434/957 [00:31<00:37, 13.86it/s]"
     ]
    },
    {
     "name": "stdout",
     "output_type": "stream",
     "text": [
      "63 200\n",
      "filing.stand 22 jpg\n",
      "141 216\n",
      "filing.stand 23 jpg\n",
      "45 115\n",
      "filing.stand 24 jpg\n"
     ]
    },
    {
     "name": "stderr",
     "output_type": "stream",
     "text": [
      " 46%|████▌     | 438/957 [00:31<00:37, 13.86it/s]"
     ]
    },
    {
     "name": "stdout",
     "output_type": "stream",
     "text": [
      "48 96\n",
      "filing.stand 25 jpg\n",
      "93 99\n",
      "filing.stand 26 jpg\n",
      "46 63\n",
      "filing.stand 27 jpeg\n"
     ]
    },
    {
     "name": "stderr",
     "output_type": "stream",
     "text": [
      "\r",
      " 46%|████▌     | 440/957 [00:31<00:37, 13.86it/s]"
     ]
    },
    {
     "name": "stdout",
     "output_type": "stream",
     "text": [
      "94 195\n",
      "filing.stand 28 jpg\n",
      "136 142\n",
      "filing.stand 29 jpg\n",
      "74 102\n",
      "filing.stand 03 bmp\n"
     ]
    },
    {
     "name": "stderr",
     "output_type": "stream",
     "text": [
      " 46%|████▋     | 444/957 [00:32<00:37, 13.86it/s]"
     ]
    },
    {
     "name": "stdout",
     "output_type": "stream",
     "text": [
      "62 41\n",
      "filing.stand 30 jpg\n",
      "115 110\n",
      "filing.stand 31 jpg\n",
      "121 178\n",
      "filing.stand 32 jpg\n"
     ]
    },
    {
     "name": "stderr",
     "output_type": "stream",
     "text": [
      "\r",
      " 47%|████▋     | 446/957 [00:32<00:36, 13.86it/s]"
     ]
    },
    {
     "name": "stdout",
     "output_type": "stream",
     "text": [
      "130 216\n",
      "filing.stand 33 jpg\n",
      "41 74\n",
      "filing.stand 34 jpg\n",
      "98 97\n",
      "filing.stand 35 jpg\n",
      "122 142\n",
      "filing.stand 36 "
     ]
    },
    {
     "name": "stderr",
     "output_type": "stream",
     "text": [
      " 47%|████▋     | 450/957 [00:32<00:36, 13.86it/s]"
     ]
    },
    {
     "name": "stdout",
     "output_type": "stream",
     "text": [
      "jpg\n",
      "127 142\n",
      "filing.stand 37 jpg\n",
      "74 142\n",
      "filing.stand 38 jpg\n"
     ]
    },
    {
     "name": "stderr",
     "output_type": "stream",
     "text": [
      "\r",
      " 47%|████▋     | 452/957 [00:32<00:36, 13.87it/s]"
     ]
    },
    {
     "name": "stdout",
     "output_type": "stream",
     "text": [
      "63 119\n",
      "filing.stand 39 jpg\n",
      "77 177\n",
      "filing.stand 04 bmp\n",
      "104 104\n",
      "filing.stand 40 jpg\n"
     ]
    },
    {
     "name": "stderr",
     "output_type": "stream",
     "text": [
      " 48%|████▊     | 456/957 [00:32<00:36, 13.87it/s]"
     ]
    },
    {
     "name": "stdout",
     "output_type": "stream",
     "text": [
      "146 197\n",
      "filing.stand 41 jpg\n",
      "62 109\n",
      "filing.stand 42 jpg\n",
      "137 132\n",
      "filing.stand 43 jpg\n"
     ]
    },
    {
     "name": "stderr",
     "output_type": "stream",
     "text": [
      "\r",
      " 48%|████▊     | 458/957 [00:33<00:35, 13.86it/s]"
     ]
    },
    {
     "name": "stdout",
     "output_type": "stream",
     "text": [
      "181 143\n",
      "filing.stand 44 jpg\n",
      "196 390\n",
      "filing.stand 45 jpg\n",
      "131 126\n",
      "filing.stand 46 jpeg\n"
     ]
    },
    {
     "name": "stderr",
     "output_type": "stream",
     "text": [
      "\r",
      " 48%|████▊     | 460/957 [00:33<00:35, 13.84it/s]"
     ]
    },
    {
     "name": "stdout",
     "output_type": "stream",
     "text": [
      "119 133\n",
      "filing.stand 47 jpg\n",
      "194 208\n",
      "filing.stand 48 jpg\n",
      "80 55\n",
      "filing.stand 49 jpg\n"
     ]
    },
    {
     "name": "stderr",
     "output_type": "stream",
     "text": [
      " 48%|████▊     | 464/957 [00:33<00:35, 13.84it/s]"
     ]
    },
    {
     "name": "stdout",
     "output_type": "stream",
     "text": [
      "105 175\n",
      "filing.stand 05 bmp\n",
      "139 187\n",
      "filing.stand 50 jpg\n",
      "56 189\n",
      "filing.stand 51 jpg\n"
     ]
    },
    {
     "name": "stderr",
     "output_type": "stream",
     "text": [
      " 49%|████▉     | 468/957 [00:33<00:35, 13.83it/s]"
     ]
    },
    {
     "name": "stdout",
     "output_type": "stream",
     "text": [
      "47 123\n",
      "filing.stand 52 JPG\n",
      "121 151\n",
      "filing.stand 53 jpg\n",
      "72 81\n",
      "filing.stand 54 jpg\n"
     ]
    },
    {
     "name": "stderr",
     "output_type": "stream",
     "text": [
      "\r",
      " 49%|████▉     | 470/957 [00:33<00:35, 13.83it/s]"
     ]
    },
    {
     "name": "stdout",
     "output_type": "stream",
     "text": [
      "109 159\n",
      "filing.stand 55 jpg\n",
      "104 135\n",
      "filing.stand 56 PNG\n",
      "77 131\n",
      "filing.stand 57 PNG\n"
     ]
    },
    {
     "name": "stderr",
     "output_type": "stream",
     "text": [
      "\r",
      " 49%|████▉     | 472/957 [00:34<00:35, 13.80it/s]"
     ]
    },
    {
     "name": "stdout",
     "output_type": "stream",
     "text": [
      "163 400\n",
      "filing.stand 58 PNG\n",
      "188 280\n",
      "filing.stand 59 PNG\n",
      "62 52\n",
      "filing.stand 06 bmp\n"
     ]
    },
    {
     "name": "stderr",
     "output_type": "stream",
     "text": [
      " 50%|████▉     | 476/957 [00:34<00:34, 13.79it/s]"
     ]
    },
    {
     "name": "stdout",
     "output_type": "stream",
     "text": [
      "374 292\n",
      "filing.stand 60 PNG\n",
      "111 177\n",
      "filing.stand 07 bmp\n",
      "97 143\n",
      "filing.stand 08 bmp\n"
     ]
    },
    {
     "name": "stderr",
     "output_type": "stream",
     "text": [
      " 50%|█████     | 480/957 [00:34<00:34, 13.80it/s]"
     ]
    },
    {
     "name": "stdout",
     "output_type": "stream",
     "text": [
      "52 70\n",
      "filing.stand 09 bmp\n",
      "77 101\n",
      "cooking 01 png\n",
      "61 129\n",
      "cooking 02 png\n",
      "67 115\n",
      "cooking 03 png\n"
     ]
    },
    {
     "name": "stderr",
     "output_type": "stream",
     "text": [
      "\r",
      " 50%|█████     | 482/957 [00:34<00:34, 13.80it/s]"
     ]
    },
    {
     "name": "stdout",
     "output_type": "stream",
     "text": [
      "228 200\n",
      "cooking 04 jpg\n",
      "303 212\n",
      "cooking 05 jpg\n",
      "195 145\n",
      "cooking 06 jpg\n"
     ]
    },
    {
     "name": "stderr",
     "output_type": "stream",
     "text": [
      " 51%|█████     | 486/957 [00:35<00:34, 13.76it/s]"
     ]
    },
    {
     "name": "stdout",
     "output_type": "stream",
     "text": [
      "195 178\n",
      "cooking 07 jpg\n",
      "117 118\n",
      "cooking 08 jpg\n",
      "153 145\n",
      "cooking 09 jpg\n"
     ]
    },
    {
     "name": "stderr",
     "output_type": "stream",
     "text": [
      " 51%|█████     | 490/957 [00:35<00:33, 13.75it/s]"
     ]
    },
    {
     "name": "stdout",
     "output_type": "stream",
     "text": [
      "235 179\n",
      "cooking 10 jpg\n",
      "166 151\n",
      "cooking 11 jpg\n",
      "208 147\n",
      "cooking 12 jpg\n"
     ]
    },
    {
     "name": "stderr",
     "output_type": "stream",
     "text": [
      "\r",
      " 51%|█████▏    | 492/957 [00:35<00:33, 13.75it/s]"
     ]
    },
    {
     "name": "stdout",
     "output_type": "stream",
     "text": [
      "196 165\n",
      "cooking 13 jpg\n",
      "116 198\n",
      "cooking 14 png\n",
      "260 192\n",
      "cooking 15 jpg\n"
     ]
    },
    {
     "name": "stderr",
     "output_type": "stream",
     "text": [
      " 52%|█████▏    | 496/957 [00:36<00:33, 13.75it/s]"
     ]
    },
    {
     "name": "stdout",
     "output_type": "stream",
     "text": [
      "157 189\n",
      "cooking 16 jpg\n",
      "145 170\n",
      "cooking 17 jpg\n",
      "136 221\n",
      "cooking 18 jpg\n"
     ]
    },
    {
     "name": "stderr",
     "output_type": "stream",
     "text": [
      "\r",
      " 52%|█████▏    | 498/957 [00:36<00:33, 13.75it/s]"
     ]
    },
    {
     "name": "stdout",
     "output_type": "stream",
     "text": [
      "211 235\n",
      "cooking 19 jpg\n",
      "206 198\n",
      "cooking 20 jpg\n",
      "250 388\n",
      "cooking 21 PNG\n"
     ]
    },
    {
     "name": "stderr",
     "output_type": "stream",
     "text": [
      "\r",
      " 52%|█████▏    | 500/957 [00:36<00:33, 13.74it/s]"
     ]
    },
    {
     "name": "stdout",
     "output_type": "stream",
     "text": [
      "224 400\n",
      "cooking 22 PNG\n",
      "304 293\n",
      "cooking 23 PNG\n",
      "303 307\n",
      "cooking 24 PNG\n"
     ]
    },
    {
     "name": "stderr",
     "output_type": "stream",
     "text": [
      " 53%|█████▎    | 504/957 [00:36<00:32, 13.73it/s]"
     ]
    },
    {
     "name": "stdout",
     "output_type": "stream",
     "text": [
      "301 360\n",
      "cooking 25 PNG\n",
      "285 237\n",
      "cooking 26 PNG\n",
      "310 382\n",
      "cooking 27 PNG\n"
     ]
    },
    {
     "name": "stderr",
     "output_type": "stream",
     "text": [
      " 53%|█████▎    | 508/957 [00:37<00:32, 13.72it/s]"
     ]
    },
    {
     "name": "stdout",
     "output_type": "stream",
     "text": [
      "193 347\n",
      "cooking 28 PNG\n",
      "507 400\n",
      "cooking 29 PNG\n",
      "262 302\n",
      "cooking 30 PNG\n"
     ]
    },
    {
     "name": "stderr",
     "output_type": "stream",
     "text": [
      "\r",
      " 53%|█████▎    | 510/957 [00:37<00:32, 13.71it/s]"
     ]
    },
    {
     "name": "stdout",
     "output_type": "stream",
     "text": [
      "321 337\n",
      "cooking 31 PNG\n",
      "181 344\n",
      "cooking 32 PNG\n",
      "253 400\n",
      "cooking 33 PNG\n"
     ]
    },
    {
     "name": "stderr",
     "output_type": "stream",
     "text": [
      "\r",
      " 54%|█████▎    | 512/957 [00:37<00:32, 13.70it/s]"
     ]
    },
    {
     "name": "stdout",
     "output_type": "stream",
     "text": [
      "231 374\n",
      "cooking 34 PNG\n",
      "187 228\n",
      "cooking 35 PNG\n",
      "239 323\n",
      "cooking 36 PNG\n"
     ]
    },
    {
     "name": "stderr",
     "output_type": "stream",
     "text": [
      " 54%|█████▍    | 516/957 [00:37<00:32, 13.69it/s]"
     ]
    },
    {
     "name": "stdout",
     "output_type": "stream",
     "text": [
      "318 395\n",
      "cooking 37 PNG\n",
      "349 400\n",
      "cooking 38 PNG\n",
      "133 191\n",
      "cooking 39 PNG\n"
     ]
    },
    {
     "name": "stderr",
     "output_type": "stream",
     "text": [
      " 54%|█████▍    | 520/957 [00:37<00:31, 13.70it/s]"
     ]
    },
    {
     "name": "stdout",
     "output_type": "stream",
     "text": [
      "110 191\n",
      "cooking 40 PNG\n",
      "189 190\n",
      "cooking 41 PNG\n",
      "243 295\n",
      "cooking 42 PNG\n"
     ]
    },
    {
     "name": "stderr",
     "output_type": "stream",
     "text": [
      "\r",
      " 55%|█████▍    | 522/957 [00:38<00:31, 13.70it/s]"
     ]
    },
    {
     "name": "stdout",
     "output_type": "stream",
     "text": [
      "158 272\n",
      "cooking 43 PNG\n",
      "196 356\n",
      "cooking 44 PNG\n",
      "242 392\n",
      "cooking 45 PNG\n"
     ]
    },
    {
     "name": "stderr",
     "output_type": "stream",
     "text": [
      "\r",
      " 55%|█████▍    | 524/957 [00:38<00:31, 13.70it/s]"
     ]
    },
    {
     "name": "stdout",
     "output_type": "stream",
     "text": [
      "243 390\n",
      "cooking 46 PNG\n",
      "440 288\n",
      "cooking 47 PNG\n",
      "133 234\n",
      "cooking 48 PNG\n"
     ]
    },
    {
     "name": "stderr",
     "output_type": "stream",
     "text": [
      " 55%|█████▌    | 528/957 [00:38<00:31, 13.69it/s]"
     ]
    },
    {
     "name": "stdout",
     "output_type": "stream",
     "text": [
      "182 400\n",
      "cooking 49 PNG\n",
      "160 197\n",
      "cooking 50 PNG\n",
      "74 197\n",
      "cooking 51 PNG\n",
      "114 177\n",
      "cooking 52 PNG\n"
     ]
    },
    {
     "name": "stderr",
     "output_type": "stream",
     "text": [
      " 56%|█████▌    | 532/957 [00:38<00:31, 13.69it/s]"
     ]
    },
    {
     "name": "stdout",
     "output_type": "stream",
     "text": [
      "342 357\n",
      "cooking 53 PNG\n",
      "241 350\n",
      "cooking 54 PNG\n",
      "239 278\n",
      "cooking 55 PNG\n"
     ]
    },
    {
     "name": "stderr",
     "output_type": "stream",
     "text": [
      "\r",
      " 56%|█████▌    | 534/957 [00:39<00:30, 13.69it/s]"
     ]
    },
    {
     "name": "stdout",
     "output_type": "stream",
     "text": [
      "128 400\n",
      "cooking 56 PNG\n",
      "345 331\n",
      "cooking 57 PNG\n",
      "143 255\n",
      "cooking 58 PNG\n"
     ]
    },
    {
     "name": "stderr",
     "output_type": "stream",
     "text": [
      " 56%|█████▌    | 538/957 [00:39<00:30, 13.68it/s]"
     ]
    },
    {
     "name": "stdout",
     "output_type": "stream",
     "text": [
      "278 400\n",
      "cooking 59 PNG\n",
      "243 358\n",
      "cooking 60 PNG\n",
      "236 129\n",
      "house cleaning 01 jpg\n"
     ]
    },
    {
     "name": "stderr",
     "output_type": "stream",
     "text": [
      " 57%|█████▋    | 542/957 [00:39<00:30, 13.68it/s]"
     ]
    },
    {
     "name": "stdout",
     "output_type": "stream",
     "text": [
      "206 252\n",
      "house cleaning 02 jpg\n",
      "74 116\n",
      "house cleaning 03 jpg\n",
      "119 131\n",
      "house cleaning 04 jpg\n"
     ]
    },
    {
     "name": "stderr",
     "output_type": "stream",
     "text": [
      "\r",
      " 57%|█████▋    | 544/957 [00:39<00:30, 13.68it/s]"
     ]
    },
    {
     "name": "stdout",
     "output_type": "stream",
     "text": [
      "110 138\n",
      "house cleaning 05 jpg\n",
      "353 299\n",
      "house cleaning 06 jpg\n",
      "112 88\n",
      "house cleaning 07 jpg\n"
     ]
    },
    {
     "name": "stderr",
     "output_type": "stream",
     "text": [
      " 57%|█████▋    | 548/957 [00:40<00:29, 13.68it/s]"
     ]
    },
    {
     "name": "stdout",
     "output_type": "stream",
     "text": [
      "158 75\n",
      "house cleaning 08 jpg\n",
      "188 190\n",
      "house cleaning 09 jpg\n",
      "131 196\n",
      "house cleaning 10 jpg\n"
     ]
    },
    {
     "name": "stderr",
     "output_type": "stream",
     "text": [
      "\r",
      " 57%|█████▋    | 550/957 [00:40<00:29, 13.67it/s]"
     ]
    },
    {
     "name": "stdout",
     "output_type": "stream",
     "text": [
      "66 115\n",
      "house cleaning 11 jpg\n",
      "109 178\n",
      "house cleaning 12 jpg\n",
      "55 125\n",
      "house cleaning 13 jpg\n"
     ]
    },
    {
     "name": "stderr",
     "output_type": "stream",
     "text": [
      "\r",
      " 58%|█████▊    | 552/957 [00:40<00:29, 13.67it/s]"
     ]
    },
    {
     "name": "stdout",
     "output_type": "stream",
     "text": [
      "132 138\n",
      "house cleaning 14 jpg\n",
      "80 126\n",
      "house cleaning 15 jpg\n",
      "105 140\n",
      "house cleaning 16 jpg\n"
     ]
    },
    {
     "name": "stderr",
     "output_type": "stream",
     "text": [
      " 58%|█████▊    | 556/957 [00:40<00:29, 13.65it/s]"
     ]
    },
    {
     "name": "stdout",
     "output_type": "stream",
     "text": [
      "94 76\n",
      "house cleaning 17 jpg\n",
      "114 145\n",
      "house cleaning 18 jpg\n",
      "68 142\n",
      "house cleaning 19 jpg\n"
     ]
    },
    {
     "name": "stderr",
     "output_type": "stream",
     "text": [
      " 59%|█████▊    | 560/957 [00:41<00:29, 13.65it/s]"
     ]
    },
    {
     "name": "stdout",
     "output_type": "stream",
     "text": [
      "180 223\n",
      "house cleaning 20 jpg\n",
      "144 221\n",
      "house cleaning 21 jpg\n",
      "149 223\n",
      "house cleaning 22 jpg\n"
     ]
    },
    {
     "name": "stderr",
     "output_type": "stream",
     "text": [
      "\r",
      " 59%|█████▊    | 562/957 [00:41<00:28, 13.64it/s]"
     ]
    },
    {
     "name": "stdout",
     "output_type": "stream",
     "text": [
      "87 199\n",
      "house cleaning 23 jpg\n",
      "120 197\n",
      "house cleaning 24 jpg\n",
      "140 199\n",
      "house cleaning 25 png\n"
     ]
    },
    {
     "name": "stderr",
     "output_type": "stream",
     "text": [
      " 59%|█████▉    | 566/957 [00:41<00:28, 13.64it/s]"
     ]
    },
    {
     "name": "stdout",
     "output_type": "stream",
     "text": [
      "188 199\n",
      "house cleaning 26 jpg\n",
      "167 244\n",
      "house cleaning 27 jpg\n",
      "68 119\n",
      "house cleaning 28 jpg\n"
     ]
    },
    {
     "name": "stderr",
     "output_type": "stream",
     "text": [
      "\r",
      " 59%|█████▉    | 568/957 [00:41<00:28, 13.63it/s]"
     ]
    },
    {
     "name": "stdout",
     "output_type": "stream",
     "text": [
      "133 314\n",
      "house cleaning 29 jpg\n",
      "428 339\n",
      "house cleaning 30 jpg\n",
      "129 334\n",
      "house cleaning 31 jpg\n"
     ]
    },
    {
     "name": "stderr",
     "output_type": "stream",
     "text": [
      " 60%|█████▉    | 572/957 [00:41<00:28, 13.62it/s]"
     ]
    },
    {
     "name": "stdout",
     "output_type": "stream",
     "text": [
      "144 223\n",
      "house cleaning 32 jpg\n",
      "165 332\n",
      "house cleaning 33 jpg\n",
      "279 400\n",
      "house cleaning 34 jpg\n"
     ]
    },
    {
     "name": "stderr",
     "output_type": "stream",
     "text": [
      "\r",
      " 60%|█████▉    | 574/957 [00:42<00:28, 13.63it/s]"
     ]
    },
    {
     "name": "stdout",
     "output_type": "stream",
     "text": [
      "80 239\n",
      "house cleaning 35 png\n",
      "255 267\n",
      "house cleaning 36 jpg\n",
      "462 305\n",
      "house cleaning 37 jpg\n"
     ]
    },
    {
     "name": "stderr",
     "output_type": "stream",
     "text": [
      "\r",
      " 60%|██████    | 576/957 [00:42<00:27, 13.62it/s]"
     ]
    },
    {
     "name": "stdout",
     "output_type": "stream",
     "text": [
      "205 276\n",
      "house cleaning 38 jpg\n",
      "46 159\n",
      "house cleaning 39 jpg\n",
      "341 378\n",
      "house cleaning 40 jpg\n"
     ]
    },
    {
     "name": "stderr",
     "output_type": "stream",
     "text": [
      " 61%|██████    | 580/957 [00:42<00:27, 13.60it/s]"
     ]
    },
    {
     "name": "stdout",
     "output_type": "stream",
     "text": [
      "353 332\n",
      "house cleaning 41 jpg\n",
      "209 361\n",
      "house cleaning 42 jpg\n",
      "189 243\n",
      "house cleaning 43 jpg\n"
     ]
    },
    {
     "name": "stderr",
     "output_type": "stream",
     "text": [
      " 61%|██████    | 584/957 [00:42<00:27, 13.60it/s]"
     ]
    },
    {
     "name": "stdout",
     "output_type": "stream",
     "text": [
      "95 179\n",
      "house cleaning 44 jpg\n",
      "95 140\n",
      "house cleaning 45 jpg\n",
      "371 238\n",
      "house cleaning 46 jpg\n"
     ]
    },
    {
     "name": "stderr",
     "output_type": "stream",
     "text": [
      "\r",
      " 61%|██████    | 586/957 [00:43<00:27, 13.60it/s]"
     ]
    },
    {
     "name": "stdout",
     "output_type": "stream",
     "text": [
      "269 227\n",
      "house cleaning 47 jpg\n",
      "130 248\n",
      "house cleaning 48 jpg\n",
      "292 306\n",
      "house cleaning 49 jpg\n"
     ]
    },
    {
     "name": "stderr",
     "output_type": "stream",
     "text": [
      "\r",
      " 61%|██████▏   | 588/957 [00:43<00:27, 13.60it/s]"
     ]
    },
    {
     "name": "stdout",
     "output_type": "stream",
     "text": [
      "271 213\n",
      "house cleaning 50 jpg\n",
      "279 233\n",
      "house cleaning 51 jpg\n"
     ]
    },
    {
     "name": "stderr",
     "output_type": "stream",
     "text": [
      "\r",
      " 62%|██████▏   | 590/957 [00:43<00:27, 13.58it/s]"
     ]
    },
    {
     "name": "stdout",
     "output_type": "stream",
     "text": [
      "146 283\n",
      "house cleaning 52 jpg\n",
      "190 241\n",
      "house cleaning 53 jpg\n",
      "217 400\n",
      "house cleaning 54 jpg\n"
     ]
    },
    {
     "name": "stderr",
     "output_type": "stream",
     "text": [
      " 62%|██████▏   | 594/957 [00:43<00:26, 13.54it/s]"
     ]
    },
    {
     "name": "stdout",
     "output_type": "stream",
     "text": [
      "342 230\n",
      "house cleaning 55 jpg\n",
      "225 373\n",
      "house cleaning 56 jpg\n"
     ]
    },
    {
     "name": "stderr",
     "output_type": "stream",
     "text": [
      "\r",
      " 62%|██████▏   | 596/957 [00:44<00:26, 13.51it/s]"
     ]
    },
    {
     "name": "stdout",
     "output_type": "stream",
     "text": [
      "91 247\n",
      "house cleaning 57 jpg\n",
      "188 184\n",
      "house cleaning 58 jpg\n"
     ]
    },
    {
     "name": "stderr",
     "output_type": "stream",
     "text": [
      "\r",
      " 62%|██████▏   | 598/957 [00:44<00:26, 13.51it/s]"
     ]
    },
    {
     "name": "stdout",
     "output_type": "stream",
     "text": [
      "152 272\n",
      "house cleaning 59 jpg\n",
      "202 356\n",
      "house cleaning 60 jpg\n",
      "185 374\n",
      "machine work.light 01 jpg\n"
     ]
    },
    {
     "name": "stderr",
     "output_type": "stream",
     "text": [
      "\r",
      " 63%|██████▎   | 600/957 [00:44<00:26, 13.50it/s]"
     ]
    },
    {
     "name": "stdout",
     "output_type": "stream",
     "text": [
      "365 287\n",
      "machine work.light 02 jpg\n",
      "210 229\n",
      "machine work.light 03 jpg\n",
      "238 136\n",
      "machine work.light 04 png\n"
     ]
    },
    {
     "name": "stderr",
     "output_type": "stream",
     "text": [
      " 63%|██████▎   | 604/957 [00:44<00:26, 13.49it/s]"
     ]
    },
    {
     "name": "stdout",
     "output_type": "stream",
     "text": [
      "130 113\n",
      "machine work.light 05 jpg\n",
      "265 219\n",
      "machine work.light 06 jpg\n",
      "104 70\n",
      "machine work.light 07 png\n"
     ]
    },
    {
     "name": "stderr",
     "output_type": "stream",
     "text": [
      "\r",
      " 63%|██████▎   | 606/957 [00:44<00:26, 13.49it/s]"
     ]
    },
    {
     "name": "stdout",
     "output_type": "stream",
     "text": [
      "157 227\n",
      "machine work.light 08 jpg\n",
      "84 118\n",
      "machine work.light 09 jpg\n",
      "56 140\n",
      "machine work.light 10 jpg\n"
     ]
    },
    {
     "name": "stderr",
     "output_type": "stream",
     "text": [
      " 64%|██████▎   | 610/957 [00:45<00:25, 13.49it/s]"
     ]
    },
    {
     "name": "stdout",
     "output_type": "stream",
     "text": [
      "96 95\n",
      "machine work.light 11 jpg\n",
      "94 165\n",
      "machine work.light 12 jpg\n",
      "122 123\n",
      "machine work.light 13 jpg\n"
     ]
    },
    {
     "name": "stderr",
     "output_type": "stream",
     "text": [
      " 64%|██████▍   | 614/957 [00:45<00:25, 13.49it/s]"
     ]
    },
    {
     "name": "stdout",
     "output_type": "stream",
     "text": [
      "152 179\n",
      "machine work.light 14 jpg\n",
      "195 243\n",
      "machine work.light 15 png\n",
      "66 48\n",
      "machine work.light 16 png\n"
     ]
    },
    {
     "name": "stderr",
     "output_type": "stream",
     "text": [
      "\r",
      " 64%|██████▍   | 616/957 [00:45<00:25, 13.49it/s]"
     ]
    },
    {
     "name": "stdout",
     "output_type": "stream",
     "text": [
      "103 91\n",
      "machine work.light 17 png\n",
      "178 165\n",
      "machine work.light 18 jpg\n",
      "138 228\n",
      "machine work.light 19 jpg\n"
     ]
    },
    {
     "name": "stderr",
     "output_type": "stream",
     "text": [
      " 65%|██████▍   | 620/957 [00:46<00:25, 13.48it/s]"
     ]
    },
    {
     "name": "stdout",
     "output_type": "stream",
     "text": [
      "222 212\n",
      "machine work.light 20 jpg\n",
      "177 146\n",
      "machine work.light 21 png\n",
      "192 400\n",
      "machine work.light 22 jpg\n"
     ]
    },
    {
     "name": "stderr",
     "output_type": "stream",
     "text": [
      "\r",
      " 65%|██████▍   | 622/957 [00:46<00:24, 13.47it/s]"
     ]
    },
    {
     "name": "stdout",
     "output_type": "stream",
     "text": [
      "368 337\n",
      "machine work.light 23 jpg\n",
      "341 400\n",
      "machine work.light 24 jpg\n",
      "223 400\n",
      "machine work.light 25 jpg\n"
     ]
    },
    {
     "name": "stderr",
     "output_type": "stream",
     "text": [
      " 65%|██████▌   | 626/957 [00:46<00:24, 13.47it/s]"
     ]
    },
    {
     "name": "stdout",
     "output_type": "stream",
     "text": [
      "290 329\n",
      "machine work.light 26 jpg\n",
      "116 173\n",
      "machine work.light 27 jpg\n",
      "122 191\n",
      "machine work.light 28 jpg\n"
     ]
    },
    {
     "name": "stderr",
     "output_type": "stream",
     "text": [
      "\r",
      " 66%|██████▌   | 628/957 [00:46<00:24, 13.44it/s]"
     ]
    },
    {
     "name": "stdout",
     "output_type": "stream",
     "text": [
      "223 244\n",
      "machine work.light 29 jpg\n",
      "367 400\n",
      "machine work.light 30 jpg\n"
     ]
    },
    {
     "name": "stderr",
     "output_type": "stream",
     "text": [
      "\r",
      " 66%|██████▌   | 630/957 [00:46<00:24, 13.44it/s]"
     ]
    },
    {
     "name": "stdout",
     "output_type": "stream",
     "text": [
      "161 183\n",
      "machine work.light 31 jpg\n",
      "527 334\n",
      "machine work.light 32 jpg\n",
      "300 306\n",
      "machine work.light 33 jpg\n"
     ]
    },
    {
     "name": "stderr",
     "output_type": "stream",
     "text": [
      "\r",
      " 66%|██████▌   | 632/957 [00:47<00:24, 13.43it/s]"
     ]
    },
    {
     "name": "stdout",
     "output_type": "stream",
     "text": [
      "245 400\n",
      "machine work.light 34 jpg\n",
      "151 159\n",
      "machine work.light 35 jpg\n",
      "368 374\n",
      "machine work.light 36 jpg\n"
     ]
    },
    {
     "name": "stderr",
     "output_type": "stream",
     "text": [
      " 66%|██████▋   | 636/957 [00:47<00:23, 13.43it/s]"
     ]
    },
    {
     "name": "stdout",
     "output_type": "stream",
     "text": [
      "314 400\n",
      "machine work.light 37 jpg\n",
      "230 220\n",
      "machine work.light 38 png\n",
      "294 242\n",
      "machine work.light 39 jpg\n"
     ]
    },
    {
     "name": "stderr",
     "output_type": "stream",
     "text": [
      " 67%|██████▋   | 640/957 [00:47<00:23, 13.42it/s]"
     ]
    },
    {
     "name": "stdout",
     "output_type": "stream",
     "text": [
      "550 378\n",
      "machine work.light 40 jpg\n",
      "97 146\n",
      "machine work.light 41 jpg\n",
      "75 97\n",
      "machine work.light 42 png\n"
     ]
    },
    {
     "name": "stderr",
     "output_type": "stream",
     "text": [
      "\r",
      " 67%|██████▋   | 642/957 [00:47<00:23, 13.42it/s]"
     ]
    },
    {
     "name": "stdout",
     "output_type": "stream",
     "text": [
      "337 368\n",
      "machine work.light 43 jpg\n",
      "199 242\n",
      "machine work.light 44 jpg\n",
      "186 198\n",
      "machine work.light 45 jpg\n"
     ]
    },
    {
     "name": "stderr",
     "output_type": "stream",
     "text": [
      " 68%|██████▊   | 646/957 [00:48<00:23, 13.42it/s]"
     ]
    },
    {
     "name": "stdout",
     "output_type": "stream",
     "text": [
      "137 180\n",
      "machine work.light 46 jpg\n",
      "116 101\n",
      "machine work.light 47 jpg\n",
      "243 299\n",
      "machine work.light 48 jpg\n"
     ]
    },
    {
     "name": "stderr",
     "output_type": "stream",
     "text": [
      "\r",
      " 68%|██████▊   | 648/957 [00:48<00:23, 13.42it/s]"
     ]
    },
    {
     "name": "stdout",
     "output_type": "stream",
     "text": [
      "238 333\n",
      "machine work.light 49 jpg\n",
      "108 101\n",
      "machine work.light 50 jpg\n",
      "140 97\n",
      "machine work.light 51 jpg\n"
     ]
    },
    {
     "name": "stderr",
     "output_type": "stream",
     "text": [
      " 68%|██████▊   | 652/957 [00:48<00:22, 13.43it/s]"
     ]
    },
    {
     "name": "stdout",
     "output_type": "stream",
     "text": [
      "115 136\n",
      "machine work.light 52 jpg\n",
      "104 111\n",
      "machine work.light 53 jpg\n",
      "227 259\n",
      "machine work.light 54 jpg\n"
     ]
    },
    {
     "name": "stderr",
     "output_type": "stream",
     "text": [
      "\r",
      " 68%|██████▊   | 654/957 [00:48<00:22, 13.44it/s]"
     ]
    },
    {
     "name": "stdout",
     "output_type": "stream",
     "text": [
      "77 73\n",
      "machine work.light 55 jpg\n",
      "111 84\n",
      "machine work.light 56 jpg\n",
      "45 65\n",
      "machine work.light 57 jpg\n",
      "168 300\n",
      "machine work.light 58 jpg\n"
     ]
    },
    {
     "name": "stderr",
     "output_type": "stream",
     "text": [
      " 69%|██████▉   | 658/957 [00:48<00:22, 13.44it/s]"
     ]
    },
    {
     "name": "stdout",
     "output_type": "stream",
     "text": [
      "151 262\n",
      "machine work.light 59 jpg\n",
      "173 166\n",
      "machine work.light 60 jpg\n",
      "180 137\n",
      "machine work.sawing 01 jpg\n"
     ]
    },
    {
     "name": "stderr",
     "output_type": "stream",
     "text": [
      "\r",
      " 69%|██████▉   | 660/957 [00:49<00:22, 13.44it/s]"
     ]
    },
    {
     "name": "stdout",
     "output_type": "stream",
     "text": [
      "109 172\n",
      "machine work.sawing 10 jpg\n",
      "52 83\n",
      "machine work.sawing 11 jpg\n",
      "145 170\n",
      "machine work.sawing 12 jpg\n"
     ]
    },
    {
     "name": "stderr",
     "output_type": "stream",
     "text": [
      " 69%|██████▉   | 664/957 [00:49<00:21, 13.44it/s]"
     ]
    },
    {
     "name": "stdout",
     "output_type": "stream",
     "text": [
      "91 122\n",
      "machine work.sawing 13 jpg\n",
      "172 203\n",
      "machine work.sawing 14 jpg\n",
      "123 182\n",
      "machine work.sawing 15 jpg\n"
     ]
    },
    {
     "name": "stderr",
     "output_type": "stream",
     "text": [
      " 70%|██████▉   | 668/957 [00:49<00:21, 13.44it/s]"
     ]
    },
    {
     "name": "stdout",
     "output_type": "stream",
     "text": [
      "81 158\n",
      "machine work.sawing 16 jpg\n",
      "174 159\n",
      "machine work.sawing 17 jpg\n",
      "194 273\n",
      "machine work.sawing 18 jpg\n"
     ]
    },
    {
     "name": "stderr",
     "output_type": "stream",
     "text": [
      "\r",
      " 70%|███████   | 670/957 [00:49<00:21, 13.44it/s]"
     ]
    },
    {
     "name": "stdout",
     "output_type": "stream",
     "text": [
      "192 243\n",
      "machine work.sawing 19 jpg\n",
      "59 84\n",
      "machine work.sawing 02 jpg\n",
      "144 254\n",
      "machine work.sawing 20 jpg\n"
     ]
    },
    {
     "name": "stderr",
     "output_type": "stream",
     "text": [
      "\r",
      " 70%|███████   | 672/957 [00:50<00:21, 13.44it/s]"
     ]
    },
    {
     "name": "stdout",
     "output_type": "stream",
     "text": [
      "240 337\n",
      "machine work.sawing 21 jpg\n",
      "245 243\n",
      "machine work.sawing 22 jpg\n",
      "293 287\n",
      "machine work.sawing 23 jpg\n"
     ]
    },
    {
     "name": "stderr",
     "output_type": "stream",
     "text": [
      "\r",
      " 70%|███████   | 674/957 [00:50<00:21, 13.43it/s]"
     ]
    },
    {
     "name": "stdout",
     "output_type": "stream",
     "text": [
      "122 133\n",
      "machine work.sawing 24 jpg\n",
      "353 355\n",
      "machine work.sawing 25 jpg\n"
     ]
    },
    {
     "name": "stderr",
     "output_type": "stream",
     "text": [
      " 71%|███████   | 678/957 [00:50<00:20, 13.38it/s]"
     ]
    },
    {
     "name": "stdout",
     "output_type": "stream",
     "text": [
      "296 400\n",
      "machine work.sawing 26 jpg\n",
      "109 75\n",
      "machine work.sawing 27 jpg\n",
      "152 151\n",
      "machine work.sawing 28 jpg\n"
     ]
    },
    {
     "name": "stderr",
     "output_type": "stream",
     "text": [
      " 71%|███████▏  | 682/957 [00:50<00:20, 13.38it/s]"
     ]
    },
    {
     "name": "stdout",
     "output_type": "stream",
     "text": [
      "123 183\n",
      "machine work.sawing 29 jpg\n",
      "177 169\n",
      "machine work.sawing 03 jpg\n",
      "77 89\n",
      "machine work.sawing 30 jpg\n"
     ]
    },
    {
     "name": "stderr",
     "output_type": "stream",
     "text": [
      "\r",
      " 71%|███████▏  | 684/957 [00:51<00:20, 13.38it/s]"
     ]
    },
    {
     "name": "stdout",
     "output_type": "stream",
     "text": [
      "400 381\n",
      "machine work.sawing 31 jpg\n",
      "109 254\n",
      "machine work.sawing 32 jpg\n",
      "188 159\n",
      "machine work.sawing 33 jpg\n"
     ]
    },
    {
     "name": "stderr",
     "output_type": "stream",
     "text": [
      " 72%|███████▏  | 688/957 [00:51<00:20, 13.38it/s]"
     ]
    },
    {
     "name": "stdout",
     "output_type": "stream",
     "text": [
      "82 222\n",
      "machine work.sawing 34 jpg\n",
      "201 226\n",
      "machine work.sawing 35 jpg\n",
      "135 277\n",
      "machine work.sawing 36 jpg\n"
     ]
    },
    {
     "name": "stderr",
     "output_type": "stream",
     "text": [
      "\r",
      " 72%|███████▏  | 690/957 [00:51<00:19, 13.38it/s]"
     ]
    },
    {
     "name": "stdout",
     "output_type": "stream",
     "text": [
      "291 158\n",
      "machine work.sawing 37 jpg\n",
      "395 344\n",
      "machine work.sawing 38 jpg\n"
     ]
    },
    {
     "name": "stderr",
     "output_type": "stream",
     "text": [
      "\r",
      " 72%|███████▏  | 692/957 [00:51<00:19, 13.36it/s]"
     ]
    },
    {
     "name": "stdout",
     "output_type": "stream",
     "text": [
      "242 245\n",
      "machine work.sawing 39 jpg\n",
      "117 137\n",
      "machine work.sawing 04 jpg\n"
     ]
    },
    {
     "name": "stderr",
     "output_type": "stream",
     "text": [
      "\r",
      " 73%|███████▎  | 694/957 [00:51<00:19, 13.35it/s]"
     ]
    },
    {
     "name": "stdout",
     "output_type": "stream",
     "text": [
      "221 176\n",
      "machine work.sawing 40 jpg\n",
      "149 238\n",
      "machine work.sawing 41 jpg\n",
      "298 221\n",
      "machine work.sawing 42 jpg\n"
     ]
    },
    {
     "name": "stderr",
     "output_type": "stream",
     "text": [
      "\r",
      " 73%|███████▎  | 696/957 [00:52<00:19, 13.33it/s]"
     ]
    },
    {
     "name": "stdout",
     "output_type": "stream",
     "text": [
      "253 353\n",
      "machine work.sawing 43 jpg\n",
      "150 230\n",
      "machine work.sawing 44 jpg\n"
     ]
    },
    {
     "name": "stderr",
     "output_type": "stream",
     "text": [
      "\r",
      " 73%|███████▎  | 698/957 [00:52<00:19, 13.32it/s]"
     ]
    },
    {
     "name": "stdout",
     "output_type": "stream",
     "text": [
      "248 142\n",
      "machine work.sawing 45 jpg\n",
      "147 285\n",
      "machine work.sawing 46 jpg\n"
     ]
    },
    {
     "name": "stderr",
     "output_type": "stream",
     "text": [
      "\r",
      " 73%|███████▎  | 700/957 [00:52<00:19, 13.29it/s]"
     ]
    },
    {
     "name": "stdout",
     "output_type": "stream",
     "text": [
      "77 165\n",
      "machine work.sawing 47 jpg\n",
      "118 167\n",
      "machine work.sawing 48 jpg\n",
      "157 193\n",
      "machine work.sawing 49 jpg\n"
     ]
    },
    {
     "name": "stderr",
     "output_type": "stream",
     "text": [
      " 74%|███████▎  | 704/957 [00:52<00:19, 13.29it/s]"
     ]
    },
    {
     "name": "stdout",
     "output_type": "stream",
     "text": [
      "136 161\n",
      "machine work.sawing 05 jpg\n",
      "276 344\n",
      "machine work.sawing 50 jpeg\n",
      "125 208\n",
      "machine work.sawing 51 jpg\n"
     ]
    },
    {
     "name": "stderr",
     "output_type": "stream",
     "text": [
      " 74%|███████▍  | 708/957 [00:53<00:18, 13.29it/s]"
     ]
    },
    {
     "name": "stdout",
     "output_type": "stream",
     "text": [
      "147 262\n",
      "machine work.sawing 52 jpg\n",
      "152 175\n",
      "machine work.sawing 53 jpg\n",
      "168 138\n",
      "machine work.sawing 09 jpg\n"
     ]
    },
    {
     "name": "stderr",
     "output_type": "stream",
     "text": [
      "\r",
      " 74%|███████▍  | 710/957 [00:53<00:18, 13.29it/s]"
     ]
    },
    {
     "name": "stdout",
     "output_type": "stream",
     "text": [
      "125 177\n",
      "machine work.sawing 08 jpg\n",
      "119 234\n",
      "machine work.sawing 07 jpg\n",
      "537 400\n",
      "machine work.sawing 60 jpg\n"
     ]
    },
    {
     "name": "stderr",
     "output_type": "stream",
     "text": [
      "\r",
      " 74%|███████▍  | 712/957 [00:53<00:18, 13.29it/s]"
     ]
    },
    {
     "name": "stdout",
     "output_type": "stream",
     "text": [
      "131 147\n",
      "machine work.sawing 06 jpg\n",
      "249 249\n",
      "machine work.sawing 59 jpg\n",
      "125 216\n",
      "machine work.sawing 58 jpg\n"
     ]
    },
    {
     "name": "stderr",
     "output_type": "stream",
     "text": [
      " 75%|███████▍  | 716/957 [00:53<00:18, 13.28it/s]"
     ]
    },
    {
     "name": "stdout",
     "output_type": "stream",
     "text": [
      "326 290\n",
      "machine work.sawing 57 jpg\n",
      "418 273\n",
      "machine work.sawing 56 jpg\n",
      "185 225\n",
      "machine work.sawing 55 jpg\n"
     ]
    },
    {
     "name": "stderr",
     "output_type": "stream",
     "text": [
      " 75%|███████▌  | 720/957 [00:54<00:17, 13.29it/s]"
     ]
    },
    {
     "name": "stdout",
     "output_type": "stream",
     "text": [
      "235 277\n",
      "machine work.sawing 54 jpg\n",
      "151 152\n",
      "reclining 01 png\n",
      "174 84\n",
      "reclining 10 png\n"
     ]
    },
    {
     "name": "stderr",
     "output_type": "stream",
     "text": [
      "\r",
      " 75%|███████▌  | 722/957 [00:54<00:17, 13.29it/s]"
     ]
    },
    {
     "name": "stdout",
     "output_type": "stream",
     "text": [
      "202 133\n",
      "reclining 11 jpg\n",
      "151 164\n",
      "reclining 12 png\n",
      "174 165\n",
      "reclining 13 png\n"
     ]
    },
    {
     "name": "stderr",
     "output_type": "stream",
     "text": [
      " 76%|███████▌  | 726/957 [00:54<00:17, 13.29it/s]"
     ]
    },
    {
     "name": "stdout",
     "output_type": "stream",
     "text": [
      "137 74\n",
      "reclining 14 jpg\n",
      "109 110\n",
      "reclining 15 png\n",
      "124 125\n",
      "reclining 16 png\n",
      "312 181\n"
     ]
    },
    {
     "name": "stderr",
     "output_type": "stream",
     "text": [
      "\r",
      " 76%|███████▌  | 728/957 [00:54<00:17, 13.30it/s]"
     ]
    },
    {
     "name": "stdout",
     "output_type": "stream",
     "text": [
      "reclining 17 png\n",
      "147 135\n",
      "reclining 18 png\n",
      "206 168\n",
      "reclining 19 png\n"
     ]
    },
    {
     "name": "stderr",
     "output_type": "stream",
     "text": [
      " 76%|███████▋  | 732/957 [00:55<00:16, 13.30it/s]"
     ]
    },
    {
     "name": "stdout",
     "output_type": "stream",
     "text": [
      "132 131\n",
      "reclining 02 png\n",
      "195 167\n",
      "reclining 20 png\n",
      "154 158\n",
      "reclining 21 jpg\n"
     ]
    },
    {
     "name": "stderr",
     "output_type": "stream",
     "text": [
      "\r",
      " 77%|███████▋  | 734/957 [00:55<00:16, 13.30it/s]"
     ]
    },
    {
     "name": "stdout",
     "output_type": "stream",
     "text": [
      "150 139\n",
      "reclining 22 jpg\n",
      "119 89\n",
      "reclining 23 jpg\n",
      "96 77\n",
      "reclining 24 jpg\n",
      "110 75\n",
      "reclining 25"
     ]
    },
    {
     "name": "stderr",
     "output_type": "stream",
     "text": [
      "\r",
      " 77%|███████▋  | 736/957 [00:55<00:16, 13.31it/s]"
     ]
    },
    {
     "name": "stdout",
     "output_type": "stream",
     "text": [
      " jpg\n",
      "144 119\n",
      "reclining 26 jpg\n",
      "188 180\n",
      "reclining 27 jpg\n"
     ]
    },
    {
     "name": "stderr",
     "output_type": "stream",
     "text": [
      " 77%|███████▋  | 740/957 [00:55<00:16, 13.30it/s]"
     ]
    },
    {
     "name": "stdout",
     "output_type": "stream",
     "text": [
      "112 95\n",
      "reclining 28 jpg\n",
      "200 81\n",
      "reclining 29 jpg\n",
      "186 104\n",
      "reclining 03 png\n"
     ]
    },
    {
     "name": "stderr",
     "output_type": "stream",
     "text": [
      "\r",
      " 78%|███████▊  | 742/957 [00:55<00:16, 13.30it/s]"
     ]
    },
    {
     "name": "stdout",
     "output_type": "stream",
     "text": [
      "290 224\n",
      "reclining 30 jpg\n",
      "316 224\n",
      "reclining 31 jpg\n",
      "384 166\n",
      "reclining 32 jpg\n"
     ]
    },
    {
     "name": "stderr",
     "output_type": "stream",
     "text": [
      " 78%|███████▊  | 746/957 [00:56<00:15, 13.29it/s]"
     ]
    },
    {
     "name": "stdout",
     "output_type": "stream",
     "text": [
      "258 125\n",
      "reclining 33 jpg\n",
      "202 108\n",
      "reclining 34 jpg\n",
      "196 199\n",
      "reclining 35 jpg\n"
     ]
    },
    {
     "name": "stderr",
     "output_type": "stream",
     "text": [
      " 78%|███████▊  | 750/957 [00:56<00:15, 13.30it/s]"
     ]
    },
    {
     "name": "stdout",
     "output_type": "stream",
     "text": [
      "115 108\n",
      "reclining 36 jpg\n",
      "345 123\n",
      "reclining 37 jpg\n",
      "181 234\n",
      "reclining 38 jpg\n"
     ]
    },
    {
     "name": "stderr",
     "output_type": "stream",
     "text": [
      "\r",
      " 79%|███████▊  | 752/957 [00:56<00:15, 13.30it/s]"
     ]
    },
    {
     "name": "stdout",
     "output_type": "stream",
     "text": [
      "313 216\n",
      "reclining 39 jpg\n",
      "187 211\n",
      "reclining 04 png\n",
      "162 172\n",
      "reclining 40 jpg\n"
     ]
    },
    {
     "name": "stderr",
     "output_type": "stream",
     "text": [
      " 79%|███████▉  | 756/957 [00:56<00:15, 13.30it/s]"
     ]
    },
    {
     "name": "stdout",
     "output_type": "stream",
     "text": [
      "146 101\n",
      "reclining 41 jpg\n",
      "194 203\n",
      "reclining 42 jpg\n",
      "214 219\n",
      "reclining 43 jpg\n"
     ]
    },
    {
     "name": "stderr",
     "output_type": "stream",
     "text": [
      "\r",
      " 79%|███████▉  | 758/957 [00:56<00:14, 13.30it/s]"
     ]
    },
    {
     "name": "stdout",
     "output_type": "stream",
     "text": [
      "177 128\n",
      "reclining 44 jpg\n",
      "284 147\n",
      "reclining 45 jpg\n",
      "158 151\n",
      "reclining 46 jpg\n"
     ]
    },
    {
     "name": "stderr",
     "output_type": "stream",
     "text": [
      "\r",
      " 79%|███████▉  | 760/957 [00:57<00:14, 13.27it/s]"
     ]
    },
    {
     "name": "stdout",
     "output_type": "stream",
     "text": [
      "209 162\n",
      "reclining 47 jpg\n",
      "232 200\n",
      "reclining 48 jpg\n",
      "308 182\n",
      "reclining 49 jpg\n"
     ]
    },
    {
     "name": "stderr",
     "output_type": "stream",
     "text": [
      " 80%|███████▉  | 764/957 [00:57<00:14, 13.27it/s]"
     ]
    },
    {
     "name": "stdout",
     "output_type": "stream",
     "text": [
      "117 130\n",
      "reclining 05 png\n",
      "185 111\n",
      "reclining 50 jpg\n",
      "172 136\n",
      "reclining 51 jpg\n"
     ]
    },
    {
     "name": "stderr",
     "output_type": "stream",
     "text": [
      " 80%|████████  | 768/957 [00:57<00:14, 13.28it/s]"
     ]
    },
    {
     "name": "stdout",
     "output_type": "stream",
     "text": [
      "119 172\n",
      "reclining 52 jpg\n",
      "298 167\n",
      "reclining 53 jpg\n",
      "187 118\n",
      "reclining 54 jpg\n",
      "118 146\n",
      "reclining 55 jpg\n"
     ]
    },
    {
     "name": "stderr",
     "output_type": "stream",
     "text": [
      " 81%|████████  | 772/957 [00:58<00:13, 13.29it/s]"
     ]
    },
    {
     "name": "stdout",
     "output_type": "stream",
     "text": [
      "133 219\n",
      "reclining 56 jpg\n",
      "144 74\n",
      "reclining 57 jpg\n",
      "196 163\n",
      "reclining 58 jpg\n"
     ]
    },
    {
     "name": "stderr",
     "output_type": "stream",
     "text": [
      "\r",
      " 81%|████████  | 774/957 [00:58<00:13, 13.29it/s]"
     ]
    },
    {
     "name": "stdout",
     "output_type": "stream",
     "text": [
      "149 181\n",
      "reclining 59 jpg\n",
      "236 67\n",
      "reclining 06 png\n",
      "146 133\n",
      "reclining 60 jpg\n"
     ]
    },
    {
     "name": "stderr",
     "output_type": "stream",
     "text": [
      " 81%|████████▏ | 778/957 [00:58<00:13, 13.30it/s]"
     ]
    },
    {
     "name": "stdout",
     "output_type": "stream",
     "text": [
      "122 124\n",
      "reclining 07 png\n",
      "164 98\n",
      "reclining 08 jpg\n",
      "145 62\n",
      "reclining 09 png\n",
      "104 130\n",
      "seated.quiet 01 png\n"
     ]
    },
    {
     "name": "stderr",
     "output_type": "stream",
     "text": [
      " 82%|████████▏ | 782/957 [00:58<00:13, 13.31it/s]"
     ]
    },
    {
     "name": "stdout",
     "output_type": "stream",
     "text": [
      "118 250\n",
      "seated.quiet 10 png\n",
      "116 128\n",
      "seated.quiet 11 png\n",
      "173 194\n",
      "seated.quiet 12 png\n",
      "129 168\n",
      "seated.quiet 13 png\n"
     ]
    },
    {
     "name": "stderr",
     "output_type": "stream",
     "text": [
      " 82%|████████▏ | 786/957 [00:59<00:12, 13.32it/s]"
     ]
    },
    {
     "name": "stdout",
     "output_type": "stream",
     "text": [
      "76 105\n",
      "seated.quiet 14 png\n",
      "125 168\n",
      "seated.quiet 15 png\n",
      "63 307\n",
      "seated.quiet 16 png\n",
      "109 222\n",
      "seated.quiet 17 png\n"
     ]
    },
    {
     "name": "stderr",
     "output_type": "stream",
     "text": [
      " 83%|████████▎ | 790/957 [00:59<00:12, 13.33it/s]"
     ]
    },
    {
     "name": "stdout",
     "output_type": "stream",
     "text": [
      "222 158\n",
      "seated.quiet 18 png\n",
      "109 138\n",
      "seated.quiet 19 png\n",
      "270 231\n",
      "seated.quiet 02 png\n",
      "102 143\n",
      "seated.quiet 20 png\n"
     ]
    },
    {
     "name": "stderr",
     "output_type": "stream",
     "text": [
      " 83%|████████▎ | 794/957 [00:59<00:12, 13.33it/s]"
     ]
    },
    {
     "name": "stdout",
     "output_type": "stream",
     "text": [
      "166 159\n",
      "seated.quiet 21 jpg\n",
      "223 239\n",
      "seated.quiet 22 jpg\n",
      "235 142\n",
      "seated.quiet 23 jpg\n"
     ]
    },
    {
     "name": "stderr",
     "output_type": "stream",
     "text": [
      "\r",
      " 83%|████████▎ | 796/957 [00:59<00:12, 13.34it/s]"
     ]
    },
    {
     "name": "stdout",
     "output_type": "stream",
     "text": [
      "227 284\n",
      "seated.quiet 24 jpg\n",
      "165 217\n",
      "seated.quiet 25 jpg\n",
      "116 202\n",
      "seated.quiet 26 jpg\n",
      "140 228\n",
      "seated.quiet 27 jpg\n"
     ]
    },
    {
     "name": "stderr",
     "output_type": "stream",
     "text": [
      " 84%|████████▎ | 800/957 [00:59<00:11, 13.33it/s]"
     ]
    },
    {
     "name": "stdout",
     "output_type": "stream",
     "text": [
      "118 208\n",
      "seated.quiet 28 jpg\n",
      "124 179\n",
      "seated.quiet 29 png\n",
      "154 215\n",
      "seated.quiet 03 png\n"
     ]
    },
    {
     "name": "stderr",
     "output_type": "stream",
     "text": [
      " 84%|████████▍ | 804/957 [01:00<00:11, 13.33it/s]"
     ]
    },
    {
     "name": "stdout",
     "output_type": "stream",
     "text": [
      "138 184\n",
      "seated.quiet 30 jpg\n",
      "104 158\n",
      "seated.quiet 32 jpg\n",
      "191 223\n",
      "seated.quiet 33 jpg\n",
      "250 125\n",
      "seated.quiet 34 jpg\n"
     ]
    },
    {
     "name": "stderr",
     "output_type": "stream",
     "text": [
      " 84%|████████▍ | 808/957 [01:00<00:11, 13.33it/s]"
     ]
    },
    {
     "name": "stdout",
     "output_type": "stream",
     "text": [
      "166 172\n",
      "seated.quiet 35 jpg\n",
      "98 137\n",
      "seated.quiet 36 jpg\n",
      "63 236\n",
      "seated.quiet 37 jpg\n"
     ]
    },
    {
     "name": "stderr",
     "output_type": "stream",
     "text": [
      "\r",
      " 85%|████████▍ | 810/957 [01:00<00:11, 13.33it/s]"
     ]
    },
    {
     "name": "stdout",
     "output_type": "stream",
     "text": [
      "77 388\n",
      "seated.quiet 38 jpg\n",
      "75 225\n",
      "seated.quiet 39 jpg\n",
      "308 270\n",
      "seated.quiet 04 png\n"
     ]
    },
    {
     "name": "stderr",
     "output_type": "stream",
     "text": [
      " 85%|████████▌ | 814/957 [01:01<00:10, 13.33it/s]"
     ]
    },
    {
     "name": "stdout",
     "output_type": "stream",
     "text": [
      "172 140\n",
      "seated.quiet 40 jpg\n",
      "193 222\n",
      "seated.quiet 41 jpg\n",
      "144 179\n",
      "seated.quiet 42 jpg\n"
     ]
    },
    {
     "name": "stderr",
     "output_type": "stream",
     "text": [
      "\r",
      " 85%|████████▌ | 816/957 [01:01<00:10, 13.33it/s]"
     ]
    },
    {
     "name": "stdout",
     "output_type": "stream",
     "text": [
      "83 161\n",
      "seated.quiet 43 jpg\n",
      "238 261\n",
      "seated.quiet 44 jpg\n",
      "81 110\n",
      "seated.quiet 45 jpg\n",
      "126 157\n",
      "seated.quiet 46 jpg\n"
     ]
    },
    {
     "name": "stderr",
     "output_type": "stream",
     "text": [
      " 86%|████████▌ | 820/957 [01:01<00:10, 13.34it/s]"
     ]
    },
    {
     "name": "stdout",
     "output_type": "stream",
     "text": [
      "119 265\n",
      "seated.quiet 47 jpg\n",
      "130 146\n",
      "seated.quiet 48 png\n",
      "161 217\n",
      "seated.quiet 49 png\n"
     ]
    },
    {
     "name": "stderr",
     "output_type": "stream",
     "text": [
      " 86%|████████▌ | 824/957 [01:01<00:09, 13.35it/s]"
     ]
    },
    {
     "name": "stdout",
     "output_type": "stream",
     "text": [
      "110 276\n",
      "seated.quiet 05 png\n",
      "147 189\n",
      "seated.quiet 50 jpg\n",
      "173 263\n",
      "seated.quiet 51 jpg\n"
     ]
    },
    {
     "name": "stderr",
     "output_type": "stream",
     "text": [
      "\r",
      " 86%|████████▋ | 826/957 [01:01<00:09, 13.35it/s]"
     ]
    },
    {
     "name": "stdout",
     "output_type": "stream",
     "text": [
      "182 204\n",
      "seated.quiet 52 jpg\n",
      "111 77\n",
      "seated.quiet 53 jpg\n",
      "129 240\n",
      "seated.quiet 54 jpg\n",
      "101 127\n",
      "seated.quiet 55 jpg\n"
     ]
    },
    {
     "name": "stderr",
     "output_type": "stream",
     "text": [
      " 87%|████████▋ | 830/957 [01:02<00:09, 13.36it/s]"
     ]
    },
    {
     "name": "stdout",
     "output_type": "stream",
     "text": [
      "108 193\n",
      "seated.quiet 56 jpg\n",
      "209 179\n",
      "seated.quiet 57 jpg\n",
      "164 209\n",
      "seated.quiet 58 png\n"
     ]
    },
    {
     "name": "stderr",
     "output_type": "stream",
     "text": [
      " 87%|████████▋ | 834/957 [01:02<00:09, 13.35it/s]"
     ]
    },
    {
     "name": "stdout",
     "output_type": "stream",
     "text": [
      "148 242\n",
      "seated.quiet 59 jpg\n",
      "206 177\n",
      "seated.quiet 06 png\n",
      "63 312\n",
      "seated.quiet 60 jpg\n"
     ]
    },
    {
     "name": "stderr",
     "output_type": "stream",
     "text": [
      "\r",
      " 87%|████████▋ | 836/957 [01:02<00:09, 13.36it/s]"
     ]
    },
    {
     "name": "stdout",
     "output_type": "stream",
     "text": [
      "139 168\n",
      "seated.quiet 07 png\n",
      "178 139\n",
      "seated.quiet 08 png\n",
      "147 282\n",
      "seated.quiet 09 png\n",
      "112 81\n",
      "sleeping 01 png\n"
     ]
    },
    {
     "name": "stderr",
     "output_type": "stream",
     "text": [
      " 88%|████████▊ | 840/957 [01:02<00:08, 13.36it/s]"
     ]
    },
    {
     "name": "stdout",
     "output_type": "stream",
     "text": [
      "122 144\n",
      "sleeping 10 png\n",
      "240 175\n",
      "sleeping 11 jpg\n",
      "105 141\n",
      "sleeping 12 png\n"
     ]
    },
    {
     "name": "stderr",
     "output_type": "stream",
     "text": [
      " 88%|████████▊ | 844/957 [01:03<00:08, 13.36it/s]"
     ]
    },
    {
     "name": "stdout",
     "output_type": "stream",
     "text": [
      "206 157\n",
      "sleeping 13 png\n",
      "168 103\n",
      "sleeping 14 png\n",
      "168 66\n",
      "sleeping 15 png\n"
     ]
    },
    {
     "name": "stderr",
     "output_type": "stream",
     "text": [
      "\r",
      " 88%|████████▊ | 846/957 [01:03<00:08, 13.36it/s]"
     ]
    },
    {
     "name": "stdout",
     "output_type": "stream",
     "text": [
      "196 187\n",
      "sleeping 16 png\n",
      "178 116\n",
      "sleeping 17 png\n",
      "153 62\n",
      "sleeping 18 png\n"
     ]
    },
    {
     "name": "stderr",
     "output_type": "stream",
     "text": [
      " 89%|████████▉ | 850/957 [01:03<00:08, 13.35it/s]"
     ]
    },
    {
     "name": "stdout",
     "output_type": "stream",
     "text": [
      "275 138\n",
      "sleeping 19 png\n",
      "125 153\n",
      "sleeping 02 png\n",
      "123 143\n",
      "sleeping 20 png\n"
     ]
    },
    {
     "name": "stderr",
     "output_type": "stream",
     "text": [
      "\r",
      " 89%|████████▉ | 852/957 [01:03<00:07, 13.34it/s]"
     ]
    },
    {
     "name": "stdout",
     "output_type": "stream",
     "text": [
      "285 119\n",
      "sleeping 21 jpg\n",
      "151 400\n",
      "sleeping 22 jpg\n",
      "113 125\n",
      "sleeping 23 jpg\n"
     ]
    },
    {
     "name": "stderr",
     "output_type": "stream",
     "text": [
      " 89%|████████▉ | 856/957 [01:04<00:07, 13.35it/s]"
     ]
    },
    {
     "name": "stdout",
     "output_type": "stream",
     "text": [
      "217 104\n",
      "sleeping 24 jpg\n",
      "175 169\n",
      "sleeping 25 jpg\n",
      "126 155\n",
      "sleeping 26 jpg\n",
      "133 114\n",
      "sleeping 27 jpg\n"
     ]
    },
    {
     "name": "stderr",
     "output_type": "stream",
     "text": [
      " 90%|████████▉ | 860/957 [01:04<00:07, 13.35it/s]"
     ]
    },
    {
     "name": "stdout",
     "output_type": "stream",
     "text": [
      "193 133\n",
      "sleeping 28 jpg\n",
      "159 124\n",
      "sleeping 29 jpg\n",
      "81 98\n",
      "sleeping 03 png\n"
     ]
    },
    {
     "name": "stderr",
     "output_type": "stream",
     "text": [
      "\r",
      " 90%|█████████ | 862/957 [01:04<00:07, 13.36it/s]"
     ]
    },
    {
     "name": "stdout",
     "output_type": "stream",
     "text": [
      "180 71\n",
      "sleeping 30 jpg\n",
      "156 79\n",
      "sleeping 31 jpg\n",
      "248 262\n",
      "sleeping 32 jpg\n"
     ]
    },
    {
     "name": "stderr",
     "output_type": "stream",
     "text": [
      " 90%|█████████ | 866/957 [01:04<00:06, 13.36it/s]"
     ]
    },
    {
     "name": "stdout",
     "output_type": "stream",
     "text": [
      "133 138\n",
      "sleeping 33 jpg\n",
      "123 143\n",
      "sleeping 34 jpg\n",
      "201 175\n",
      "sleeping 35 jpg\n"
     ]
    },
    {
     "name": "stderr",
     "output_type": "stream",
     "text": [
      "\r",
      " 91%|█████████ | 868/957 [01:05<00:06, 13.34it/s]"
     ]
    },
    {
     "name": "stdout",
     "output_type": "stream",
     "text": [
      "80 115\n",
      "sleeping 36 jpg\n",
      "124 145\n",
      "sleeping 37 jpg\n",
      "252 116\n",
      "sleeping 38 jpg\n"
     ]
    },
    {
     "name": "stderr",
     "output_type": "stream",
     "text": [
      "\r",
      " 91%|█████████ | 870/957 [01:05<00:06, 13.34it/s]"
     ]
    },
    {
     "name": "stdout",
     "output_type": "stream",
     "text": [
      "77 81\n",
      "sleeping 39 jpg\n",
      "154 128\n",
      "sleeping 04 png\n",
      "246 115\n",
      "sleeping 40 jpg\n"
     ]
    },
    {
     "name": "stderr",
     "output_type": "stream",
     "text": [
      " 91%|█████████▏| 874/957 [01:05<00:06, 13.34it/s]"
     ]
    },
    {
     "name": "stdout",
     "output_type": "stream",
     "text": [
      "231 115\n",
      "sleeping 41 jpg\n",
      "208 185\n",
      "sleeping 42 jpg\n",
      "211 66\n",
      "sleeping 43 jpg\n"
     ]
    },
    {
     "name": "stderr",
     "output_type": "stream",
     "text": [
      " 92%|█████████▏| 878/957 [01:05<00:05, 13.32it/s]"
     ]
    },
    {
     "name": "stdout",
     "output_type": "stream",
     "text": [
      "211 90\n",
      "sleeping 44 jpg\n",
      "175 90\n",
      "sleeping 45 jpg\n",
      "166 138\n",
      "sleeping 46 jpg\n"
     ]
    },
    {
     "name": "stderr",
     "output_type": "stream",
     "text": [
      "\r",
      " 92%|█████████▏| 880/957 [01:06<00:05, 13.32it/s]"
     ]
    },
    {
     "name": "stdout",
     "output_type": "stream",
     "text": [
      "98 97\n",
      "sleeping 47 jpg\n",
      "144 400\n",
      "sleeping 48 jpg\n",
      "122 70\n",
      "sleeping 49 jpg\n"
     ]
    },
    {
     "name": "stderr",
     "output_type": "stream",
     "text": [
      "\r",
      " 92%|█████████▏| 882/957 [01:06<00:05, 13.33it/s]"
     ]
    },
    {
     "name": "stdout",
     "output_type": "stream",
     "text": [
      "118 61\n",
      "sleeping 05 png\n",
      "210 102\n",
      "sleeping 50 jpg\n",
      "200 92\n",
      "sleeping 51 jpg\n"
     ]
    },
    {
     "name": "stderr",
     "output_type": "stream",
     "text": [
      " 93%|█████████▎| 886/957 [01:06<00:05, 13.31it/s]"
     ]
    },
    {
     "name": "stdout",
     "output_type": "stream",
     "text": [
      "125 255\n",
      "sleeping 52 jpg\n",
      "56 94\n",
      "sleeping 53 jpg\n",
      "38 104\n",
      "sleeping 54 jpg\n"
     ]
    },
    {
     "name": "stderr",
     "output_type": "stream",
     "text": [
      " 93%|█████████▎| 890/957 [01:06<00:05, 13.32it/s]"
     ]
    },
    {
     "name": "stdout",
     "output_type": "stream",
     "text": [
      "68 68\n",
      "sleeping 55 jpg\n",
      "60 112\n",
      "sleeping 56 jpg\n",
      "77 84\n",
      "sleeping 57 jpg\n",
      "74 101\n",
      "sleeping 58 jpg\n"
     ]
    },
    {
     "name": "stderr",
     "output_type": "stream",
     "text": [
      " 93%|█████████▎| 894/957 [01:07<00:04, 13.33it/s]"
     ]
    },
    {
     "name": "stdout",
     "output_type": "stream",
     "text": [
      "81 74\n",
      "sleeping 59 jpg\n",
      "151 145\n",
      "sleeping 06 png\n",
      "80 49\n",
      "sleeping 60 jpg\n",
      "47 110\n",
      "sleeping 07 png\n"
     ]
    },
    {
     "name": "stderr",
     "output_type": "stream",
     "text": [
      " 94%|█████████▍| 898/957 [01:07<00:04, 13.33it/s]"
     ]
    },
    {
     "name": "stdout",
     "output_type": "stream",
     "text": [
      "95 206\n",
      "sleeping 08 png\n",
      "94 146\n",
      "sleeping 09 jpg\n",
      "140 143\n",
      "standing.relaxed 01 png\n"
     ]
    },
    {
     "name": "stderr",
     "output_type": "stream",
     "text": [
      " 94%|█████████▍| 902/957 [01:07<00:04, 13.35it/s]"
     ]
    },
    {
     "name": "stdout",
     "output_type": "stream",
     "text": [
      "74 116\n",
      "standing.relaxed 10 bmp\n",
      "74 88\n",
      "standing.relaxed 11 bmp\n",
      "64 75\n",
      "standing.relaxed 12 bmp\n",
      "67 69\n",
      "standing.relaxed 13 bmp\n"
     ]
    },
    {
     "name": "stderr",
     "output_type": "stream",
     "text": [
      "\r",
      " 94%|█████████▍| 904/957 [01:07<00:03, 13.35it/s]"
     ]
    },
    {
     "name": "stdout",
     "output_type": "stream",
     "text": [
      "122 217\n",
      "standing.relaxed 14 bmp\n",
      "81 104\n",
      "standing.relaxed 15 bmp\n",
      "66 116\n",
      "standing.relaxed 16 bmp\n",
      "59 128\n",
      "standing.relaxed 17 bmp\n"
     ]
    },
    {
     "name": "stderr",
     "output_type": "stream",
     "text": [
      " 95%|█████████▍| 908/957 [01:07<00:03, 13.37it/s]"
     ]
    },
    {
     "name": "stdout",
     "output_type": "stream",
     "text": [
      "91 172\n",
      "standing.relaxed 18 bmp\n",
      "67 98\n",
      "standing.relaxed 19 bmp\n",
      "61 60\n",
      "standing.relaxed 02 bmp\n",
      "73 132\n",
      "standing.relaxed 20 bmp\n"
     ]
    },
    {
     "name": "stderr",
     "output_type": "stream",
     "text": [
      " 95%|█████████▌| 912/957 [01:08<00:03, 13.38it/s]"
     ]
    },
    {
     "name": "stdout",
     "output_type": "stream",
     "text": [
      "54 119\n",
      "standing.relaxed 21 JPG\n",
      "46 108\n",
      "standing.relaxed 22 JPG\n",
      "67 100\n",
      "standing.relaxed 23 JPG\n",
      "63 116\n",
      "standing.relaxed 24 JPG\n"
     ]
    },
    {
     "name": "stderr",
     "output_type": "stream",
     "text": [
      " 96%|█████████▌| 916/957 [01:08<00:03, 13.39it/s]"
     ]
    },
    {
     "name": "stdout",
     "output_type": "stream",
     "text": [
      "77 123\n",
      "standing.relaxed 25 JPG\n",
      "69 122\n",
      "standing.relaxed 26 JPG\n",
      "59 121\n",
      "standing.relaxed 27 JPG\n",
      "77 105\n",
      "standing.relaxed 28 JPG\n"
     ]
    },
    {
     "name": "stderr",
     "output_type": "stream",
     "text": [
      " 96%|█████████▌| 920/957 [01:08<00:02, 13.40it/s]"
     ]
    },
    {
     "name": "stdout",
     "output_type": "stream",
     "text": [
      "69 115\n",
      "standing.relaxed 29 JPG\n",
      "60 98\n",
      "standing.relaxed 03 bmp\n",
      "69 121\n",
      "standing.relaxed 30 JPG\n",
      "53 117\n",
      "standing.relaxed 31 JPG\n"
     ]
    },
    {
     "name": "stderr",
     "output_type": "stream",
     "text": [
      " 97%|█████████▋| 924/957 [01:08<00:02, 13.41it/s]"
     ]
    },
    {
     "name": "stdout",
     "output_type": "stream",
     "text": [
      "56 109\n",
      "standing.relaxed 32 JPG\n",
      "56 115\n",
      "standing.relaxed 33 JPG\n",
      "53 91\n",
      "standing.relaxed 34 JPG\n",
      "39 145\n",
      "standing.relaxed 35 JPG\n"
     ]
    },
    {
     "name": "stderr",
     "output_type": "stream",
     "text": [
      " 97%|█████████▋| 928/957 [01:09<00:02, 13.43it/s]"
     ]
    },
    {
     "name": "stdout",
     "output_type": "stream",
     "text": [
      "62 116\n",
      "standing.relaxed 36 JPG\n",
      "74 152\n",
      "standing.relaxed 37 JPG\n",
      "73 136\n",
      "standing.relaxed 38 JPG\n",
      "56 112\n",
      "standing.relaxed 39 JPG\n"
     ]
    },
    {
     "name": "stderr",
     "output_type": "stream",
     "text": [
      " 97%|█████████▋| 932/957 [01:09<00:01, 13.43it/s]"
     ]
    },
    {
     "name": "stdout",
     "output_type": "stream",
     "text": [
      "55 73\n",
      "standing.relaxed 04 bmp\n",
      "48 77\n",
      "standing.relaxed 40 JPG\n",
      "62 125\n",
      "standing.relaxed 41 JPG\n"
     ]
    },
    {
     "name": "stderr",
     "output_type": "stream",
     "text": [
      " 98%|█████████▊| 936/957 [01:09<00:01, 13.44it/s]"
     ]
    },
    {
     "name": "stdout",
     "output_type": "stream",
     "text": [
      "55 82\n",
      "standing.relaxed 42 JPG\n",
      "59 122\n",
      "standing.relaxed 43 JPG\n",
      "63 119\n",
      "standing.relaxed 44 JPG\n",
      "60 124\n",
      "standing.relaxed 45 JPG\n"
     ]
    },
    {
     "name": "stderr",
     "output_type": "stream",
     "text": [
      " 98%|█████████▊| 940/957 [01:09<00:01, 13.46it/s]"
     ]
    },
    {
     "name": "stdout",
     "output_type": "stream",
     "text": [
      "73 118\n",
      "standing.relaxed 46 JPG\n",
      "66 130\n",
      "standing.relaxed 47 JPG\n",
      "41 98\n",
      "standing.relaxed 48 JPG\n",
      "53 93\n",
      "standing.relaxed 49 JPG\n"
     ]
    },
    {
     "name": "stderr",
     "output_type": "stream",
     "text": [
      " 99%|█████████▊| 944/957 [01:10<00:00, 13.46it/s]"
     ]
    },
    {
     "name": "stdout",
     "output_type": "stream",
     "text": [
      "211 208\n",
      "standing.relaxed 05 bmp\n",
      "81 103\n",
      "standing.relaxed 50 JPG\n",
      "56 125\n",
      "standing.relaxed 51 JPG\n"
     ]
    },
    {
     "name": "stderr",
     "output_type": "stream",
     "text": [
      "\r",
      " 99%|█████████▉| 946/957 [01:10<00:00, 13.45it/s]"
     ]
    },
    {
     "name": "stdout",
     "output_type": "stream",
     "text": [
      "66 136\n",
      "standing.relaxed 52 JPG\n",
      "68 124\n",
      "standing.relaxed 53 JPG\n",
      "80 133\n",
      "standing.relaxed 54 JPG\n"
     ]
    },
    {
     "name": "stderr",
     "output_type": "stream",
     "text": [
      " 99%|█████████▉| 950/957 [01:10<00:00, 13.47it/s]"
     ]
    },
    {
     "name": "stdout",
     "output_type": "stream",
     "text": [
      "68 143\n",
      "standing.relaxed 55 JPG\n",
      "59 101\n",
      "standing.relaxed 56 JPG\n",
      "77 125\n",
      "standing.relaxed 57 JPG\n",
      "59 115\n",
      "standing.relaxed 58 JPG\n"
     ]
    },
    {
     "name": "stderr",
     "output_type": "stream",
     "text": [
      "100%|█████████▉| 954/957 [01:10<00:00, 13.48it/s]"
     ]
    },
    {
     "name": "stdout",
     "output_type": "stream",
     "text": [
      "66 100\n",
      "standing.relaxed 59 JPG\n",
      "94 102\n",
      "standing.relaxed 06 bmp\n",
      "18 133\n",
      "standing.relaxed 60 JPG\n",
      "68 117\n",
      "standing.relaxed 07 bmp\n"
     ]
    },
    {
     "name": "stderr",
     "output_type": "stream",
     "text": [
      "100%|██████████| 957/957 [01:10<00:00, 13.49it/s]\n"
     ]
    },
    {
     "name": "stdout",
     "output_type": "stream",
     "text": [
      "45 103\n",
      "standing.relaxed 08 bmp\n",
      "46 94\n",
      "standing.relaxed 09 bmp\n"
     ]
    },
    {
     "data": {
      "image/png": "[encoded data removed]",
      "text/plain": [
       "<Figure size 432x288 with 1 Axes>"
      ]
     },
     "metadata": {},
     "output_type": "display_data"
    }
   ],
   "source": [
    "numImages = len(test_dataset.info)\n",
    "\n",
    "#for imageIdx in range(numImages):\n",
    "for imageIdx in tqdm(range(numImages)):\n",
    "    # get image\n",
    "    img=test_dataset.get_original_image(imageIdx)\n",
    "\n",
    "    # get image info\n",
    "    image, joints, is_valid_joints, misc = test_dataset.get_example(imageIdx)\n",
    "    valid_joints = joints[is_valid_joints].reshape(-1,2)\n",
    "\n",
    "    bbox=misc['bbox']\n",
    "\n",
    "\n",
    "    # plot joints\n",
    "    plt.gcf().clear()\n",
    "    plt.imshow(img[:,:,::-1])\n",
    "    # plot joints\n",
    "    offsetX = bbox[0]\n",
    "    offsetY = bbox[1]\n",
    "    W = bbox[2]#-bbox[0]\n",
    "    H = bbox[3]#-bbox[1]\n",
    "    print(W,H)\n",
    "    plt.plot((valid_joints[:,0]+0.5)*W+offsetX, (valid_joints[:,1]+0.5)*H+offsetY,'or')\n",
    "\n",
    "    plt.xticks([]), plt.yticks([])  # to hide tick values on X and Y axis\n",
    "\n",
    "\n",
    "    \n",
    "    \n",
    "    #\n",
    "    # let's parse image name\n",
    "    id = misc['image_id'].split('/')\n",
    "    #print(id)\n",
    "\n",
    "    activity = id[-2]\n",
    "    filename = id[-1]\n",
    "    filename_no, filename_ext = filename.split('.',1)\n",
    "    filename_no = int(filename_no)\n",
    "    filename_no = '{:02d}'.format(filename_no) # add leaning 0 for one digit numbers\n",
    "\n",
    "    print(activity, filename_no, filename_ext)\n",
    "    \n",
    "    \n",
    "    # save \n",
    "    folderName = 'joints/{}'.format(activity)\n",
    "    if not os.path.exists(folderName):\n",
    "        os.makedirs(folderName)\n",
    "    #plt.savefig(folderName+'/'+filename_no+'.'+filename_ext)\n",
    "    plt.savefig(folderName+'/'+filename_no+'.png')  # jpt is not supported!\n",
    "    "
   ]
  },
  {
   "cell_type": "code",
   "execution_count": 7,
   "metadata": {},
   "outputs": [
    {
     "data": {
      "text/plain": [
       "{'bbox': array([16,  2, 46, 94]),\n",
       " 'image_id': 'image/resting/standing.relaxed/9.bmp',\n",
       " 'orig_tightest_bbox': array([23., 16., 32., 66.])}"
      ]
     },
     "execution_count": 7,
     "metadata": {},
     "output_type": "execute_result"
    }
   ],
   "source": [
    "misc"
   ]
  },
  {
   "cell_type": "code",
   "execution_count": null,
   "metadata": {},
   "outputs": [],
   "source": []
  }
 ],
 "metadata": {
  "kernelspec": {
   "display_name": "Python 3",
   "language": "python",
   "name": "python3"
  },
  "language_info": {
   "codemirror_mode": {
    "name": "ipython",
    "version": 3
   },
   "file_extension": ".py",
   "mimetype": "text/x-python",
   "name": "python",
   "nbconvert_exporter": "python",
   "pygments_lexer": "ipython3",
   "version": "3.5.2"
  }
 },
 "nbformat": 4,
 "nbformat_minor": 2
}
