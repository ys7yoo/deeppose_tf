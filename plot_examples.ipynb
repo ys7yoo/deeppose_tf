{
 "cells": [
  {
   "cell_type": "code",
   "execution_count": 4,
   "metadata": {
    "collapsed": true
   },
   "outputs": [],
   "source": [
    "import matplotlib.pyplot as pyplot\n",
    "%matplotlib inline"
   ]
  },
  {
   "cell_type": "code",
   "execution_count": 10,
   "metadata": {},
   "outputs": [
    {
     "name": "stderr",
     "output_type": "stream",
     "text": [
      "87it [00:00, 863.79it/s]"
     ]
    },
    {
     "name": "stdout",
     "output_type": "stream",
     "text": [
      "Reading dataset from /Users/yyoo/data/lsp/train_joints.csv\n",
      "Downscale images to the height 400px\n"
     ]
    },
    {
     "name": "stderr",
     "output_type": "stream",
     "text": [
      "1000it [00:01, 980.25it/s]"
     ]
    },
    {
     "name": "stdout",
     "output_type": "stream",
     "text": [
      "Joints shape: (14, 2)\n"
     ]
    },
    {
     "name": "stderr",
     "output_type": "stream",
     "text": [
      "\n"
     ]
    }
   ],
   "source": [
    "# loading scripts are in scripts/dataset.py\n",
    "from scripts import dataset\n",
    "import chainer\n",
    "import os\n",
    "\n",
    "# example code from tests/test_snapshot.py\n",
    "dataset_name = 'lsp'\n",
    "#dataset_name = 'lsp'\n",
    "\n",
    "if dataset_name == 'mpii':\n",
    "    DATASET_ROOT = os.path.expanduser('~/data/mpii')  # MPII dataset is here\n",
    "    TEST_CV_FILEPATH = os.path.join(DATASET_ROOT, 'test_joints.csv')\n",
    "    IMG_PATH_PREFIX = os.path.join(MPII_DATASET_ROOT, 'images')\n",
    "    symmetric_joints = \"[[12, 13], [11, 14], [10, 15], [2, 3], [1, 4], [0, 5]]\"\n",
    "    ignore_label = -100500\n",
    "else:\n",
    "    DATASET_ROOT = os.path.expanduser('~/data/lsp')  # LSP dataset is here\n",
    "#    TEST_CV_FILEPATH = os.path.join(DATASET_ROOT, 'test_joints.csv')\n",
    "    TEST_CV_FILEPATH = os.path.join(DATASET_ROOT, 'train_joints.csv')\n",
    "    IMG_PATH_PREFIX = os.path.join(DATASET_ROOT, 'images')\n",
    "    symmetric_joints = \"[[8, 9], [7, 10], [6, 11], [2, 3], [1, 4], [0, 5]]\"\n",
    "    ignore_label = -1\n",
    "\n",
    "test_dataset = dataset.PoseDataset(\n",
    "        TEST_CV_FILEPATH,\n",
    "        IMG_PATH_PREFIX, 227,\n",
    "        fliplr=False, rotate=False,\n",
    "        shift=None,\n",
    "        bbox_extension_range=(1.0, 1.0),\n",
    "        coord_normalize=True,\n",
    "        gcn=True,\n",
    "        fname_index=0,\n",
    "        joint_index=1,\n",
    "        symmetric_joints=symmetric_joints,\n",
    "        ignore_label=ignore_label,\n",
    "        should_return_bbox=True,\n",
    "        should_downscale_images=True,\n",
    "        downscale_height=400\n",
    ")"
   ]
  },
  {
   "cell_type": "code",
   "execution_count": 6,
   "metadata": {},
   "outputs": [
    {
     "name": "stdout",
     "output_type": "stream",
     "text": [
      "Variable           Type           Data/Info\n",
      "-------------------------------------------\n",
      "DATASET_ROOT       str            /Users/yyoo/data/lsp\n",
      "IMG_PATH_PREFIX    str            /Users/yyoo/data/lsp/images\n",
      "TEST_CV_FILEPATH   str            /Users/yyoo/data/lsp/test_joints.csv\n",
      "chainer            module         <module 'chainer' from '/<...>ges/chainer/__init__.py'>\n",
      "dataset            module         <module 'scripts.dataset'<...>pose/scripts/dataset.py'>\n",
      "dataset_name       str            lsp\n",
      "ignore_label       int            -1\n",
      "os                 module         <module 'os' from '/opt/l<...>3.6/lib/python3.6/os.py'>\n",
      "pyplot             module         <module 'matplotlib.pyplo<...>es/matplotlib/pyplot.py'>\n",
      "symmetric_joints   str            [[8, 9], [7, 10], [6, 11]<...>, [2, 3], [1, 4], [0, 5]]\n",
      "test_dataset       PoseDataset    <scripts.dataset.PoseData<...>et object at 0x1224c87f0>\n"
     ]
    }
   ],
   "source": [
    "whos"
   ]
  },
  {
   "cell_type": "code",
   "execution_count": 4,
   "metadata": {
    "collapsed": true
   },
   "outputs": [],
   "source": [
    "test_dataset?"
   ]
  },
  {
   "cell_type": "code",
   "execution_count": 5,
   "metadata": {
    "collapsed": true
   },
   "outputs": [],
   "source": [
    "test_dataset??"
   ]
  },
  {
   "cell_type": "code",
   "execution_count": 22,
   "metadata": {},
   "outputs": [
    {
     "name": "stdout",
     "output_type": "stream",
     "text": [
      "201 163 3\n",
      "/Users/yyoo/data/lsp/images/im0205.jpg\n",
      "[[ 125.86821304   36.5440949 ]\n",
      " [ 108.83379643   62.09571982]\n",
      " [  89.67007774   86.5826937 ]\n",
      " [  80.62054392   81.79176403]\n",
      " [  99.25193709   61.03106878]\n",
      " [ 116.2863537    36.01176938]\n",
      " [  59.32752315  165.89919605]\n",
      " [  69.97403354  145.67082633]\n",
      " [  77.95891632  130.76571179]\n",
      " [  66.78008042  124.91013108]\n",
      " [  49.74566381  132.89501387]\n",
      " [  35.90520031  151.52640704]\n",
      " [  74.76496321  130.23338627]\n",
      " [  82.21752048  140.87989665]]\n",
      "14\n"
     ]
    },
    {
     "data": {
      "image/png": "[encoded data removed]",
      "text/plain": [
       "<matplotlib.figure.Figure at 0x12298c3c8>"
      ]
     },
     "metadata": {},
     "output_type": "display_data"
    }
   ],
   "source": [
    "## Plot original images\n",
    "\n",
    "import cv2\n",
    "from matplotlib import pyplot as plt\n",
    "\n",
    "#imageIdx = 11\n",
    "#imageIdx = 69\n",
    "#imageIdx = 97\n",
    "#imageIdx = 136\n",
    "#imageIdx = 178\n",
    "imageIdx = 204\n",
    "\n",
    "# get original image: HWC BGR original image (not cropped)\n",
    "img=test_dataset.get_original_image(imageIdx)\n",
    "h,w,d=img.shape\n",
    "print(h,w,d)\n",
    "\n",
    "imgFilename, joints = test_dataset.joints[imageIdx]\n",
    "print(imgFilename)\n",
    "print(joints)\n",
    "    \n",
    "# mark joints\n",
    "def markJoints(img, joints):\n",
    "    \n",
    "    numJoints, t = joints.shape\n",
    "    print(numJoints)\n",
    "\n",
    "    circSize=10\n",
    "    font = cv2.FONT_HERSHEY_SIMPLEX\n",
    "\n",
    "    for i in range(numJoints):\n",
    "        x = int(joints[i,0])\n",
    "        y = int(joints[i,1])\n",
    "    \n",
    "        cv2.circle(img, (x, y), 4, (255, 0, 0), thickness=-1)\n",
    "    \n",
    "#        cv2.putText(img, str(i), (x,y), font, 0.5, (255,255,255), 1, cv2.LINE_AA)\n",
    "\n",
    "markJoints(img, joints)\n",
    "\n",
    "\n",
    "#cv2.imshow('image',img)\n",
    "plt.imshow(img, cmap = 'gray', interpolation = 'bicubic')\n",
    "plt.xticks([]), plt.yticks([])  # to hide tick values on X and Y axis\n",
    "plt.show()\n"
   ]
  },
  {
   "cell_type": "code",
   "execution_count": 66,
   "metadata": {},
   "outputs": [
    {
     "name": "stdout",
     "output_type": "stream",
     "text": [
      "227 227 3\n",
      "14\n"
     ]
    },
    {
     "data": {
      "image/png": "[encoded data removed]",
      "text/plain": [
       "<matplotlib.figure.Figure at 0x7f1c90642860>"
      ]
     },
     "metadata": {},
     "output_type": "display_data"
    },
    {
     "name": "stdout",
     "output_type": "stream",
     "text": [
      "[[-0.12555066  0.42511016]\n",
      " [-0.48678413  0.24008811]\n",
      " [-0.23568282  0.05066079]\n",
      " [ 0.01982379  0.05947137]\n",
      " [ 0.29735684  0.28414094]\n",
      " [ 0.48237884  0.49118942]\n",
      " [-0.46475771  0.01101321]\n",
      " [-0.47356829 -0.15198237]\n",
      " [-0.42951542 -0.31057268]\n",
      " [ 0.12114537 -0.32819384]\n",
      " [ 0.3942731  -0.17841411]\n",
      " [ 0.42951542  0.00220263]\n",
      " [-0.19603524 -0.34140968]\n",
      " [-0.25330395 -0.5       ]]\n"
     ]
    }
   ],
   "source": [
    "# plot example image (normalized)\n",
    "img, joints, is_valid_joints, misc = test_dataset.get_example(imageIdx, gcn=None, bbox_extension_range=None, shift=None)\n",
    "\n",
    "h,w,d=img.shape\n",
    "print(h,w,d)\n",
    "\n",
    "numJoints, t = joints.shape\n",
    "print(numJoints)\n",
    "\n",
    "circSize=10\n",
    "font = cv2.FONT_HERSHEY_SIMPLEX\n",
    "\n",
    "#cv2.drawKeypoints(img,joints,img)\n",
    "for i in range(numJoints):\n",
    "    #print(joints[i,:])\n",
    "    x = joints[i,0]\n",
    "    y = joints[i,1]\n",
    "    \n",
    "    # transform \n",
    "    x = int(w/2 + w*x)\n",
    "    y = int(h/2 + h*y)    \n",
    "    #print(x,y)\n",
    "    \n",
    "    cv2.circle(img, (x, y), 5, (255, 0, 0)) #, -1)\n",
    "    \n",
    "    cv2.putText(img, str(i+1), (x,y), font, 0.5, (255,255,255), 1, cv2.LINE_AA)\n",
    "#    cv2.text(img, (x, y), 5, (255, 0, 0)) #, -1)\n",
    "    # https://docs.opencv.org/3.1.0/dc/da5/tutorial_py_drawing_functions.html\n",
    "    \n",
    "\n",
    "plt.imshow(img, cmap = 'gray', interpolation = 'bicubic')\n",
    "plt.xticks([]), plt.yticks([])  # to hide tick values on X and Y axis\n",
    "plt.show()\n",
    "\n",
    "\n",
    "\n",
    "print(joints)"
   ]
  },
  {
   "cell_type": "code",
   "execution_count": null,
   "metadata": {
    "collapsed": true
   },
   "outputs": [],
   "source": []
  },
  {
   "cell_type": "code",
   "execution_count": 7,
   "metadata": {
    "collapsed": true
   },
   "outputs": [],
   "source": [
    "from chainer import iterators\n",
    "test_iterator = iterators.MultiprocessIterator(\n",
    "        test_dataset, batch_size=128,\n",
    "        repeat=False, shuffle=False,\n",
    "        n_processes=1, n_prefetch=1)"
   ]
  },
  {
   "cell_type": "code",
   "execution_count": 18,
   "metadata": {},
   "outputs": [
    {
     "name": "stdout",
     "output_type": "stream",
     "text": [
      "Alexnet::__create_architecture()\n",
      "Initializing conv1 with random\n",
      "Initializing conv2 with random\n",
      "Initializing conv3 with random\n",
      "Initializing conv4 with random\n",
      "Initializing conv5 with random\n",
      "Initializing fc6 with random\n",
      "Initializing fc7 with random\n",
      "Initializing fc8 with random\n",
      "Initializing layer 99 with random\n",
      "Restoring everything from snapshot and resuming\n",
      "INFO:tensorflow:Restoring parameters from /home/yyoo/src/deeppose/out/lsp_alexnet_imagenet_small/checkpoint-150000\n"
     ]
    },
    {
     "name": "stderr",
     "output_type": "stream",
     "text": [
      "INFO:tensorflow:Restoring parameters from /home/yyoo/src/deeppose/out/lsp_alexnet_imagenet_small/checkpoint-150000\n"
     ]
    },
    {
     "name": "stdout",
     "output_type": "stream",
     "text": [
      "Creating optimizer momentum\n",
      "Conv LR: Tensor(\"lr/conv_lr:0\", shape=(), dtype=float32), FC LR: Tensor(\"lr/fc_lr:0\", shape=(), dtype=float32)\n",
      "INFO:tensorflow:Summary name grad_norms/conv1/weight:0 is illegal; using grad_norms/conv1/weight_0 instead.\n"
     ]
    },
    {
     "name": "stderr",
     "output_type": "stream",
     "text": [
      "INFO:tensorflow:Summary name grad_norms/conv1/weight:0 is illegal; using grad_norms/conv1/weight_0 instead.\n"
     ]
    },
    {
     "name": "stdout",
     "output_type": "stream",
     "text": [
      "INFO:tensorflow:Summary name grad_norms/conv1/bias:0 is illegal; using grad_norms/conv1/bias_0 instead.\n"
     ]
    },
    {
     "name": "stderr",
     "output_type": "stream",
     "text": [
      "INFO:tensorflow:Summary name grad_norms/conv1/bias:0 is illegal; using grad_norms/conv1/bias_0 instead.\n"
     ]
    },
    {
     "name": "stdout",
     "output_type": "stream",
     "text": [
      "INFO:tensorflow:Summary name grad_norms/conv2/weight:0 is illegal; using grad_norms/conv2/weight_0 instead.\n"
     ]
    },
    {
     "name": "stderr",
     "output_type": "stream",
     "text": [
      "INFO:tensorflow:Summary name grad_norms/conv2/weight:0 is illegal; using grad_norms/conv2/weight_0 instead.\n"
     ]
    },
    {
     "name": "stdout",
     "output_type": "stream",
     "text": [
      "INFO:tensorflow:Summary name grad_norms/conv2/bias:0 is illegal; using grad_norms/conv2/bias_0 instead.\n"
     ]
    },
    {
     "name": "stderr",
     "output_type": "stream",
     "text": [
      "INFO:tensorflow:Summary name grad_norms/conv2/bias:0 is illegal; using grad_norms/conv2/bias_0 instead.\n"
     ]
    },
    {
     "name": "stdout",
     "output_type": "stream",
     "text": [
      "INFO:tensorflow:Summary name grad_norms/conv3/weight:0 is illegal; using grad_norms/conv3/weight_0 instead.\n"
     ]
    },
    {
     "name": "stderr",
     "output_type": "stream",
     "text": [
      "INFO:tensorflow:Summary name grad_norms/conv3/weight:0 is illegal; using grad_norms/conv3/weight_0 instead.\n"
     ]
    },
    {
     "name": "stdout",
     "output_type": "stream",
     "text": [
      "INFO:tensorflow:Summary name grad_norms/conv3/bias:0 is illegal; using grad_norms/conv3/bias_0 instead.\n"
     ]
    },
    {
     "name": "stderr",
     "output_type": "stream",
     "text": [
      "INFO:tensorflow:Summary name grad_norms/conv3/bias:0 is illegal; using grad_norms/conv3/bias_0 instead.\n"
     ]
    },
    {
     "name": "stdout",
     "output_type": "stream",
     "text": [
      "INFO:tensorflow:Summary name grad_norms/conv4/weight:0 is illegal; using grad_norms/conv4/weight_0 instead.\n"
     ]
    },
    {
     "name": "stderr",
     "output_type": "stream",
     "text": [
      "INFO:tensorflow:Summary name grad_norms/conv4/weight:0 is illegal; using grad_norms/conv4/weight_0 instead.\n"
     ]
    },
    {
     "name": "stdout",
     "output_type": "stream",
     "text": [
      "INFO:tensorflow:Summary name grad_norms/conv4/bias:0 is illegal; using grad_norms/conv4/bias_0 instead.\n"
     ]
    },
    {
     "name": "stderr",
     "output_type": "stream",
     "text": [
      "INFO:tensorflow:Summary name grad_norms/conv4/bias:0 is illegal; using grad_norms/conv4/bias_0 instead.\n"
     ]
    },
    {
     "name": "stdout",
     "output_type": "stream",
     "text": [
      "INFO:tensorflow:Summary name grad_norms/conv5/weight:0 is illegal; using grad_norms/conv5/weight_0 instead.\n"
     ]
    },
    {
     "name": "stderr",
     "output_type": "stream",
     "text": [
      "INFO:tensorflow:Summary name grad_norms/conv5/weight:0 is illegal; using grad_norms/conv5/weight_0 instead.\n"
     ]
    },
    {
     "name": "stdout",
     "output_type": "stream",
     "text": [
      "INFO:tensorflow:Summary name grad_norms/conv5/bias:0 is illegal; using grad_norms/conv5/bias_0 instead.\n"
     ]
    },
    {
     "name": "stderr",
     "output_type": "stream",
     "text": [
      "INFO:tensorflow:Summary name grad_norms/conv5/bias:0 is illegal; using grad_norms/conv5/bias_0 instead.\n"
     ]
    },
    {
     "name": "stdout",
     "output_type": "stream",
     "text": [
      "INFO:tensorflow:Summary name grad_norms/fc6/weight:0 is illegal; using grad_norms/fc6/weight_0 instead.\n"
     ]
    },
    {
     "name": "stderr",
     "output_type": "stream",
     "text": [
      "INFO:tensorflow:Summary name grad_norms/fc6/weight:0 is illegal; using grad_norms/fc6/weight_0 instead.\n"
     ]
    },
    {
     "name": "stdout",
     "output_type": "stream",
     "text": [
      "INFO:tensorflow:Summary name grad_norms/fc6/bias:0 is illegal; using grad_norms/fc6/bias_0 instead.\n"
     ]
    },
    {
     "name": "stderr",
     "output_type": "stream",
     "text": [
      "INFO:tensorflow:Summary name grad_norms/fc6/bias:0 is illegal; using grad_norms/fc6/bias_0 instead.\n"
     ]
    },
    {
     "name": "stdout",
     "output_type": "stream",
     "text": [
      "INFO:tensorflow:Summary name grad_norms/fc7/weight:0 is illegal; using grad_norms/fc7/weight_0 instead.\n"
     ]
    },
    {
     "name": "stderr",
     "output_type": "stream",
     "text": [
      "INFO:tensorflow:Summary name grad_norms/fc7/weight:0 is illegal; using grad_norms/fc7/weight_0 instead.\n"
     ]
    },
    {
     "name": "stdout",
     "output_type": "stream",
     "text": [
      "INFO:tensorflow:Summary name grad_norms/fc7/bias:0 is illegal; using grad_norms/fc7/bias_0 instead.\n"
     ]
    },
    {
     "name": "stderr",
     "output_type": "stream",
     "text": [
      "INFO:tensorflow:Summary name grad_norms/fc7/bias:0 is illegal; using grad_norms/fc7/bias_0 instead.\n"
     ]
    },
    {
     "name": "stdout",
     "output_type": "stream",
     "text": [
      "INFO:tensorflow:Summary name grad_norms/fc_regression/weight:0 is illegal; using grad_norms/fc_regression/weight_0 instead.\n"
     ]
    },
    {
     "name": "stderr",
     "output_type": "stream",
     "text": [
      "INFO:tensorflow:Summary name grad_norms/fc_regression/weight:0 is illegal; using grad_norms/fc_regression/weight_0 instead.\n"
     ]
    },
    {
     "name": "stdout",
     "output_type": "stream",
     "text": [
      "INFO:tensorflow:Summary name grad_norms/fc_regression/bias:0 is illegal; using grad_norms/fc_regression/bias_0 instead.\n"
     ]
    },
    {
     "name": "stderr",
     "output_type": "stream",
     "text": [
      "INFO:tensorflow:Summary name grad_norms/fc_regression/bias:0 is illegal; using grad_norms/fc_regression/bias_0 instead.\n"
     ]
    },
    {
     "name": "stdout",
     "output_type": "stream",
     "text": [
      "uninit vars: ['conv1/weight/Momentum:0', 'conv1/bias/Momentum:0', 'conv2/weight/Momentum:0', 'conv2/bias/Momentum:0', 'conv3/weight/Momentum:0', 'conv3/bias/Momentum:0', 'conv4/weight/Momentum:0', 'conv4/bias/Momentum:0', 'conv5/weight/Momentum:0', 'conv5/bias/Momentum:0', 'fc6/weight/Momentum:0', 'fc6/bias/Momentum:0', 'fc7/weight/Momentum:0', 'fc7/bias/Momentum:0', 'fc_regression/weight/Momentum:0', 'fc_regression/bias/Momentum:0']\n",
      "Elapsed time for finding uninitialized variables: 0.77s\n",
      "Elapsed time to init them: 0.22s\n",
      "/home/yyoo/src/deeppose/out/lsp_alexnet_imagenet_small/checkpoint-150000\n"
     ]
    }
   ],
   "source": [
    "##code from def test_net(test_dataset, test_iterator, dataset_name, snapshot_path):\n",
    "from scripts import regressionnet\n",
    "\n",
    "## set the checkpoint that you want to use\n",
    "snapshot_path=os.path.expanduser('~/src/deeppose/out/lsp_alexnet_imagenet_small/checkpoint-150000')\n",
    "\n",
    "if dataset_name not in ['lsp', 'mpii']:\n",
    "    raise ValueError('Unknown dataset: {}'.format(dataset_name))\n",
    "\n",
    "net, loss_op, pose_loss_op, train_op = regressionnet.create_regression_net( # in scripts.\n",
    "        n_joints=16 if dataset_name == 'mpii' else 14,\n",
    "        init_snapshot_path=snapshot_path,\n",
    "        is_resume=True,\n",
    "        net_type='Alexnet',\n",
    "        optimizer_type='momentum',\n",
    "        gpu_memory_fraction=0.32)  # Set how much GPU memory to reserve for the network\n",
    "print(snapshot_path)"
   ]
  },
  {
   "cell_type": "code",
   "execution_count": 19,
   "metadata": {},
   "outputs": [
    {
     "name": "stderr",
     "output_type": "stream",
     "text": [
      "\r",
      "  0%|          | 0/8 [00:00<?, ?it/s]"
     ]
    },
    {
     "name": "stdout",
     "output_type": "stream",
     "text": [
      "\n",
      "====================\n",
      "BBOX EXTENSION: 1.0\n",
      "1000\n"
     ]
    },
    {
     "name": "stderr",
     "output_type": "stream",
     "text": [
      "100%|██████████| 8/8 [00:04<00:00,  1.85it/s]\n"
     ]
    },
    {
     "name": "stdout",
     "output_type": "stream",
     "text": [
      "Step 150000 test/pose_loss = 0.078\n",
      "lsp\n"
     ]
    },
    {
     "name": "stderr",
     "output_type": "stream",
     "text": [
      "/home/yyoo/src/deeppose/poseevaluation/pcp.py:88: RuntimeWarning: divide by zero encountered in float_scalars\n",
      "  gt_joints[i]['sticks'][stick_id, :2]) / gt_stick_len\n",
      "/home/yyoo/src/deeppose/poseevaluation/pcp.py:90: RuntimeWarning: divide by zero encountered in float_scalars\n",
      "  gt_joints[i]['sticks'][stick_id, 2:]) / gt_stick_len\n"
     ]
    },
    {
     "name": "stdout",
     "output_type": "stream",
     "text": [
      "Step\t 150000\t test/mPCP\t 0.325\n",
      "Step 150000 test/parts_PCP:\n",
      "Head\tTorso\tU Arm\tL Arm\tU Leg\tL Leg\tmean\n",
      "0.105\t0.822\t0.194\t0.070\t0.520\t0.240\t0.325\n",
      "lsp\n"
     ]
    },
    {
     "name": "stderr",
     "output_type": "stream",
     "text": [
      "/home/yyoo/src/deeppose/poseevaluation/pcp.py:51: RuntimeWarning: divide by zero encountered in float_scalars\n",
      "  gt_joints[i]['sticks'][stick_id, :2]) / gt_stick_len\n",
      "/home/yyoo/src/deeppose/poseevaluation/pcp.py:53: RuntimeWarning: divide by zero encountered in float_scalars\n",
      "  gt_joints[i]['sticks'][stick_id, 2:]) / gt_stick_len\n"
     ]
    },
    {
     "name": "stdout",
     "output_type": "stream",
     "text": [
      "Step\t 150000\t test/mRelaxedPCP\t 0.442\n",
      "Step 150000 test/parts_RelaxedPCP:\n",
      "Head\tTorso\tU Arm\tL Arm\tU Leg\tL Leg\tmean\n",
      "0.203\t0.893\t0.314\t0.139\t0.694\t0.411\t0.442\n",
      "lsp\n"
     ]
    },
    {
     "name": "stderr",
     "output_type": "stream",
     "text": [
      "\r",
      "  0%|          | 0/8 [00:00<?, ?it/s]"
     ]
    },
    {
     "name": "stdout",
     "output_type": "stream",
     "text": [
      "Step\t 150000\t test/mPCKh\t 0.249\n",
      "Step\t 150000\t test/mSymmetricPCKh\t 0.247\n",
      "Step 150000 test/parts_SymmetricPCKh:\n",
      "Head\tNeck\tShoulder\tElbow\tWrist\tHip\tKnee\tAnkle\n",
      "0.111\t0.359\t0.283\t0.234\t0.121\t0.544\t0.257\t0.067\n",
      "\n",
      "====================\n",
      "BBOX EXTENSION: 1.2\n",
      "1000\n"
     ]
    },
    {
     "name": "stderr",
     "output_type": "stream",
     "text": [
      "100%|██████████| 8/8 [00:04<00:00,  1.85it/s]\n"
     ]
    },
    {
     "name": "stdout",
     "output_type": "stream",
     "text": [
      "Step 150000 test/pose_loss = 0.047\n",
      "lsp\n",
      "Step\t 150000\t test/mPCP\t 0.462\n",
      "Step 150000 test/parts_PCP:\n",
      "Head\tTorso\tU Arm\tL Arm\tU Leg\tL Leg\tmean\n",
      "0.398\t0.868\t0.309\t0.111\t0.635\t0.451\t0.462\n",
      "lsp\n",
      "Step\t 150000\t test/mRelaxedPCP\t 0.559\n",
      "Step 150000 test/parts_RelaxedPCP:\n",
      "Head\tTorso\tU Arm\tL Arm\tU Leg\tL Leg\tmean\n",
      "0.495\t0.914\t0.419\t0.202\t0.757\t0.568\t0.559\n",
      "lsp\n",
      "Step\t 150000\t test/mPCKh\t 0.373"
     ]
    },
    {
     "name": "stderr",
     "output_type": "stream",
     "text": [
      "\r",
      "  0%|          | 0/8 [00:00<?, ?it/s]"
     ]
    },
    {
     "name": "stdout",
     "output_type": "stream",
     "text": [
      "\n",
      "Step\t 150000\t test/mSymmetricPCKh\t 0.389\n",
      "Step 150000 test/parts_SymmetricPCKh:\n",
      "Head\tNeck\tShoulder\tElbow\tWrist\tHip\tKnee\tAnkle\n",
      "0.410\t0.594\t0.455\t0.296\t0.167\t0.611\t0.402\t0.179\n",
      "\n",
      "====================\n",
      "BBOX EXTENSION: 1.4\n",
      "1000\n"
     ]
    },
    {
     "name": "stderr",
     "output_type": "stream",
     "text": [
      "100%|██████████| 8/8 [00:04<00:00,  1.93it/s]\n"
     ]
    },
    {
     "name": "stdout",
     "output_type": "stream",
     "text": [
      "Step 150000 test/pose_loss = 0.036\n",
      "lsp\n",
      "Step\t 150000\t test/mPCP\t 0.475\n",
      "Step 150000 test/parts_PCP:\n",
      "Head\tTorso\tU Arm\tL Arm\tU Leg\tL Leg\tmean\n",
      "0.421\t0.869\t0.327\t0.133\t0.649\t0.453\t0.475\n",
      "lsp\n",
      "Step\t 150000\t test/mRelaxedPCP\t 0.568\n",
      "Step 150000 test/parts_RelaxedPCP:\n",
      "Head\tTorso\tU Arm\tL Arm\tU Leg\tL Leg\tmean\n",
      "0.512\t0.911\t0.430\t0.212\t0.762\t0.584\t0.568\n",
      "lsp\n"
     ]
    },
    {
     "name": "stderr",
     "output_type": "stream",
     "text": [
      "\r",
      "  0%|          | 0/8 [00:00<?, ?it/s]"
     ]
    },
    {
     "name": "stdout",
     "output_type": "stream",
     "text": [
      "Step\t 150000\t test/mPCKh\t 0.390\n",
      "Step\t 150000\t test/mSymmetricPCKh\t 0.407\n",
      "Step 150000 test/parts_SymmetricPCKh:\n",
      "Head\tNeck\tShoulder\tElbow\tWrist\tHip\tKnee\tAnkle\n",
      "0.439\t0.612\t0.466\t0.317\t0.191\t0.613\t0.412\t0.205\n",
      "\n",
      "====================\n",
      "BBOX EXTENSION: 1.6\n",
      "1000\n"
     ]
    },
    {
     "name": "stderr",
     "output_type": "stream",
     "text": [
      "100%|██████████| 8/8 [00:04<00:00,  1.93it/s]\n"
     ]
    },
    {
     "name": "stdout",
     "output_type": "stream",
     "text": [
      "Step 150000 test/pose_loss = 0.030\n",
      "lsp\n",
      "Step\t 150000\t test/mPCP\t 0.464\n",
      "Step 150000 test/parts_PCP:\n",
      "Head\tTorso\tU Arm\tL Arm\tU Leg\tL Leg\tmean\n",
      "0.384\t0.864\t0.320\t0.132\t0.641\t0.446\t0.464\n",
      "lsp\n",
      "Step\t 150000\t test/mRelaxedPCP\t 0.561\n",
      "Step 150000 test/parts_RelaxedPCP:\n",
      "Head\tTorso\tU Arm\tL Arm\tU Leg\tL Leg\tmean\n",
      "0.488\t0.911\t0.423\t0.221\t0.754\t0.572\t0.561\n",
      "lsp\n"
     ]
    },
    {
     "name": "stderr",
     "output_type": "stream",
     "text": [
      "\r",
      "  0%|          | 0/8 [00:00<?, ?it/s]"
     ]
    },
    {
     "name": "stdout",
     "output_type": "stream",
     "text": [
      "Step\t 150000\t test/mPCKh\t 0.377\n",
      "Step\t 150000\t test/mSymmetricPCKh\t 0.392\n",
      "Step 150000 test/parts_SymmetricPCKh:\n",
      "Head\tNeck\tShoulder\tElbow\tWrist\tHip\tKnee\tAnkle\n",
      "0.403\t0.578\t0.432\t0.333\t0.199\t0.598\t0.407\t0.183\n",
      "\n",
      "====================\n",
      "BBOX EXTENSION: 1.8\n",
      "1000\n"
     ]
    },
    {
     "name": "stderr",
     "output_type": "stream",
     "text": [
      "100%|██████████| 8/8 [00:04<00:00,  1.90it/s]\n"
     ]
    },
    {
     "name": "stdout",
     "output_type": "stream",
     "text": [
      "Step 150000 test/pose_loss = 0.027\n",
      "lsp\n",
      "Step\t 150000\t test/mPCP\t 0.454\n",
      "Step 150000 test/parts_PCP:\n",
      "Head\tTorso\tU Arm\tL Arm\tU Leg\tL Leg\tmean\n",
      "0.360\t0.856\t0.318\t0.134\t0.624\t0.433\t0.454\n",
      "lsp\n",
      "Step\t 150000\t test/mRelaxedPCP\t 0.553\n",
      "Step 150000 test/parts_RelaxedPCP:\n",
      "Head\tTorso\tU Arm\tL Arm\tU Leg\tL Leg\tmean\n",
      "0.468\t0.905\t0.421\t0.221\t0.740\t0.564\t0.553\n",
      "lsp\n"
     ]
    },
    {
     "name": "stderr",
     "output_type": "stream",
     "text": [
      "\r",
      "  0%|          | 0/8 [00:00<?, ?it/s]"
     ]
    },
    {
     "name": "stdout",
     "output_type": "stream",
     "text": [
      "Step\t 150000\t test/mPCKh\t 0.367\n",
      "Step\t 150000\t test/mSymmetricPCKh\t 0.380\n",
      "Step 150000 test/parts_SymmetricPCKh:\n",
      "Head\tNeck\tShoulder\tElbow\tWrist\tHip\tKnee\tAnkle\n",
      "0.380\t0.559\t0.432\t0.328\t0.193\t0.583\t0.394\t0.171\n",
      "\n",
      "====================\n",
      "BBOX EXTENSION: 2.0\n",
      "1000\n"
     ]
    },
    {
     "name": "stderr",
     "output_type": "stream",
     "text": [
      "100%|██████████| 8/8 [00:04<00:00,  1.86it/s]\n"
     ]
    },
    {
     "name": "stdout",
     "output_type": "stream",
     "text": [
      "Step 150000 test/pose_loss = 0.027\n",
      "lsp\n",
      "Step\t 150000\t test/mPCP\t 0.452\n",
      "Step 150000 test/parts_PCP:\n",
      "Head\tTorso\tU Arm\tL Arm\tU Leg\tL Leg\tmean\n",
      "0.354\t0.858\t0.313\t0.132\t0.623\t0.431\t0.452\n",
      "lsp\n",
      "Step\t 150000\t test/mRelaxedPCP\t 0.552\n",
      "Step 150000 test/parts_RelaxedPCP:\n",
      "Head\tTorso\tU Arm\tL Arm\tU Leg\tL Leg\tmean\n",
      "0.464\t0.905\t0.420\t0.220\t0.740\t0.564\t0.552\n",
      "lsp\n",
      "Step\t 150000\t test/mPCKh\t 0.366\n",
      "Step\t 150000\t test/mSymmetricPCKh\t 0.378\n",
      "Step 150000 test/parts_SymmetricPCKh:\n",
      "Head\tNeck\tShoulder\tElbow\tWrist\tHip\tKnee\tAnkle\n",
      "0.373\t0.559\t0.432\t0.322\t0.193\t0.582\t0.394\t0.169\n"
     ]
    }
   ],
   "source": [
    "import numpy as np\n",
    "\n",
    "for ext in np.linspace(1.0, 2.0, 6, True):\n",
    "    print('\\n====================')\n",
    "    print('BBOX EXTENSION:', ext)\n",
    "    test_dataset.bbox_extension_range = (ext, ext)\n",
    "    regressionnet.evaluate_pcp(net, pose_loss_op, test_iterator, None, # in scripts.\n",
    "                               dataset_name=dataset_name,\n",
    "                               tag_prefix='test')"
   ]
  },
  {
   "cell_type": "code",
   "execution_count": null,
   "metadata": {
    "collapsed": true
   },
   "outputs": [],
   "source": []
  }
 ],
 "metadata": {
  "kernelspec": {
   "display_name": "Python 3",
   "language": "python",
   "name": "python3"
  },
  "language_info": {
   "codemirror_mode": {
    "name": "ipython",
    "version": 3
   },
   "file_extension": ".py",
   "mimetype": "text/x-python",
   "name": "python",
   "nbconvert_exporter": "python",
   "pygments_lexer": "ipython3",
   "version": "3.6.4"
  }
 },
 "nbformat": 4,
 "nbformat_minor": 2
}
