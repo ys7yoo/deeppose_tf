{
 "cells": [
  {
   "cell_type": "markdown",
   "metadata": {},
   "source": [
    "## Jupyter notebook for testing an image\n",
    "\n",
    "Code from [tests/test_snapshot.py](tests/test_snapshot.py)\n",
    "\n",
    "required packages \n",
    "\n",
    "1. Tensorflow\n",
    "\n",
    "2. Other packages\n",
    "```\n",
    "pip install tqdm chainer\n",
    "```"
   ]
  },
  {
   "cell_type": "code",
   "execution_count": 1,
   "metadata": {},
   "outputs": [
    {
     "name": "stderr",
     "output_type": "stream",
     "text": [
      "/home/yyoo/tf3/lib/python3.5/site-packages/h5py/__init__.py:36: FutureWarning: Conversion of the second argument of issubdtype from `float` to `np.floating` is deprecated. In future, it will be treated as `np.float64 == np.dtype(float).type`.\n",
      "  from ._conv import register_converters as _register_converters\n"
     ]
    }
   ],
   "source": [
    "import numpy as np\n",
    "import copy\n",
    "import os\n",
    "import sys\n",
    "import math\n",
    "from tqdm import tqdm\n",
    "from scripts import dataset\n",
    "import scripts.regressionnet\n",
    "from scripts.regressionnet import batch2feeds, calculate_metric\n",
    "from chainer import iterators\n",
    "\n",
    "from scripts import config"
   ]
  },
  {
   "cell_type": "code",
   "execution_count": 2,
   "metadata": {},
   "outputs": [],
   "source": [
    "def get_gt_data(test_iterator):\n",
    "    test_it = copy.copy(test_iterator)\n",
    "    num_test_examples = len(test_it.dataset)\n",
    "    num_batches = int(math.ceil(num_test_examples / test_it.batch_size))\n",
    "    gt_joints = list()\n",
    "    gt_joints_is_valid = list()\n",
    "    orig_bboxes = list()\n",
    "\n",
    "    print(len(test_it.dataset))\n",
    "    for i, batch in tqdm(enumerate(test_it), total=num_batches):\n",
    "        feeds = batch2feeds(batch)\n",
    "        gt_joints.append(feeds[1])\n",
    "        gt_joints_is_valid.append(feeds[2])\n",
    "        orig_bboxes.append(np.vstack([x['bbox'] for x in feeds[3]]))\n",
    "\n",
    "    gt_joints = np.vstack(gt_joints)\n",
    "    gt_joints_is_valid = np.vstack(gt_joints_is_valid)\n",
    "    orig_bboxes = np.vstack(orig_bboxes)\n",
    "    return gt_joints, gt_joints_is_valid, orig_bboxes"
   ]
  },
  {
   "cell_type": "code",
   "execution_count": 3,
   "metadata": {},
   "outputs": [],
   "source": [
    "def main(dataset_name, snapshot_path):\n",
    "    \"\"\"\n",
    "    Args:\n",
    "        dataset_name: 'mpii' or 'lsp'.\n",
    "        init_snapshot_path: path to the snapshot to test\n",
    "    \"\"\"\n",
    "    if dataset_name == 'mpii':\n",
    "        TEST_CV_FILEPATH = os.path.join(config.MPII_DATASET_ROOT, 'test_joints.csv')\n",
    "        IMG_PATH_PREFIX = os.path.join(config.MPII_DATASET_ROOT, 'images')\n",
    "        symmetric_joints = \"[[12, 13], [11, 14], [10, 15], [2, 3], [1, 4], [0, 5]]\"\n",
    "        ignore_label = -100500\n",
    "    else:\n",
    "        TEST_CV_FILEPATH = os.path.join(config.LSP_DATASET_ROOT, 'test_joints.csv')\n",
    "#        IMG_PATH_PREFIX = ''\n",
    "        IMG_PATH_PREFIX = os.path.join(config.LSP_DATASET_ROOT, 'images')\n",
    "        symmetric_joints = \"[[8, 9], [7, 10], [6, 11], [2, 3], [1, 4], [0, 5]]\"\n",
    "        ignore_label = -1\n",
    "\n",
    "    print(TEST_CV_FILEPATH)\n",
    "    print(IMG_PATH_PREFIX)\n",
    "\n",
    "    test_dataset = dataset.PoseDataset(\n",
    "        TEST_CV_FILEPATH,\n",
    "        IMG_PATH_PREFIX, 227,\n",
    "        fliplr=False, rotate=False,\n",
    "        shift=None,\n",
    "        bbox_extension_range=(1.0, 1.0),\n",
    "        coord_normalize=True,\n",
    "        gcn=True,\n",
    "        fname_index=0,\n",
    "        joint_index=1,\n",
    "        symmetric_joints=symmetric_joints,\n",
    "        ignore_label=ignore_label,\n",
    "        should_return_bbox=True,\n",
    "        should_downscale_images=True,\n",
    "        downscale_height=400\n",
    "    )\n",
    "\n",
    "    print(\"data ready\")\n",
    "\n",
    "    test_iterator = iterators.MultiprocessIterator(\n",
    "        test_dataset, batch_size=128,\n",
    "        repeat=False, shuffle=False,\n",
    "        n_processes=1, n_prefetch=1)\n",
    "\n",
    "    print(\"start testing\")\n",
    "\n",
    "    test_net(test_dataset, test_iterator, dataset_name, snapshot_path)"
   ]
  },
  {
   "cell_type": "code",
   "execution_count": 4,
   "metadata": {},
   "outputs": [],
   "source": [
    "def test_net(test_dataset, test_iterator, dataset_name, snapshot_path):\n",
    "    if dataset_name not in ['lsp', 'mpii']:\n",
    "        raise ValueError('Unknown dataset: {}'.format(dataset_name))\n",
    "\n",
    "    net, loss_op, pose_loss_op, train_op = scripts.regressionnet.create_regression_net(\n",
    "        n_joints=16 if dataset_name == 'mpii' else 14,\n",
    "        init_snapshot_path=snapshot_path,\n",
    "        is_resume=True,\n",
    "        net_type='Alexnet',\n",
    "        optimizer_type='momentum',\n",
    "        gpu_memory_fraction=0.32)  # Set how much GPU memory to reserve for the network\n",
    "    print(snapshot_path)\n",
    "    for ext in np.linspace(1.0, 2.0, 6, True):\n",
    "        print('\\n====================')\n",
    "        print('BBOX EXTENSION:', ext)\n",
    "        test_dataset.bbox_extension_range = (ext, ext)\n",
    "        scripts.regressionnet.evaluate_pcp(net, pose_loss_op, test_iterator, None,\n",
    "                                           dataset_name=dataset_name,\n",
    "                                           tag_prefix='test')"
   ]
  },
  {
   "cell_type": "code",
   "execution_count": 5,
   "metadata": {},
   "outputs": [
    {
     "name": "stderr",
     "output_type": "stream",
     "text": [
      "76it [00:00, 755.40it/s]"
     ]
    },
    {
     "name": "stdout",
     "output_type": "stream",
     "text": [
      "/var/data/lsp/test_joints.csv\n",
      "/var/data/lsp/images\n",
      "Reading dataset from /var/data/lsp/test_joints.csv\n",
      "Downscale images to the height 400px\n"
     ]
    },
    {
     "name": "stderr",
     "output_type": "stream",
     "text": [
      "1000it [00:00, 1581.16it/s]\n"
     ]
    },
    {
     "name": "stdout",
     "output_type": "stream",
     "text": [
      "Joints shape: (14, 2)\n",
      "data ready\n",
      "start testing\n",
      "Alexnet::__create_architecture()\n",
      "Initializing conv1 with random\n",
      "Initializing conv2 with random\n",
      "Initializing conv3 with random\n",
      "Initializing conv4 with random\n",
      "Initializing conv5 with random\n",
      "Initializing fc6 with random\n",
      "Initializing fc7 with random\n",
      "Initializing fc8 with random\n",
      "Initializing layer 99 with random\n",
      "Restoring everything from snapshot and resumingout/lsp_alexnet_imagenet/checkpoint-1000000\n",
      "INFO:tensorflow:Restoring parameters from out/lsp_alexnet_imagenet/checkpoint-1000000\n"
     ]
    },
    {
     "name": "stderr",
     "output_type": "stream",
     "text": [
      "INFO:tensorflow:Restoring parameters from out/lsp_alexnet_imagenet/checkpoint-1000000\n"
     ]
    },
    {
     "name": "stdout",
     "output_type": "stream",
     "text": [
      "Creating optimizer momentum\n",
      "Conv LR: Tensor(\"lr/conv_lr:0\", shape=(), dtype=float32), FC LR: Tensor(\"lr/fc_lr:0\", shape=(), dtype=float32)\n",
      "INFO:tensorflow:Summary name grad_norms/conv1/weight:0 is illegal; using grad_norms/conv1/weight_0 instead.\n"
     ]
    },
    {
     "name": "stderr",
     "output_type": "stream",
     "text": [
      "INFO:tensorflow:Summary name grad_norms/conv1/weight:0 is illegal; using grad_norms/conv1/weight_0 instead.\n"
     ]
    },
    {
     "name": "stdout",
     "output_type": "stream",
     "text": [
      "INFO:tensorflow:Summary name grad_norms/conv1/bias:0 is illegal; using grad_norms/conv1/bias_0 instead.\n"
     ]
    },
    {
     "name": "stderr",
     "output_type": "stream",
     "text": [
      "INFO:tensorflow:Summary name grad_norms/conv1/bias:0 is illegal; using grad_norms/conv1/bias_0 instead.\n"
     ]
    },
    {
     "name": "stdout",
     "output_type": "stream",
     "text": [
      "INFO:tensorflow:Summary name grad_norms/conv2/weight:0 is illegal; using grad_norms/conv2/weight_0 instead.\n"
     ]
    },
    {
     "name": "stderr",
     "output_type": "stream",
     "text": [
      "INFO:tensorflow:Summary name grad_norms/conv2/weight:0 is illegal; using grad_norms/conv2/weight_0 instead.\n"
     ]
    },
    {
     "name": "stdout",
     "output_type": "stream",
     "text": [
      "INFO:tensorflow:Summary name grad_norms/conv2/bias:0 is illegal; using grad_norms/conv2/bias_0 instead.\n"
     ]
    },
    {
     "name": "stderr",
     "output_type": "stream",
     "text": [
      "INFO:tensorflow:Summary name grad_norms/conv2/bias:0 is illegal; using grad_norms/conv2/bias_0 instead.\n"
     ]
    },
    {
     "name": "stdout",
     "output_type": "stream",
     "text": [
      "INFO:tensorflow:Summary name grad_norms/conv3/weight:0 is illegal; using grad_norms/conv3/weight_0 instead.\n"
     ]
    },
    {
     "name": "stderr",
     "output_type": "stream",
     "text": [
      "INFO:tensorflow:Summary name grad_norms/conv3/weight:0 is illegal; using grad_norms/conv3/weight_0 instead.\n"
     ]
    },
    {
     "name": "stdout",
     "output_type": "stream",
     "text": [
      "INFO:tensorflow:Summary name grad_norms/conv3/bias:0 is illegal; using grad_norms/conv3/bias_0 instead.\n"
     ]
    },
    {
     "name": "stderr",
     "output_type": "stream",
     "text": [
      "INFO:tensorflow:Summary name grad_norms/conv3/bias:0 is illegal; using grad_norms/conv3/bias_0 instead.\n"
     ]
    },
    {
     "name": "stdout",
     "output_type": "stream",
     "text": [
      "INFO:tensorflow:Summary name grad_norms/conv4/weight:0 is illegal; using grad_norms/conv4/weight_0 instead.\n"
     ]
    },
    {
     "name": "stderr",
     "output_type": "stream",
     "text": [
      "INFO:tensorflow:Summary name grad_norms/conv4/weight:0 is illegal; using grad_norms/conv4/weight_0 instead.\n"
     ]
    },
    {
     "name": "stdout",
     "output_type": "stream",
     "text": [
      "INFO:tensorflow:Summary name grad_norms/conv4/bias:0 is illegal; using grad_norms/conv4/bias_0 instead.\n"
     ]
    },
    {
     "name": "stderr",
     "output_type": "stream",
     "text": [
      "INFO:tensorflow:Summary name grad_norms/conv4/bias:0 is illegal; using grad_norms/conv4/bias_0 instead.\n"
     ]
    },
    {
     "name": "stdout",
     "output_type": "stream",
     "text": [
      "INFO:tensorflow:Summary name grad_norms/conv5/weight:0 is illegal; using grad_norms/conv5/weight_0 instead.\n"
     ]
    },
    {
     "name": "stderr",
     "output_type": "stream",
     "text": [
      "INFO:tensorflow:Summary name grad_norms/conv5/weight:0 is illegal; using grad_norms/conv5/weight_0 instead.\n"
     ]
    },
    {
     "name": "stdout",
     "output_type": "stream",
     "text": [
      "INFO:tensorflow:Summary name grad_norms/conv5/bias:0 is illegal; using grad_norms/conv5/bias_0 instead.\n"
     ]
    },
    {
     "name": "stderr",
     "output_type": "stream",
     "text": [
      "INFO:tensorflow:Summary name grad_norms/conv5/bias:0 is illegal; using grad_norms/conv5/bias_0 instead.\n"
     ]
    },
    {
     "name": "stdout",
     "output_type": "stream",
     "text": [
      "INFO:tensorflow:Summary name grad_norms/fc6/weight:0 is illegal; using grad_norms/fc6/weight_0 instead.\n"
     ]
    },
    {
     "name": "stderr",
     "output_type": "stream",
     "text": [
      "INFO:tensorflow:Summary name grad_norms/fc6/weight:0 is illegal; using grad_norms/fc6/weight_0 instead.\n"
     ]
    },
    {
     "name": "stdout",
     "output_type": "stream",
     "text": [
      "INFO:tensorflow:Summary name grad_norms/fc6/bias:0 is illegal; using grad_norms/fc6/bias_0 instead.\n"
     ]
    },
    {
     "name": "stderr",
     "output_type": "stream",
     "text": [
      "INFO:tensorflow:Summary name grad_norms/fc6/bias:0 is illegal; using grad_norms/fc6/bias_0 instead.\n"
     ]
    },
    {
     "name": "stdout",
     "output_type": "stream",
     "text": [
      "INFO:tensorflow:Summary name grad_norms/fc7/weight:0 is illegal; using grad_norms/fc7/weight_0 instead.\n"
     ]
    },
    {
     "name": "stderr",
     "output_type": "stream",
     "text": [
      "INFO:tensorflow:Summary name grad_norms/fc7/weight:0 is illegal; using grad_norms/fc7/weight_0 instead.\n"
     ]
    },
    {
     "name": "stdout",
     "output_type": "stream",
     "text": [
      "INFO:tensorflow:Summary name grad_norms/fc7/bias:0 is illegal; using grad_norms/fc7/bias_0 instead.\n"
     ]
    },
    {
     "name": "stderr",
     "output_type": "stream",
     "text": [
      "INFO:tensorflow:Summary name grad_norms/fc7/bias:0 is illegal; using grad_norms/fc7/bias_0 instead.\n"
     ]
    },
    {
     "name": "stdout",
     "output_type": "stream",
     "text": [
      "INFO:tensorflow:Summary name grad_norms/fc_regression/weight:0 is illegal; using grad_norms/fc_regression/weight_0 instead.\n"
     ]
    },
    {
     "name": "stderr",
     "output_type": "stream",
     "text": [
      "INFO:tensorflow:Summary name grad_norms/fc_regression/weight:0 is illegal; using grad_norms/fc_regression/weight_0 instead.\n"
     ]
    },
    {
     "name": "stdout",
     "output_type": "stream",
     "text": [
      "INFO:tensorflow:Summary name grad_norms/fc_regression/bias:0 is illegal; using grad_norms/fc_regression/bias_0 instead.\n"
     ]
    },
    {
     "name": "stderr",
     "output_type": "stream",
     "text": [
      "INFO:tensorflow:Summary name grad_norms/fc_regression/bias:0 is illegal; using grad_norms/fc_regression/bias_0 instead.\n"
     ]
    },
    {
     "name": "stdout",
     "output_type": "stream",
     "text": [
      "uninit vars: ['conv1/weight/Momentum:0', 'conv1/bias/Momentum:0', 'conv2/weight/Momentum:0', 'conv2/bias/Momentum:0', 'conv3/weight/Momentum:0', 'conv3/bias/Momentum:0', 'conv4/weight/Momentum:0', 'conv4/bias/Momentum:0', 'conv5/weight/Momentum:0', 'conv5/bias/Momentum:0', 'fc6/weight/Momentum:0', 'fc6/bias/Momentum:0', 'fc7/weight/Momentum:0', 'fc7/bias/Momentum:0', 'fc_regression/weight/Momentum:0', 'fc_regression/bias/Momentum:0']\n",
      "Elapsed time for finding uninitialized variables: 0.47s\n"
     ]
    },
    {
     "name": "stderr",
     "output_type": "stream",
     "text": [
      "\r",
      "  0%|          | 0/8 [00:00<?, ?it/s]"
     ]
    },
    {
     "name": "stdout",
     "output_type": "stream",
     "text": [
      "Elapsed time to init them: 0.22s\n",
      "out/lsp_alexnet_imagenet/checkpoint-1000000\n",
      "\n",
      "====================\n",
      "BBOX EXTENSION: 1.0\n",
      "1000\n"
     ]
    },
    {
     "name": "stderr",
     "output_type": "stream",
     "text": [
      "100%|██████████| 8/8 [00:04<00:00,  1.75it/s]\n"
     ]
    },
    {
     "name": "stdout",
     "output_type": "stream",
     "text": [
      "Step 1000000 test/pose_loss = 0.067\n",
      "lsp\n"
     ]
    },
    {
     "name": "stderr",
     "output_type": "stream",
     "text": [
      "/home/yyoo/src/deeppose/poseevaluation/pcp.py:88: RuntimeWarning: divide by zero encountered in float_scalars\n",
      "  gt_joints[i]['sticks'][stick_id, :2]) / gt_stick_len\n",
      "/home/yyoo/src/deeppose/poseevaluation/pcp.py:90: RuntimeWarning: divide by zero encountered in float_scalars\n",
      "  gt_joints[i]['sticks'][stick_id, 2:]) / gt_stick_len\n"
     ]
    },
    {
     "name": "stdout",
     "output_type": "stream",
     "text": [
      "Step\t 1000000\t test/mPCP\t 0.348\n",
      "Step 1000000 test/parts_PCP:\n",
      "Head\tTorso\tU Arm\tL Arm\tU Leg\tL Leg\tmean\n",
      "0.231\t0.858\t0.246\t0.074\t0.495\t0.185\t0.348\n",
      "lsp\n"
     ]
    },
    {
     "name": "stderr",
     "output_type": "stream",
     "text": [
      "/home/yyoo/src/deeppose/poseevaluation/pcp.py:51: RuntimeWarning: divide by zero encountered in float_scalars\n",
      "  gt_joints[i]['sticks'][stick_id, :2]) / gt_stick_len\n",
      "/home/yyoo/src/deeppose/poseevaluation/pcp.py:53: RuntimeWarning: divide by zero encountered in float_scalars\n",
      "  gt_joints[i]['sticks'][stick_id, 2:]) / gt_stick_len\n"
     ]
    },
    {
     "name": "stdout",
     "output_type": "stream",
     "text": [
      "Step\t 1000000\t test/mRelaxedPCP\t 0.482\n",
      "Step 1000000 test/parts_RelaxedPCP:\n",
      "Head\tTorso\tU Arm\tL Arm\tU Leg\tL Leg\tmean\n",
      "0.366\t0.929\t0.382\t0.162\t0.699\t0.354\t0.482\n",
      "lsp\n"
     ]
    },
    {
     "name": "stderr",
     "output_type": "stream",
     "text": [
      "\r",
      "  0%|          | 0/8 [00:00<?, ?it/s]"
     ]
    },
    {
     "name": "stdout",
     "output_type": "stream",
     "text": [
      "Step\t 1000000\t test/mPCKh\t 0.281\n",
      "Step\t 1000000\t test/mSymmetricPCKh\t 0.293\n",
      "Step 1000000 test/parts_SymmetricPCKh:\n",
      "Head\tNeck\tShoulder\tElbow\tWrist\tHip\tKnee\tAnkle\n",
      "0.246\t0.512\t0.388\t0.246\t0.146\t0.542\t0.209\t0.058\n",
      "\n",
      "====================\n",
      "BBOX EXTENSION: 1.2\n",
      "1000\n"
     ]
    },
    {
     "name": "stderr",
     "output_type": "stream",
     "text": [
      "100%|██████████| 8/8 [00:04<00:00,  1.79it/s]\n"
     ]
    },
    {
     "name": "stdout",
     "output_type": "stream",
     "text": [
      "Step 1000000 test/pose_loss = 0.035\n",
      "lsp\n",
      "Step\t 1000000\t test/mPCP\t 0.534\n",
      "Step 1000000 test/parts_PCP:\n",
      "Head\tTorso\tU Arm\tL Arm\tU Leg\tL Leg\tmean\n",
      "0.550\t0.929\t0.398\t0.153\t0.673\t0.497\t0.534\n",
      "lsp\n",
      "Step\t 1000000\t test/mRelaxedPCP\t 0.639\n",
      "Step 1000000 test/parts_RelaxedPCP:\n",
      "Head\tTorso\tU Arm\tL Arm\tU Leg\tL Leg\tmean\n",
      "0.644\t0.964\t0.533\t0.268\t0.806\t0.619\t0.639\n",
      "lsp\n"
     ]
    },
    {
     "name": "stderr",
     "output_type": "stream",
     "text": [
      "\r",
      "  0%|          | 0/8 [00:00<?, ?it/s]"
     ]
    },
    {
     "name": "stdout",
     "output_type": "stream",
     "text": [
      "Step\t 1000000\t test/mPCKh\t 0.440\n",
      "Step\t 1000000\t test/mSymmetricPCKh\t 0.466\n",
      "Step 1000000 test/parts_SymmetricPCKh:\n",
      "Head\tNeck\tShoulder\tElbow\tWrist\tHip\tKnee\tAnkle\n",
      "0.579\t0.715\t0.564\t0.371\t0.225\t0.651\t0.427\t0.196\n",
      "\n",
      "====================\n",
      "BBOX EXTENSION: 1.4\n",
      "1000\n"
     ]
    },
    {
     "name": "stderr",
     "output_type": "stream",
     "text": [
      "100%|██████████| 8/8 [00:04<00:00,  1.87it/s]\n"
     ]
    },
    {
     "name": "stdout",
     "output_type": "stream",
     "text": [
      "Step 1000000 test/pose_loss = 0.026\n",
      "lsp\n",
      "Step\t 1000000\t test/mPCP\t 0.553\n",
      "Step 1000000 test/parts_PCP:\n",
      "Head\tTorso\tU Arm\tL Arm\tU Leg\tL Leg\tmean\n",
      "0.561\t0.937\t0.403\t0.173\t0.710\t0.532\t0.553\n",
      "lsp\n",
      "Step\t 1000000\t test/mRelaxedPCP\t 0.658\n",
      "Step 1000000 test/parts_RelaxedPCP:\n",
      "Head\tTorso\tU Arm\tL Arm\tU Leg\tL Leg\tmean\n",
      "0.679\t0.969\t0.535\t0.290\t0.823\t0.651\t0.658\n",
      "lsp\n"
     ]
    },
    {
     "name": "stderr",
     "output_type": "stream",
     "text": [
      "\r",
      "  0%|          | 0/8 [00:00<?, ?it/s]"
     ]
    },
    {
     "name": "stdout",
     "output_type": "stream",
     "text": [
      "Step\t 1000000\t test/mPCKh\t 0.459\n",
      "Step\t 1000000\t test/mSymmetricPCKh\t 0.484\n",
      "Step 1000000 test/parts_SymmetricPCKh:\n",
      "Head\tNeck\tShoulder\tElbow\tWrist\tHip\tKnee\tAnkle\n",
      "0.593\t0.721\t0.578\t0.378\t0.254\t0.674\t0.445\t0.228\n",
      "\n",
      "====================\n",
      "BBOX EXTENSION: 1.6\n",
      "1000\n"
     ]
    },
    {
     "name": "stderr",
     "output_type": "stream",
     "text": [
      "100%|██████████| 8/8 [00:04<00:00,  1.82it/s]\n"
     ]
    },
    {
     "name": "stdout",
     "output_type": "stream",
     "text": [
      "Step 1000000 test/pose_loss = 0.022\n",
      "lsp\n",
      "Step\t 1000000\t test/mPCP\t 0.543\n",
      "Step 1000000 test/parts_PCP:\n",
      "Head\tTorso\tU Arm\tL Arm\tU Leg\tL Leg\tmean\n",
      "0.532\t0.932\t0.401\t0.175\t0.702\t0.518\t0.543\n",
      "lsp\n",
      "Step\t 1000000\t test/mRelaxedPCP\t 0.645\n",
      "Step 1000000 test/parts_RelaxedPCP:\n",
      "Head\tTorso\tU Arm\tL Arm\tU Leg\tL Leg\tmean\n",
      "0.643\t0.960\t0.528\t0.286\t0.810\t0.641\t0.645\n",
      "lsp\n"
     ]
    },
    {
     "name": "stderr",
     "output_type": "stream",
     "text": [
      "\r",
      "  0%|          | 0/8 [00:00<?, ?it/s]"
     ]
    },
    {
     "name": "stdout",
     "output_type": "stream",
     "text": [
      "Step\t 1000000\t test/mPCKh\t 0.455\n",
      "Step\t 1000000\t test/mSymmetricPCKh\t 0.478\n",
      "Step 1000000 test/parts_SymmetricPCKh:\n",
      "Head\tNeck\tShoulder\tElbow\tWrist\tHip\tKnee\tAnkle\n",
      "0.567\t0.708\t0.565\t0.378\t0.246\t0.672\t0.455\t0.230\n",
      "\n",
      "====================\n",
      "BBOX EXTENSION: 1.8\n",
      "1000\n"
     ]
    },
    {
     "name": "stderr",
     "output_type": "stream",
     "text": [
      "100%|██████████| 8/8 [00:04<00:00,  1.82it/s]\n"
     ]
    },
    {
     "name": "stdout",
     "output_type": "stream",
     "text": [
      "Step 1000000 test/pose_loss = 0.020\n",
      "lsp\n",
      "Step\t 1000000\t test/mPCP\t 0.534\n",
      "Step 1000000 test/parts_PCP:\n",
      "Head\tTorso\tU Arm\tL Arm\tU Leg\tL Leg\tmean\n",
      "0.517\t0.930\t0.396\t0.169\t0.700\t0.492\t0.534\n",
      "lsp\n",
      "Step\t 1000000\t test/mRelaxedPCP\t 0.636\n",
      "Step 1000000 test/parts_RelaxedPCP:\n",
      "Head\tTorso\tU Arm\tL Arm\tU Leg\tL Leg\tmean\n",
      "0.619\t0.961\t0.514\t0.279\t0.811\t0.633\t0.636\n",
      "lsp\n"
     ]
    },
    {
     "name": "stderr",
     "output_type": "stream",
     "text": [
      "\r",
      "  0%|          | 0/8 [00:00<?, ?it/s]"
     ]
    },
    {
     "name": "stdout",
     "output_type": "stream",
     "text": [
      "Step\t 1000000\t test/mPCKh\t 0.439\n",
      "Step\t 1000000\t test/mSymmetricPCKh\t 0.461\n",
      "Step 1000000 test/parts_SymmetricPCKh:\n",
      "Head\tNeck\tShoulder\tElbow\tWrist\tHip\tKnee\tAnkle\n",
      "0.548\t0.677\t0.546\t0.369\t0.239\t0.647\t0.444\t0.217\n",
      "\n",
      "====================\n",
      "BBOX EXTENSION: 2.0\n",
      "1000\n"
     ]
    },
    {
     "name": "stderr",
     "output_type": "stream",
     "text": [
      "100%|██████████| 8/8 [00:04<00:00,  1.83it/s]\n"
     ]
    },
    {
     "name": "stdout",
     "output_type": "stream",
     "text": [
      "Step 1000000 test/pose_loss = 0.019\n",
      "lsp\n",
      "Step\t 1000000\t test/mPCP\t 0.533\n",
      "Step 1000000 test/parts_PCP:\n",
      "Head\tTorso\tU Arm\tL Arm\tU Leg\tL Leg\tmean\n",
      "0.519\t0.930\t0.393\t0.165\t0.698\t0.492\t0.533\n",
      "lsp\n",
      "Step\t 1000000\t test/mRelaxedPCP\t 0.635\n",
      "Step 1000000 test/parts_RelaxedPCP:\n",
      "Head\tTorso\tU Arm\tL Arm\tU Leg\tL Leg\tmean\n",
      "0.619\t0.962\t0.510\t0.278\t0.809\t0.633\t0.635\n",
      "lsp\n",
      "Step\t 1000000\t test/mPCKh\t 0.439\n",
      "Step\t 1000000\t test/mSymmetricPCKh\t 0.460\n",
      "Step 1000000 test/parts_SymmetricPCKh:\n",
      "Head\tNeck\tShoulder\tElbow\tWrist\tHip\tKnee\tAnkle\n",
      "0.547\t0.673\t0.549\t0.367\t0.239\t0.646\t0.445\t0.216\n"
     ]
    }
   ],
   "source": [
    "dataset_name = 'lsp'\n",
    "snapshot_path = 'out/lsp_alexnet_imagenet/checkpoint-1000000'\n",
    "\n",
    "# init_snapshot_path = os.path.join(config.ROOT_DIR, 'out/mpii_alexnet_imagenet/checkpoint-10000')\n",
    "# init_snapshot_path = os.path.join(config.ROOT_DIR, 'out/lsp_alexnet_scratch/checkpoint-10000')\n",
    "main(dataset_name, snapshot_path)"
   ]
  },
  {
   "cell_type": "code",
   "execution_count": null,
   "metadata": {},
   "outputs": [],
   "source": []
  }
 ],
 "metadata": {
  "kernelspec": {
   "display_name": "Python 3",
   "language": "python",
   "name": "python3"
  },
  "language_info": {
   "codemirror_mode": {
    "name": "ipython",
    "version": 3
   },
   "file_extension": ".py",
   "mimetype": "text/x-python",
   "name": "python",
   "nbconvert_exporter": "python",
   "pygments_lexer": "ipython3",
   "version": "3.5.2"
  }
 },
 "nbformat": 4,
 "nbformat_minor": 2
}
