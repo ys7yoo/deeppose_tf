{
 "cells": [
  {
   "cell_type": "markdown",
   "metadata": {},
   "source": [
    "## Jupyter notebook for testing an image\n",
    "\n",
    "Code from [tests/test_snapshot.py](tests/test_snapshot.py)\n",
    "\n",
    "required packages \n",
    "\n",
    "1. Tensorflow\n",
    "\n",
    "2. Other packages\n",
    "```\n",
    "pip install tqdm chainer\n",
    "```"
   ]
  },
  {
   "cell_type": "code",
   "execution_count": 1,
   "metadata": {},
   "outputs": [
    {
     "name": "stderr",
     "output_type": "stream",
     "text": [
      "/home/yyoo/tf3/lib/python3.5/site-packages/h5py/__init__.py:36: FutureWarning: Conversion of the second argument of issubdtype from `float` to `np.floating` is deprecated. In future, it will be treated as `np.float64 == np.dtype(float).type`.\n",
      "  from ._conv import register_converters as _register_converters\n"
     ]
    }
   ],
   "source": [
    "import numpy as np\n",
    "import copy\n",
    "import os\n",
    "import sys\n",
    "import math\n",
    "from tqdm import tqdm\n",
    "from scripts import dataset\n",
    "import scripts.regressionnet\n",
    "from scripts.regressionnet import batch2feeds, calculate_metric\n",
    "from chainer import iterators\n",
    "\n",
    "from scripts import config"
   ]
  },
  {
   "cell_type": "code",
   "execution_count": 2,
   "metadata": {},
   "outputs": [
    {
     "name": "stderr",
     "output_type": "stream",
     "text": [
      "1it [00:00, 83.43it/s]"
     ]
    },
    {
     "name": "stdout",
     "output_type": "stream",
     "text": [
      "/var/data/lsp/test_joints1.csv\n",
      "/var/data/lsp/images\n",
      "Reading dataset from /var/data/lsp/test_joints1.csv\n",
      "Downscale images to the height 400px\n",
      "Joints shape: (14, 2)\n",
      "data ready\n"
     ]
    },
    {
     "name": "stderr",
     "output_type": "stream",
     "text": [
      "\n"
     ]
    }
   ],
   "source": [
    "# this was main function\n",
    "dataset_name = 'lsp'\n",
    "#snapshot_path = 'out/lsp_alexnet_imagenet/checkpoint-1000000'\n",
    "snapshot_path = '/var/data/out/lsp_alexnet_imagenet/checkpoint-1000000'\n",
    "\n",
    "# init_snapshot_path = os.path.join(config.ROOT_DIR, 'out/mpii_alexnet_imagenet/checkpoint-10000')\n",
    "# init_snapshot_path = os.path.join(config.ROOT_DIR, 'out/lsp_alexnet_scratch/checkpoint-10000')\n",
    "\n",
    "\n",
    "\n",
    "if dataset_name == 'mpii':\n",
    "    TEST_CV_FILEPATH = os.path.join(config.MPII_DATASET_ROOT, 'test_joints.csv')\n",
    "    IMG_PATH_PREFIX = os.path.join(config.MPII_DATASET_ROOT, 'images')\n",
    "    symmetric_joints = \"[[12, 13], [11, 14], [10, 15], [2, 3], [1, 4], [0, 5]]\"\n",
    "    ignore_label = -100500\n",
    "else:  # lsp dataset\n",
    "    TEST_CV_FILEPATH = os.path.join(config.LSP_DATASET_ROOT, 'test_joints.csv')\n",
    "#        IMG_PATH_PREFIX = ''\n",
    "    IMG_PATH_PREFIX = os.path.join(config.LSP_DATASET_ROOT, 'images')\n",
    "    symmetric_joints = \"[[8, 9], [7, 10], [6, 11], [2, 3], [1, 4], [0, 5]]\"\n",
    "    ignore_label = -1\n",
    "\n",
    "# small sample with just one image\n",
    "TEST_CV_FILEPATH = '/var/data/lsp/test_joints1.csv'    \n",
    "    \n",
    "print(TEST_CV_FILEPATH)\n",
    "print(IMG_PATH_PREFIX)\n",
    "\n",
    "test_dataset = dataset.PoseDataset(\n",
    "    TEST_CV_FILEPATH,\n",
    "    IMG_PATH_PREFIX, 227,\n",
    "    fliplr=False, rotate=False,\n",
    "    shift=None,\n",
    "    bbox_extension_range=(1.0, 1.0),\n",
    "    coord_normalize=True,\n",
    "    gcn=True,\n",
    "    fname_index=0,\n",
    "    joint_index=1,\n",
    "    symmetric_joints=symmetric_joints,\n",
    "    ignore_label=ignore_label,\n",
    "    should_return_bbox=True,\n",
    "    should_downscale_images=True,\n",
    "    downscale_height=400\n",
    ")\n",
    "\n",
    "print(\"data ready\")\n",
    "\n"
   ]
  },
  {
   "cell_type": "code",
   "execution_count": 3,
   "metadata": {},
   "outputs": [
    {
     "name": "stdout",
     "output_type": "stream",
     "text": [
      "Alexnet::__create_architecture()\n",
      "Initializing conv1 with random\n",
      "Initializing conv2 with random\n",
      "Initializing conv3 with random\n",
      "Initializing conv4 with random\n",
      "Initializing conv5 with random\n",
      "Initializing fc6 with random\n",
      "Initializing fc7 with random\n",
      "Initializing fc8 with random\n",
      "Initializing layer 99 with random\n",
      "Restoring everything from snapshot and resuming from /var/data/out/lsp_alexnet_imagenet/checkpoint-1000000\n",
      "INFO:tensorflow:Restoring parameters from /var/data/out/lsp_alexnet_imagenet/checkpoint-1000000\n"
     ]
    },
    {
     "name": "stderr",
     "output_type": "stream",
     "text": [
      "INFO:tensorflow:Restoring parameters from /var/data/out/lsp_alexnet_imagenet/checkpoint-1000000\n"
     ]
    },
    {
     "name": "stdout",
     "output_type": "stream",
     "text": [
      "Creating optimizer momentum\n",
      "Conv LR: Tensor(\"lr/conv_lr:0\", shape=(), dtype=float32), FC LR: Tensor(\"lr/fc_lr:0\", shape=(), dtype=float32)\n",
      "INFO:tensorflow:Summary name grad_norms/conv1/weight:0 is illegal; using grad_norms/conv1/weight_0 instead.\n"
     ]
    },
    {
     "name": "stderr",
     "output_type": "stream",
     "text": [
      "INFO:tensorflow:Summary name grad_norms/conv1/weight:0 is illegal; using grad_norms/conv1/weight_0 instead.\n"
     ]
    },
    {
     "name": "stdout",
     "output_type": "stream",
     "text": [
      "INFO:tensorflow:Summary name grad_norms/conv1/bias:0 is illegal; using grad_norms/conv1/bias_0 instead.\n"
     ]
    },
    {
     "name": "stderr",
     "output_type": "stream",
     "text": [
      "INFO:tensorflow:Summary name grad_norms/conv1/bias:0 is illegal; using grad_norms/conv1/bias_0 instead.\n"
     ]
    },
    {
     "name": "stdout",
     "output_type": "stream",
     "text": [
      "INFO:tensorflow:Summary name grad_norms/conv2/weight:0 is illegal; using grad_norms/conv2/weight_0 instead.\n"
     ]
    },
    {
     "name": "stderr",
     "output_type": "stream",
     "text": [
      "INFO:tensorflow:Summary name grad_norms/conv2/weight:0 is illegal; using grad_norms/conv2/weight_0 instead.\n"
     ]
    },
    {
     "name": "stdout",
     "output_type": "stream",
     "text": [
      "INFO:tensorflow:Summary name grad_norms/conv2/bias:0 is illegal; using grad_norms/conv2/bias_0 instead.\n"
     ]
    },
    {
     "name": "stderr",
     "output_type": "stream",
     "text": [
      "INFO:tensorflow:Summary name grad_norms/conv2/bias:0 is illegal; using grad_norms/conv2/bias_0 instead.\n"
     ]
    },
    {
     "name": "stdout",
     "output_type": "stream",
     "text": [
      "INFO:tensorflow:Summary name grad_norms/conv3/weight:0 is illegal; using grad_norms/conv3/weight_0 instead.\n"
     ]
    },
    {
     "name": "stderr",
     "output_type": "stream",
     "text": [
      "INFO:tensorflow:Summary name grad_norms/conv3/weight:0 is illegal; using grad_norms/conv3/weight_0 instead.\n"
     ]
    },
    {
     "name": "stdout",
     "output_type": "stream",
     "text": [
      "INFO:tensorflow:Summary name grad_norms/conv3/bias:0 is illegal; using grad_norms/conv3/bias_0 instead.\n"
     ]
    },
    {
     "name": "stderr",
     "output_type": "stream",
     "text": [
      "INFO:tensorflow:Summary name grad_norms/conv3/bias:0 is illegal; using grad_norms/conv3/bias_0 instead.\n"
     ]
    },
    {
     "name": "stdout",
     "output_type": "stream",
     "text": [
      "INFO:tensorflow:Summary name grad_norms/conv4/weight:0 is illegal; using grad_norms/conv4/weight_0 instead.\n"
     ]
    },
    {
     "name": "stderr",
     "output_type": "stream",
     "text": [
      "INFO:tensorflow:Summary name grad_norms/conv4/weight:0 is illegal; using grad_norms/conv4/weight_0 instead.\n"
     ]
    },
    {
     "name": "stdout",
     "output_type": "stream",
     "text": [
      "INFO:tensorflow:Summary name grad_norms/conv4/bias:0 is illegal; using grad_norms/conv4/bias_0 instead.\n"
     ]
    },
    {
     "name": "stderr",
     "output_type": "stream",
     "text": [
      "INFO:tensorflow:Summary name grad_norms/conv4/bias:0 is illegal; using grad_norms/conv4/bias_0 instead.\n"
     ]
    },
    {
     "name": "stdout",
     "output_type": "stream",
     "text": [
      "INFO:tensorflow:Summary name grad_norms/conv5/weight:0 is illegal; using grad_norms/conv5/weight_0 instead.\n"
     ]
    },
    {
     "name": "stderr",
     "output_type": "stream",
     "text": [
      "INFO:tensorflow:Summary name grad_norms/conv5/weight:0 is illegal; using grad_norms/conv5/weight_0 instead.\n"
     ]
    },
    {
     "name": "stdout",
     "output_type": "stream",
     "text": [
      "INFO:tensorflow:Summary name grad_norms/conv5/bias:0 is illegal; using grad_norms/conv5/bias_0 instead.\n"
     ]
    },
    {
     "name": "stderr",
     "output_type": "stream",
     "text": [
      "INFO:tensorflow:Summary name grad_norms/conv5/bias:0 is illegal; using grad_norms/conv5/bias_0 instead.\n"
     ]
    },
    {
     "name": "stdout",
     "output_type": "stream",
     "text": [
      "INFO:tensorflow:Summary name grad_norms/fc6/weight:0 is illegal; using grad_norms/fc6/weight_0 instead.\n"
     ]
    },
    {
     "name": "stderr",
     "output_type": "stream",
     "text": [
      "INFO:tensorflow:Summary name grad_norms/fc6/weight:0 is illegal; using grad_norms/fc6/weight_0 instead.\n"
     ]
    },
    {
     "name": "stdout",
     "output_type": "stream",
     "text": [
      "INFO:tensorflow:Summary name grad_norms/fc6/bias:0 is illegal; using grad_norms/fc6/bias_0 instead.\n"
     ]
    },
    {
     "name": "stderr",
     "output_type": "stream",
     "text": [
      "INFO:tensorflow:Summary name grad_norms/fc6/bias:0 is illegal; using grad_norms/fc6/bias_0 instead.\n"
     ]
    },
    {
     "name": "stdout",
     "output_type": "stream",
     "text": [
      "INFO:tensorflow:Summary name grad_norms/fc7/weight:0 is illegal; using grad_norms/fc7/weight_0 instead.\n"
     ]
    },
    {
     "name": "stderr",
     "output_type": "stream",
     "text": [
      "INFO:tensorflow:Summary name grad_norms/fc7/weight:0 is illegal; using grad_norms/fc7/weight_0 instead.\n"
     ]
    },
    {
     "name": "stdout",
     "output_type": "stream",
     "text": [
      "INFO:tensorflow:Summary name grad_norms/fc7/bias:0 is illegal; using grad_norms/fc7/bias_0 instead.\n"
     ]
    },
    {
     "name": "stderr",
     "output_type": "stream",
     "text": [
      "INFO:tensorflow:Summary name grad_norms/fc7/bias:0 is illegal; using grad_norms/fc7/bias_0 instead.\n"
     ]
    },
    {
     "name": "stdout",
     "output_type": "stream",
     "text": [
      "INFO:tensorflow:Summary name grad_norms/fc_regression/weight:0 is illegal; using grad_norms/fc_regression/weight_0 instead.\n"
     ]
    },
    {
     "name": "stderr",
     "output_type": "stream",
     "text": [
      "INFO:tensorflow:Summary name grad_norms/fc_regression/weight:0 is illegal; using grad_norms/fc_regression/weight_0 instead.\n"
     ]
    },
    {
     "name": "stdout",
     "output_type": "stream",
     "text": [
      "INFO:tensorflow:Summary name grad_norms/fc_regression/bias:0 is illegal; using grad_norms/fc_regression/bias_0 instead.\n"
     ]
    },
    {
     "name": "stderr",
     "output_type": "stream",
     "text": [
      "INFO:tensorflow:Summary name grad_norms/fc_regression/bias:0 is illegal; using grad_norms/fc_regression/bias_0 instead.\n"
     ]
    },
    {
     "name": "stdout",
     "output_type": "stream",
     "text": [
      "uninit vars: ['conv1/weight/Momentum:0', 'conv1/bias/Momentum:0', 'conv2/weight/Momentum:0', 'conv2/bias/Momentum:0', 'conv3/weight/Momentum:0', 'conv3/bias/Momentum:0', 'conv4/weight/Momentum:0', 'conv4/bias/Momentum:0', 'conv5/weight/Momentum:0', 'conv5/bias/Momentum:0', 'fc6/weight/Momentum:0', 'fc6/bias/Momentum:0', 'fc7/weight/Momentum:0', 'fc7/bias/Momentum:0', 'fc_regression/weight/Momentum:0', 'fc_regression/bias/Momentum:0']\n",
      "Elapsed time for finding uninitialized variables: 0.45s\n",
      "Elapsed time to init them: 0.22s\n",
      "<scripts.alexnet.Alexnet object at 0x7f76b913ddd8>\n",
      "/var/data/out/lsp_alexnet_imagenet/checkpoint-1000000\n"
     ]
    }
   ],
   "source": [
    "if dataset_name not in ['lsp', 'mpii']:\n",
    "    raise ValueError('Unknown dataset: {}'.format(dataset_name))\n",
    "\n",
    "# load creat net and load weight from snapshot \n",
    "net, loss_op, pose_loss_op, train_op = scripts.regressionnet.create_regression_net(\n",
    "    n_joints=16 if dataset_name == 'mpii' else 14,\n",
    "    init_snapshot_path=snapshot_path,\n",
    "    is_resume=True,\n",
    "    net_type='Alexnet',\n",
    "    optimizer_type='momentum',\n",
    "    gpu_memory_fraction=0.32)  # Set how much GPU memory to reserve for the network\n",
    "\n",
    "print(net)\n",
    "print(snapshot_path)"
   ]
  },
  {
   "cell_type": "code",
   "execution_count": 5,
   "metadata": {},
   "outputs": [
    {
     "name": "stderr",
     "output_type": "stream",
     "text": [
      "\r",
      "  0%|          | 0/1 [00:00<?, ?it/s]"
     ]
    },
    {
     "name": "stdout",
     "output_type": "stream",
     "text": [
      "start testing\n",
      "\n",
      "====================\n",
      "BBOX EXTENSION: 1.0\n",
      "1\n"
     ]
    },
    {
     "name": "stderr",
     "output_type": "stream",
     "text": [
      "\r",
      "100%|██████████| 1/1 [00:00<00:00,  9.07it/s]"
     ]
    },
    {
     "name": "stdout",
     "output_type": "stream",
     "text": [
      "Step 1000000 test/pose_loss = 0.047\n"
     ]
    },
    {
     "name": "stderr",
     "output_type": "stream",
     "text": [
      "\n",
      "  0%|          | 0/1 [00:00<?, ?it/s]"
     ]
    },
    {
     "name": "stdout",
     "output_type": "stream",
     "text": [
      "lsp\n",
      "Step\t 1000000\t test/mPCP\t 0.500\n",
      "Step 1000000 test/parts_PCP:\n",
      "Head\tTorso\tU Arm\tL Arm\tU Leg\tL Leg\tmean\n",
      "1.000\t1.000\t0.000\t0.000\t0.500\t0.500\t0.500\n",
      "lsp\n",
      "Step\t 1000000\t test/mRelaxedPCP\t 0.750\n",
      "Step 1000000 test/parts_RelaxedPCP:\n",
      "Head\tTorso\tU Arm\tL Arm\tU Leg\tL Leg\tmean\n",
      "1.000\t1.000\t0.500\t0.500\t1.000\t0.500\t0.750\n",
      "lsp\n",
      "Step\t 1000000\t test/mPCKh\t 0.571\n",
      "Step\t 1000000\t test/mSymmetricPCKh\t 0.625\n",
      "Step 1000000 test/parts_SymmetricPCKh:\n",
      "Head\tNeck\tShoulder\tElbow\tWrist\tHip\tKnee\tAnkle\n",
      "1.000\t1.000\t0.500\t0.500\t0.500\t1.000\t0.000\t0.500\n",
      "\n",
      "====================\n",
      "BBOX EXTENSION: 1.2\n",
      "1\n"
     ]
    },
    {
     "name": "stderr",
     "output_type": "stream",
     "text": [
      "\r",
      "100%|██████████| 1/1 [00:00<00:00, 12.73it/s]"
     ]
    },
    {
     "name": "stdout",
     "output_type": "stream",
     "text": [
      "Step 1000000 test/pose_loss = 0.032\n"
     ]
    },
    {
     "name": "stderr",
     "output_type": "stream",
     "text": [
      "\n",
      "  0%|          | 0/1 [00:00<?, ?it/s]"
     ]
    },
    {
     "name": "stdout",
     "output_type": "stream",
     "text": [
      "lsp\n",
      "Step\t 1000000\t test/mPCP\t 0.583\n",
      "Step 1000000 test/parts_PCP:\n",
      "Head\tTorso\tU Arm\tL Arm\tU Leg\tL Leg\tmean\n",
      "1.000\t1.000\t0.000\t0.000\t0.500\t1.000\t0.583\n",
      "lsp\n",
      "Step\t 1000000\t test/mRelaxedPCP\t 0.667\n",
      "Step 1000000 test/parts_RelaxedPCP:\n",
      "Head\tTorso\tU Arm\tL Arm\tU Leg\tL Leg\tmean\n",
      "1.000\t1.000\t0.000\t0.000\t1.000\t1.000\t0.667\n",
      "lsp\n",
      "Step\t 1000000\t test/mPCKh\t 0.500\n",
      "Step\t 1000000\t test/mSymmetricPCKh\t 0.562\n",
      "Step 1000000 test/parts_SymmetricPCKh:\n",
      "Head\tNeck\tShoulder\tElbow\tWrist\tHip\tKnee\tAnkle\n",
      "1.000\t1.000\t0.500\t0.500\t0.000\t0.500\t0.500\t0.500\n",
      "\n",
      "====================\n",
      "BBOX EXTENSION: 1.4\n",
      "1\n"
     ]
    },
    {
     "name": "stderr",
     "output_type": "stream",
     "text": [
      "100%|██████████| 1/1 [00:00<00:00, 15.43it/s]\n",
      "  0%|          | 0/1 [00:00<?, ?it/s]"
     ]
    },
    {
     "name": "stdout",
     "output_type": "stream",
     "text": [
      "Step 1000000 test/pose_loss = 0.022\n",
      "lsp\n",
      "Step\t 1000000\t test/mPCP\t 0.583\n",
      "Step 1000000 test/parts_PCP:\n",
      "Head\tTorso\tU Arm\tL Arm\tU Leg\tL Leg\tmean\n",
      "1.000\t1.000\t0.000\t0.000\t0.500\t1.000\t0.583\n",
      "lsp\n",
      "Step\t 1000000\t test/mRelaxedPCP\t 0.667\n",
      "Step 1000000 test/parts_RelaxedPCP:\n",
      "Head\tTorso\tU Arm\tL Arm\tU Leg\tL Leg\tmean\n",
      "1.000\t1.000\t0.000\t0.000\t1.000\t1.000\t0.667\n",
      "lsp\n",
      "Step\t 1000000\t test/mPCKh\t 0.571\n",
      "Step\t 1000000\t test/mSymmetricPCKh\t 0.625\n",
      "Step 1000000 test/parts_SymmetricPCKh:\n",
      "Head\tNeck\tShoulder\tElbow\tWrist\tHip\tKnee\tAnkle\n",
      "1.000\t1.000\t0.500\t0.500\t0.000\t1.000\t0.500\t0.500\n",
      "\n",
      "====================\n",
      "BBOX EXTENSION: 1.6\n",
      "1\n"
     ]
    },
    {
     "name": "stderr",
     "output_type": "stream",
     "text": [
      "100%|██████████| 1/1 [00:00<00:00, 13.83it/s]\n",
      "  0%|          | 0/1 [00:00<?, ?it/s]"
     ]
    },
    {
     "name": "stdout",
     "output_type": "stream",
     "text": [
      "Step 1000000 test/pose_loss = 0.018\n",
      "lsp\n",
      "Step\t 1000000\t test/mPCP\t 0.583\n",
      "Step 1000000 test/parts_PCP:\n",
      "Head\tTorso\tU Arm\tL Arm\tU Leg\tL Leg\tmean\n",
      "1.000\t1.000\t0.000\t0.000\t0.500\t1.000\t0.583\n",
      "lsp\n",
      "Step\t 1000000\t test/mRelaxedPCP\t 0.667\n",
      "Step 1000000 test/parts_RelaxedPCP:\n",
      "Head\tTorso\tU Arm\tL Arm\tU Leg\tL Leg\tmean\n",
      "1.000\t1.000\t0.000\t0.000\t1.000\t1.000\t0.667\n",
      "lsp\n",
      "Step\t 1000000\t test/mPCKh\t 0.571\n",
      "Step\t 1000000\t test/mSymmetricPCKh\t 0.625\n",
      "Step 1000000 test/parts_SymmetricPCKh:\n",
      "Head\tNeck\tShoulder\tElbow\tWrist\tHip\tKnee\tAnkle\n",
      "1.000\t1.000\t0.500\t0.500\t0.000\t1.000\t0.500\t0.500\n",
      "\n",
      "====================\n",
      "BBOX EXTENSION: 1.8\n",
      "1\n"
     ]
    },
    {
     "name": "stderr",
     "output_type": "stream",
     "text": [
      "100%|██████████| 1/1 [00:00<00:00, 14.88it/s]\n",
      "  0%|          | 0/1 [00:00<?, ?it/s]"
     ]
    },
    {
     "name": "stdout",
     "output_type": "stream",
     "text": [
      "Step 1000000 test/pose_loss = 0.015\n",
      "lsp\n",
      "Step\t 1000000\t test/mPCP\t 0.583\n",
      "Step 1000000 test/parts_PCP:\n",
      "Head\tTorso\tU Arm\tL Arm\tU Leg\tL Leg\tmean\n",
      "1.000\t1.000\t0.000\t0.000\t0.500\t1.000\t0.583\n",
      "lsp\n",
      "Step\t 1000000\t test/mRelaxedPCP\t 0.667\n",
      "Step 1000000 test/parts_RelaxedPCP:\n",
      "Head\tTorso\tU Arm\tL Arm\tU Leg\tL Leg\tmean\n",
      "1.000\t1.000\t0.000\t0.000\t1.000\t1.000\t0.667\n",
      "lsp\n",
      "Step\t 1000000\t test/mPCKh\t 0.571\n",
      "Step\t 1000000\t test/mSymmetricPCKh\t 0.625\n",
      "Step 1000000 test/parts_SymmetricPCKh:\n",
      "Head\tNeck\tShoulder\tElbow\tWrist\tHip\tKnee\tAnkle\n",
      "1.000\t1.000\t0.500\t0.500\t0.000\t1.000\t0.500\t0.500\n",
      "\n",
      "====================\n",
      "BBOX EXTENSION: 2.0\n",
      "1\n"
     ]
    },
    {
     "name": "stderr",
     "output_type": "stream",
     "text": [
      "100%|██████████| 1/1 [00:00<00:00, 14.26it/s]\n"
     ]
    },
    {
     "name": "stdout",
     "output_type": "stream",
     "text": [
      "Step 1000000 test/pose_loss = 0.014\n",
      "lsp\n",
      "Step\t 1000000\t test/mPCP\t 0.583\n",
      "Step 1000000 test/parts_PCP:\n",
      "Head\tTorso\tU Arm\tL Arm\tU Leg\tL Leg\tmean\n",
      "1.000\t1.000\t0.000\t0.000\t0.500\t1.000\t0.583\n",
      "lsp\n",
      "Step\t 1000000\t test/mRelaxedPCP\t 0.667\n",
      "Step 1000000 test/parts_RelaxedPCP:\n",
      "Head\tTorso\tU Arm\tL Arm\tU Leg\tL Leg\tmean\n",
      "1.000\t1.000\t0.000\t0.000\t1.000\t1.000\t0.667\n",
      "lsp\n",
      "Step\t 1000000\t test/mPCKh\t 0.571\n",
      "Step\t 1000000\t test/mSymmetricPCKh\t 0.625\n",
      "Step 1000000 test/parts_SymmetricPCKh:\n",
      "Head\tNeck\tShoulder\tElbow\tWrist\tHip\tKnee\tAnkle\n",
      "1.000\t1.000\t0.500\t0.500\t0.000\t1.000\t0.500\t0.500\n"
     ]
    }
   ],
   "source": [
    "print(\"start testing\")\n",
    "test_iterator = iterators.MultiprocessIterator(\n",
    "    test_dataset, batch_size=128,\n",
    "    repeat=False, shuffle=False,\n",
    "    n_processes=1, n_prefetch=1)\n",
    "# http://docs.chainer.org/en/stable/reference/generated/chainer.iterators.MultiprocessIterator.html\n",
    "\n",
    "\n",
    "\n",
    "for ext in np.linspace(1.0, 2.0, 6, True):\n",
    "    print('\\n====================')\n",
    "    print('BBOX EXTENSION:', ext)\n",
    "    test_dataset.bbox_extension_range = (ext, ext)\n",
    "    \n",
    "    # predict joints\n",
    "    avg_loss, global_step, gt_joints, gt_joints_is_valid, predicted_joints, orig_bboxes = scripts.regressionnet.predict(net, pose_loss_op, test_iterator, summary_writer=None, dataset_name=dataset_name, tag_prefix='test')\n",
    "\n",
    "    # calc metric\n",
    "    scripts.regressionnet.calc_pcp(global_step, gt_joints, gt_joints_is_valid, predicted_joints, orig_bboxes, dataset_name)\n",
    "        \n",
    "    \"\"\"\n",
    "    scripts.regressionnet.evaluate_pcp(net, pose_loss_op, test_iterator, None,\n",
    "                                       dataset_name=dataset_name,\n",
    "                                       tag_prefix='test')\n",
    "    \"\"\""
   ]
  },
  {
   "cell_type": "code",
   "execution_count": 13,
   "metadata": {},
   "outputs": [
    {
     "name": "stdout",
     "output_type": "stream",
     "text": [
      "[[[-0.05066079  0.31497794]\n",
      "  [ 0.26211452  0.17841411]\n",
      "  [ 0.06828195  0.03744495]\n",
      "  [ 0.00220263  0.03303963]\n",
      "  [-0.03744492  0.21365637]\n",
      "  [-0.28414097  0.36784142]\n",
      "  [ 0.13436121 -0.02863437]\n",
      "  [-0.0462555  -0.10792953]\n",
      "  [ 0.04625553 -0.22687224]\n",
      "  [ 0.15638769 -0.10792953]\n",
      "  [-0.10352424 -0.12114537]\n",
      "  [-0.01101321 -0.25330395]\n",
      "  [ 0.05947137 -0.2709251 ]\n",
      "  [ 0.05947137 -0.37665197]]]\n",
      "[[[ 1.22693833e-04  3.31883490e-01]\n",
      "  [ 9.31518376e-02  1.89658269e-01]\n",
      "  [ 4.21289578e-02  3.48677337e-02]\n",
      "  [-7.02609643e-02  3.19553614e-02]\n",
      "  [-6.23177886e-02  1.89869404e-01]\n",
      "  [-1.76047534e-01  3.24004263e-01]\n",
      "  [ 2.41388693e-01 -6.37699068e-02]\n",
      "  [ 1.41939551e-01 -1.01627037e-01]\n",
      "  [ 9.89570394e-02 -2.08192348e-01]\n",
      "  [-7.31637552e-02 -2.22429231e-01]\n",
      "  [-1.22309387e-01 -1.22031435e-01]\n",
      "  [ 1.10435300e-03 -7.97946528e-02]\n",
      "  [ 4.30390425e-02 -2.63815850e-01]\n",
      "  [ 4.80711088e-02 -3.55690241e-01]]]\n"
     ]
    }
   ],
   "source": [
    "print(gt_joints)\n",
    "print(predicted_joints)"
   ]
  },
  {
   "cell_type": "code",
   "execution_count": 15,
   "metadata": {},
   "outputs": [
    {
     "data": {
      "image/png": "[encoded data removed]",
      "text/plain": [
       "<matplotlib.figure.Figure at 0x7f75243fb9b0>"
      ]
     },
     "metadata": {},
     "output_type": "display_data"
    }
   ],
   "source": [
    "from matplotlib import pyplot as plt\n",
    "%matplotlib inline\n",
    "\n",
    "x = gt_joints[0][:,0]\n",
    "xhat = predicted_joints[0][:,0]\n",
    "y = gt_joints[0][:,1]\n",
    "yhat = predicted_joints[0][:,1]\n",
    "\n",
    "\n",
    "plt.subplot(121)\n",
    "plt.plot(x,xhat,'.')\n",
    "plt.xlabel('x');plt.ylabel('xHat');\n",
    "plt.plot([min(x), max(x)], [min(x), max(x)],'--')\n",
    "plt.subplot(122)\n",
    "plt.plot(y,yhat,'.')\n",
    "plt.plot([min(y), max(y)], [min(y), max(y)],'--')\n",
    "plt.xlabel('y');plt.ylabel('yHat');"
   ]
  },
  {
   "cell_type": "markdown",
   "metadata": {},
   "source": [
    "### Test one image"
   ]
  },
  {
   "cell_type": "code",
   "execution_count": null,
   "metadata": {},
   "outputs": [],
   "source": []
  },
  {
   "cell_type": "code",
   "execution_count": 7,
   "metadata": {},
   "outputs": [],
   "source": [
    "# code from regressionnet.fill_joint_feed_dict\n",
    "def fill_joint_feed_dict(net, batch_feeds,\n",
    "                         conv_lr=None, fc_lr=None,\n",
    "                         phase='test', train_keep_prob=0.4):\n",
    "    \"\"\"Fills the feed_dict for training the given step.\n",
    "\n",
    "    A feed_dict takes the form of:\n",
    "    feed_dict = {\n",
    "        <placeholder>: <tensor of values to be passed for placeholder>,\n",
    "        ....\n",
    "    }\n",
    "\n",
    "    Args:\n",
    "      batch_loader: BatchLoader, that provides batches of the data\n",
    "      images_pl: The images placeholder, from placeholder_inputs().\n",
    "      labels_pl: The labels placeholder, from placeholder_inputs().\n",
    "\n",
    "    Returns:\n",
    "      feed_dict: The feed dictionary mapping from placeholders to values.\n",
    "    \"\"\"\n",
    "    if phase not in ['train', 'test']:\n",
    "        raise ValueError('phase must be \"train\" or \"test\"')\n",
    "    if phase == 'train':\n",
    "        keep_prob = train_keep_prob\n",
    "        is_phase_train = True\n",
    "    else:\n",
    "        keep_prob = 1.0\n",
    "        is_phase_train = False\n",
    "\n",
    "    if len(batch_feeds) != 3:\n",
    "        raise ValueError('feeds must contain only 3 elements: images, joints_gt, joints_is_valid')\n",
    "    images, joints_gt, joints_is_valid = batch_feeds\n",
    "\n",
    "    feed_dict = {\n",
    "        net.x: images,\n",
    "        'pose_input/joints_gt:0': joints_gt,\n",
    "        'pose_input/joints_is_valid:0': joints_is_valid,\n",
    "        'input/is_phase_train:0': is_phase_train,\n",
    "        'lr/conv_lr:0': conv_lr,\n",
    "        'lr/fc_lr:0': fc_lr\n",
    "    }\n",
    "\n",
    "    try:\n",
    "        keep_prob_pl = net.graph.get_tensor_by_name('input/dropout_keep_prob:0')\n",
    "        dropout_params = {keep_prob_pl: keep_prob}\n",
    "    except KeyError:\n",
    "        dropout_params = {'fc6/keep_prob_pl:0': keep_prob,\n",
    "                          'fc7/keep_prob_pl:0': keep_prob}\n",
    "    feed_dict.update(dropout_params)\n",
    "    return feed_dict"
   ]
  },
  {
   "cell_type": "code",
   "execution_count": 8,
   "metadata": {},
   "outputs": [
    {
     "name": "stderr",
     "output_type": "stream",
     "text": [
      "100%|██████████| 1/1 [00:00<00:00, 11.98it/s]\n"
     ]
    }
   ],
   "source": [
    "# code from regressionnet.evaluate_pcp\n",
    "summary_writer = None\n",
    "tag_prefix='test'\n",
    "\n",
    "total_loss = 0.0\n",
    "\n",
    "num_joints = int(int(net.fc_regression.get_shape()[1]) / 2)\n",
    "gt_joints = list()\n",
    "gt_joints_is_valid = list()\n",
    "predicted_joints = list()\n",
    "orig_bboxes = list()\n",
    "    \n",
    "\n",
    "test_it = copy.copy(test_iterator)\n",
    "num_test_examples = len(test_it.dataset)\n",
    "num_batches = int(math.ceil(num_test_examples / test_it.batch_size))\n",
    "for i, batch in tqdm(enumerate(test_it), total=num_batches):\n",
    "\n",
    "        # uncomment a breakpoint here for debugging\n",
    "        # import pdb; pdb.set_trace()\n",
    "\n",
    "        feeds = batch2feeds(batch)\n",
    "        feed_dict = fill_joint_feed_dict(net,\n",
    "                                         feeds[:3],\n",
    "                                         conv_lr=0.0,\n",
    "                                         fc_lr=0.0,\n",
    "                                         phase='test')\n",
    "\n",
    "        pred_j, batch_loss_value = net.sess.run([net.fc_regression, pose_loss_op], feed_dict=feed_dict)\n",
    "        total_loss += batch_loss_value * len(batch)\n",
    "        predicted_joints.append(pred_j.reshape(-1, num_joints, 2))\n",
    "\n",
    "        gt_joints.append(feeds[1])\n",
    "        gt_joints_is_valid.append(feeds[2])\n",
    "        orig_bboxes.append(np.vstack([x['bbox'] for x in feeds[3]]))"
   ]
  },
  {
   "cell_type": "code",
   "execution_count": 9,
   "metadata": {},
   "outputs": [
    {
     "name": "stdout",
     "output_type": "stream",
     "text": [
      "(14, 2)\n",
      "[[ 1.22693833e-04  3.31883490e-01]\n",
      " [ 9.31518376e-02  1.89658269e-01]\n",
      " [ 4.21289578e-02  3.48677337e-02]\n",
      " [-7.02609643e-02  3.19553614e-02]\n",
      " [-6.23177886e-02  1.89869404e-01]\n",
      " [-1.76047534e-01  3.24004263e-01]\n",
      " [ 2.41388693e-01 -6.37699068e-02]\n",
      " [ 1.41939551e-01 -1.01627037e-01]\n",
      " [ 9.89570394e-02 -2.08192348e-01]\n",
      " [-7.31637552e-02 -2.22429231e-01]\n",
      " [-1.22309387e-01 -1.22031435e-01]\n",
      " [ 1.10435300e-03 -7.97946528e-02]\n",
      " [ 4.30390425e-02 -2.63815850e-01]\n",
      " [ 4.80711088e-02 -3.55690241e-01]]\n"
     ]
    }
   ],
   "source": [
    "# estimated joints\n",
    "imageIdx = 0\n",
    "print(predicted_joints[imageIdx][0].shape)\n",
    "print(predicted_joints[imageIdx][0])\n",
    "xhat = predicted_joints[imageIdx][0][:,0]\n",
    "yhat = predicted_joints[imageIdx][0][:,1]"
   ]
  },
  {
   "cell_type": "code",
   "execution_count": 61,
   "metadata": {},
   "outputs": [
    {
     "name": "stdout",
     "output_type": "stream",
     "text": [
      "[[-0.05066079  0.31497794]\n",
      " [ 0.26211452  0.17841411]\n",
      " [ 0.06828195  0.03744495]\n",
      " [ 0.00220263  0.03303963]\n",
      " [-0.03744492  0.21365637]\n",
      " [-0.28414097  0.36784142]\n",
      " [ 0.13436121 -0.02863437]\n",
      " [-0.0462555  -0.10792953]\n",
      " [ 0.04625553 -0.22687224]\n",
      " [ 0.15638769 -0.10792953]\n",
      " [-0.10352424 -0.12114537]\n",
      " [-0.01101321 -0.25330395]\n",
      " [ 0.05947137 -0.2709251 ]\n",
      " [ 0.05947137 -0.37665197]]\n",
      "227 227 3\n",
      "[-0.2841409742832184, 0.2621145248413086]\n",
      "[-0.37665197253227234, 0.3678414225578308]\n"
     ]
    }
   ],
   "source": [
    "import cv2\n",
    "from matplotlib import pyplot as plt\n",
    "%matplotlib inline\n",
    "\n",
    "\n",
    "# plot example image (normalized)\n",
    "img, joints, is_valid_joints, misc = test_dataset.get_example(imageIdx, gcn=None, bbox_extension_range=None, shift=None)\n",
    "print(joints)\n",
    "\n",
    "#img = test_dataset.get_original_image(imageIdx)  # 169 95 3\n",
    "\n",
    "\n",
    "h,w,d=img.shape\n",
    "print(h,w,d)    # 227 227 3\n",
    "\n",
    "x = joints[:,0]\n",
    "print([min(x), max(x)])\n",
    "y = joints[:,1]\n",
    "print([min(y), max(y)])\n",
    "\n",
    "#cv2.imshow('image',img)\n",
    "#if cv2.waitKey(10) & 0xFF == 27:\n",
    "#        print(\"quit\")\n",
    "#        break\n",
    "#cv2.destroyAllWindows()"
   ]
  },
  {
   "cell_type": "code",
   "execution_count": 62,
   "metadata": {},
   "outputs": [
    {
     "data": {
      "image/png": "[encoded data removed]",
      "text/plain": [
       "<matplotlib.figure.Figure at 0x7fd5f0717b38>"
      ]
     },
     "metadata": {},
     "output_type": "display_data"
    }
   ],
   "source": [
    "plt.subplot(121)\n",
    "plt.plot(x,xhat,'.')\n",
    "plt.xlabel('x');plt.ylabel('xHat');\n",
    "plt.plot([min(x), max(x)], [min(x), max(x)],'--')\n",
    "plt.subplot(122)\n",
    "plt.plot(y,yhat,'.')\n",
    "plt.plot([min(y), max(y)], [min(y), max(y)],'--')\n",
    "plt.xlabel('y');plt.ylabel('yHat');"
   ]
  },
  {
   "cell_type": "code",
   "execution_count": 66,
   "metadata": {},
   "outputs": [
    {
     "data": {
      "image/png": "[encoded data removed]",
      "text/plain": [
       "<matplotlib.figure.Figure at 0x7fd5f08c0f28>"
      ]
     },
     "metadata": {},
     "output_type": "display_data"
    }
   ],
   "source": [
    "def plotJoints(img, joints, color=(255,255,255)):\n",
    "    img = img.copy()\n",
    "    numJoints, t = joints.shape\n",
    "    #numJoints, t = predicted_joints[0].shape #joints.shape\n",
    "    #print(numJoints,t)\n",
    "\n",
    "    circSize=10\n",
    "    font = cv2.FONT_HERSHEY_SIMPLEX\n",
    "\n",
    "    #cv2.drawKeypoints(img,joints,img)\n",
    "    for i in range(numJoints):\n",
    "        #print(joints[i,:])\n",
    "        x = joints[i,0]\n",
    "        y = joints[i,1]\n",
    "        #x = predicted_joints[0][0][i,0]\n",
    "        #y = predicted_joints[0][0][i,1]\n",
    "\n",
    "        # transform \n",
    "        xx = int(w/2 + w*x)\n",
    "        yy = int(h/2 + h*y)    \n",
    "        #print(x,y)\n",
    "\n",
    "        cv2.circle(img, (xx, yy), 5, color) #, -1)\n",
    "\n",
    "        cv2.putText(img, str(i+1), (xx,yy), font, 0.5, (255,255,255), 1, cv2.LINE_AA)\n",
    "    #    cv2.text(img, (x, y), 5, (255, 0, 0)) #, -1)\n",
    "        # https://docs.opencv.org/3.1.0/dc/da5/tutorial_py_drawing_functions.html\n",
    "    \n",
    "    return img \n",
    "\n",
    "plt.subplot(121)\n",
    "img1=plotJoints(img,joints, (255,0,0))\n",
    "plt.imshow(img1[:,:,::-1], interpolation = 'bicubic')\n",
    "#plt.imshow(img[:,:,0], cmap='gray', interpolation = 'bicubic')\n",
    "\n",
    "plt.xticks([]), plt.yticks([])  # to hide tick values on X and Y axis\n",
    "\n",
    "plt.subplot(122)\n",
    "plotJoints(img, predicted_joints[imageIdx][0])\n",
    "#plt.imshow(img[:,:,::-1], cmap = 'gray', interpolation = 'bicubic')\n",
    "plt.imshow(img[:,:,0], cmap = 'gray', interpolation = 'bicubic')\n",
    "plt.xticks([]), plt.yticks([])  # to hide tick values on X and Y axis\n",
    "\n",
    "plt.show()\n"
   ]
  },
  {
   "cell_type": "code",
   "execution_count": 82,
   "metadata": {},
   "outputs": [
    {
     "name": "stdout",
     "output_type": "stream",
     "text": [
      "(227, 227, 3)\n"
     ]
    },
    {
     "name": "stderr",
     "output_type": "stream",
     "text": [
      "/home/yyoo/tf3/lib/python3.5/site-packages/skimage/io/_plugins/matplotlib_plugin.py:51: FutureWarning: Conversion of the second argument of issubdtype from `float` to `np.floating` is deprecated. In future, it will be treated as `np.float64 == np.dtype(float).type`.\n",
      "  out_of_range_float = (np.issubdtype(image.dtype, np.float) and\n"
     ]
    },
    {
     "ename": "ValueError",
     "evalue": "Images of type float must be between -1 and 1.",
     "output_type": "error",
     "traceback": [
      "\u001b[0;31m---------------------------------------------------------------------------\u001b[0m",
      "\u001b[0;31mValueError\u001b[0m                                Traceback (most recent call last)",
      "\u001b[0;32m<ipython-input-82-ce950c2e7f02>\u001b[0m in \u001b[0;36m<module>\u001b[0;34m()\u001b[0m\n\u001b[1;32m      8\u001b[0m \u001b[0;34m\u001b[0m\u001b[0m\n\u001b[1;32m      9\u001b[0m \u001b[0;32mfrom\u001b[0m \u001b[0mskimage\u001b[0m \u001b[0;32mimport\u001b[0m \u001b[0mdata\u001b[0m\u001b[0;34m,\u001b[0m \u001b[0mio\u001b[0m\u001b[0;34m,\u001b[0m \u001b[0mfilters\u001b[0m\u001b[0;34m\u001b[0m\u001b[0m\n\u001b[0;32m---> 10\u001b[0;31m \u001b[0mio\u001b[0m\u001b[0;34m.\u001b[0m\u001b[0mimshow\u001b[0m\u001b[0;34m(\u001b[0m\u001b[0mimg\u001b[0m\u001b[0;34m)\u001b[0m\u001b[0;34m\u001b[0m\u001b[0m\n\u001b[0m\u001b[1;32m     11\u001b[0m \u001b[0mio\u001b[0m\u001b[0;34m.\u001b[0m\u001b[0mshow\u001b[0m\u001b[0;34m(\u001b[0m\u001b[0;34m)\u001b[0m\u001b[0;34m\u001b[0m\u001b[0m\n",
      "\u001b[0;32m~/tf3/lib/python3.5/site-packages/skimage/io/_io.py\u001b[0m in \u001b[0;36mimshow\u001b[0;34m(arr, plugin, **plugin_args)\u001b[0m\n\u001b[1;32m    154\u001b[0m     \u001b[0;32mif\u001b[0m \u001b[0misinstance\u001b[0m\u001b[0;34m(\u001b[0m\u001b[0marr\u001b[0m\u001b[0;34m,\u001b[0m \u001b[0msix\u001b[0m\u001b[0;34m.\u001b[0m\u001b[0mstring_types\u001b[0m\u001b[0;34m)\u001b[0m\u001b[0;34m:\u001b[0m\u001b[0;34m\u001b[0m\u001b[0m\n\u001b[1;32m    155\u001b[0m         \u001b[0marr\u001b[0m \u001b[0;34m=\u001b[0m \u001b[0mcall_plugin\u001b[0m\u001b[0;34m(\u001b[0m\u001b[0;34m'imread'\u001b[0m\u001b[0;34m,\u001b[0m \u001b[0marr\u001b[0m\u001b[0;34m,\u001b[0m \u001b[0mplugin\u001b[0m\u001b[0;34m=\u001b[0m\u001b[0mplugin\u001b[0m\u001b[0;34m)\u001b[0m\u001b[0;34m\u001b[0m\u001b[0m\n\u001b[0;32m--> 156\u001b[0;31m     \u001b[0;32mreturn\u001b[0m \u001b[0mcall_plugin\u001b[0m\u001b[0;34m(\u001b[0m\u001b[0;34m'imshow'\u001b[0m\u001b[0;34m,\u001b[0m \u001b[0marr\u001b[0m\u001b[0;34m,\u001b[0m \u001b[0mplugin\u001b[0m\u001b[0;34m=\u001b[0m\u001b[0mplugin\u001b[0m\u001b[0;34m,\u001b[0m \u001b[0;34m**\u001b[0m\u001b[0mplugin_args\u001b[0m\u001b[0;34m)\u001b[0m\u001b[0;34m\u001b[0m\u001b[0m\n\u001b[0m\u001b[1;32m    157\u001b[0m \u001b[0;34m\u001b[0m\u001b[0m\n\u001b[1;32m    158\u001b[0m \u001b[0;34m\u001b[0m\u001b[0m\n",
      "\u001b[0;32m~/tf3/lib/python3.5/site-packages/skimage/io/manage_plugins.py\u001b[0m in \u001b[0;36mcall_plugin\u001b[0;34m(kind, *args, **kwargs)\u001b[0m\n\u001b[1;32m    209\u001b[0m                                (plugin, kind))\n\u001b[1;32m    210\u001b[0m \u001b[0;34m\u001b[0m\u001b[0m\n\u001b[0;32m--> 211\u001b[0;31m     \u001b[0;32mreturn\u001b[0m \u001b[0mfunc\u001b[0m\u001b[0;34m(\u001b[0m\u001b[0;34m*\u001b[0m\u001b[0margs\u001b[0m\u001b[0;34m,\u001b[0m \u001b[0;34m**\u001b[0m\u001b[0mkwargs\u001b[0m\u001b[0;34m)\u001b[0m\u001b[0;34m\u001b[0m\u001b[0m\n\u001b[0m\u001b[1;32m    212\u001b[0m \u001b[0;34m\u001b[0m\u001b[0m\n\u001b[1;32m    213\u001b[0m \u001b[0;34m\u001b[0m\u001b[0m\n",
      "\u001b[0;32m~/tf3/lib/python3.5/site-packages/skimage/io/_plugins/matplotlib_plugin.py\u001b[0m in \u001b[0;36mimshow\u001b[0;34m(im, ax, show_cbar, **kwargs)\u001b[0m\n\u001b[1;32m    147\u001b[0m     \u001b[0;32mif\u001b[0m \u001b[0mkwargs\u001b[0m\u001b[0;34m.\u001b[0m\u001b[0mget\u001b[0m\u001b[0;34m(\u001b[0m\u001b[0;34m'cmap'\u001b[0m\u001b[0;34m,\u001b[0m \u001b[0;32mNone\u001b[0m\u001b[0;34m)\u001b[0m \u001b[0;34m==\u001b[0m \u001b[0;34m'viridis'\u001b[0m\u001b[0;34m:\u001b[0m\u001b[0;34m\u001b[0m\u001b[0m\n\u001b[1;32m    148\u001b[0m         \u001b[0mkwargs\u001b[0m\u001b[0;34m[\u001b[0m\u001b[0;34m'cmap'\u001b[0m\u001b[0;34m]\u001b[0m \u001b[0;34m=\u001b[0m \u001b[0mviridis\u001b[0m\u001b[0;34m\u001b[0m\u001b[0m\n\u001b[0;32m--> 149\u001b[0;31m     \u001b[0mlo\u001b[0m\u001b[0;34m,\u001b[0m \u001b[0mhi\u001b[0m\u001b[0;34m,\u001b[0m \u001b[0mcmap\u001b[0m \u001b[0;34m=\u001b[0m \u001b[0m_get_display_range\u001b[0m\u001b[0;34m(\u001b[0m\u001b[0mim\u001b[0m\u001b[0;34m)\u001b[0m\u001b[0;34m\u001b[0m\u001b[0m\n\u001b[0m\u001b[1;32m    150\u001b[0m \u001b[0;34m\u001b[0m\u001b[0m\n\u001b[1;32m    151\u001b[0m     \u001b[0mkwargs\u001b[0m\u001b[0;34m.\u001b[0m\u001b[0msetdefault\u001b[0m\u001b[0;34m(\u001b[0m\u001b[0;34m'interpolation'\u001b[0m\u001b[0;34m,\u001b[0m \u001b[0;34m'nearest'\u001b[0m\u001b[0;34m)\u001b[0m\u001b[0;34m\u001b[0m\u001b[0m\n",
      "\u001b[0;32m~/tf3/lib/python3.5/site-packages/skimage/io/_plugins/matplotlib_plugin.py\u001b[0m in \u001b[0;36m_get_display_range\u001b[0;34m(image)\u001b[0m\n\u001b[1;32m     94\u001b[0m         \u001b[0mThe\u001b[0m \u001b[0mname\u001b[0m \u001b[0mof\u001b[0m \u001b[0mthe\u001b[0m \u001b[0mcolormap\u001b[0m \u001b[0mto\u001b[0m \u001b[0muse\u001b[0m\u001b[0;34m.\u001b[0m\u001b[0;34m\u001b[0m\u001b[0m\n\u001b[1;32m     95\u001b[0m     \"\"\"\n\u001b[0;32m---> 96\u001b[0;31m     \u001b[0mip\u001b[0m \u001b[0;34m=\u001b[0m \u001b[0m_get_image_properties\u001b[0m\u001b[0;34m(\u001b[0m\u001b[0mimage\u001b[0m\u001b[0;34m)\u001b[0m\u001b[0;34m\u001b[0m\u001b[0m\n\u001b[0m\u001b[1;32m     97\u001b[0m     \u001b[0mimmin\u001b[0m\u001b[0;34m,\u001b[0m \u001b[0mimmax\u001b[0m \u001b[0;34m=\u001b[0m \u001b[0mnp\u001b[0m\u001b[0;34m.\u001b[0m\u001b[0mmin\u001b[0m\u001b[0;34m(\u001b[0m\u001b[0mimage\u001b[0m\u001b[0;34m)\u001b[0m\u001b[0;34m,\u001b[0m \u001b[0mnp\u001b[0m\u001b[0;34m.\u001b[0m\u001b[0mmax\u001b[0m\u001b[0;34m(\u001b[0m\u001b[0mimage\u001b[0m\u001b[0;34m)\u001b[0m\u001b[0;34m\u001b[0m\u001b[0m\n\u001b[1;32m     98\u001b[0m     \u001b[0;32mif\u001b[0m \u001b[0mip\u001b[0m\u001b[0;34m.\u001b[0m\u001b[0msigned\u001b[0m\u001b[0;34m:\u001b[0m\u001b[0;34m\u001b[0m\u001b[0m\n",
      "\u001b[0;32m~/tf3/lib/python3.5/site-packages/skimage/io/_plugins/matplotlib_plugin.py\u001b[0m in \u001b[0;36m_get_image_properties\u001b[0;34m(image)\u001b[0m\n\u001b[1;32m     52\u001b[0m                           (immin < lo or immax > hi))\n\u001b[1;32m     53\u001b[0m     low_data_range = (immin != immax and\n\u001b[0;32m---> 54\u001b[0;31m                          is_low_contrast(image))\n\u001b[0m\u001b[1;32m     55\u001b[0m     \u001b[0munsupported_dtype\u001b[0m \u001b[0;34m=\u001b[0m \u001b[0mimage\u001b[0m\u001b[0;34m.\u001b[0m\u001b[0mdtype\u001b[0m \u001b[0;32mnot\u001b[0m \u001b[0;32min\u001b[0m \u001b[0mdtypes\u001b[0m\u001b[0;34m.\u001b[0m\u001b[0m_supported_types\u001b[0m\u001b[0;34m\u001b[0m\u001b[0m\n\u001b[1;32m     56\u001b[0m \u001b[0;34m\u001b[0m\u001b[0m\n",
      "\u001b[0;32m~/tf3/lib/python3.5/site-packages/skimage/exposure/exposure.py\u001b[0m in \u001b[0;36mis_low_contrast\u001b[0;34m(image, fraction_threshold, lower_percentile, upper_percentile, method)\u001b[0m\n\u001b[1;32m    499\u001b[0m     \u001b[0mimage\u001b[0m \u001b[0;34m=\u001b[0m \u001b[0mnp\u001b[0m\u001b[0;34m.\u001b[0m\u001b[0masanyarray\u001b[0m\u001b[0;34m(\u001b[0m\u001b[0mimage\u001b[0m\u001b[0;34m)\u001b[0m\u001b[0;34m\u001b[0m\u001b[0m\n\u001b[1;32m    500\u001b[0m     \u001b[0;32mif\u001b[0m \u001b[0mimage\u001b[0m\u001b[0;34m.\u001b[0m\u001b[0mndim\u001b[0m \u001b[0;34m==\u001b[0m \u001b[0;36m3\u001b[0m \u001b[0;32mand\u001b[0m \u001b[0mimage\u001b[0m\u001b[0;34m.\u001b[0m\u001b[0mshape\u001b[0m\u001b[0;34m[\u001b[0m\u001b[0;36m2\u001b[0m\u001b[0;34m]\u001b[0m \u001b[0;32min\u001b[0m \u001b[0;34m[\u001b[0m\u001b[0;36m3\u001b[0m\u001b[0;34m,\u001b[0m \u001b[0;36m4\u001b[0m\u001b[0;34m]\u001b[0m\u001b[0;34m:\u001b[0m\u001b[0;34m\u001b[0m\u001b[0m\n\u001b[0;32m--> 501\u001b[0;31m         \u001b[0mimage\u001b[0m \u001b[0;34m=\u001b[0m \u001b[0mrgb2gray\u001b[0m\u001b[0;34m(\u001b[0m\u001b[0mimage\u001b[0m\u001b[0;34m)\u001b[0m\u001b[0;34m\u001b[0m\u001b[0m\n\u001b[0m\u001b[1;32m    502\u001b[0m \u001b[0;34m\u001b[0m\u001b[0m\n\u001b[1;32m    503\u001b[0m     \u001b[0mdlimits\u001b[0m \u001b[0;34m=\u001b[0m \u001b[0mdtype_limits\u001b[0m\u001b[0;34m(\u001b[0m\u001b[0mimage\u001b[0m\u001b[0;34m,\u001b[0m \u001b[0mclip_negative\u001b[0m\u001b[0;34m=\u001b[0m\u001b[0;32mFalse\u001b[0m\u001b[0;34m)\u001b[0m\u001b[0;34m\u001b[0m\u001b[0m\n",
      "\u001b[0;32m~/tf3/lib/python3.5/site-packages/skimage/color/colorconv.py\u001b[0m in \u001b[0;36mrgb2gray\u001b[0;34m(rgb)\u001b[0m\n\u001b[1;32m    794\u001b[0m         \u001b[0;32mreturn\u001b[0m \u001b[0mnp\u001b[0m\u001b[0;34m.\u001b[0m\u001b[0mascontiguousarray\u001b[0m\u001b[0;34m(\u001b[0m\u001b[0mrgb\u001b[0m\u001b[0;34m)\u001b[0m\u001b[0;34m\u001b[0m\u001b[0m\n\u001b[1;32m    795\u001b[0m \u001b[0;34m\u001b[0m\u001b[0m\n\u001b[0;32m--> 796\u001b[0;31m     \u001b[0mrgb\u001b[0m \u001b[0;34m=\u001b[0m \u001b[0m_prepare_colorarray\u001b[0m\u001b[0;34m(\u001b[0m\u001b[0mrgb\u001b[0m\u001b[0;34m[\u001b[0m\u001b[0;34m...\u001b[0m\u001b[0;34m,\u001b[0m \u001b[0;34m:\u001b[0m\u001b[0;36m3\u001b[0m\u001b[0;34m]\u001b[0m\u001b[0;34m)\u001b[0m\u001b[0;34m\u001b[0m\u001b[0m\n\u001b[0m\u001b[1;32m    797\u001b[0m \u001b[0;34m\u001b[0m\u001b[0m\n\u001b[1;32m    798\u001b[0m     \u001b[0mgray\u001b[0m \u001b[0;34m=\u001b[0m \u001b[0;36m0.2125\u001b[0m \u001b[0;34m*\u001b[0m \u001b[0mrgb\u001b[0m\u001b[0;34m[\u001b[0m\u001b[0;34m...\u001b[0m\u001b[0;34m,\u001b[0m \u001b[0;36m0\u001b[0m\u001b[0;34m]\u001b[0m\u001b[0;34m\u001b[0m\u001b[0m\n",
      "\u001b[0;32m~/tf3/lib/python3.5/site-packages/skimage/color/colorconv.py\u001b[0m in \u001b[0;36m_prepare_colorarray\u001b[0;34m(arr)\u001b[0m\n\u001b[1;32m    155\u001b[0m         \u001b[0;32mraise\u001b[0m \u001b[0mValueError\u001b[0m\u001b[0;34m(\u001b[0m\u001b[0mmsg\u001b[0m\u001b[0;34m)\u001b[0m\u001b[0;34m\u001b[0m\u001b[0m\n\u001b[1;32m    156\u001b[0m \u001b[0;34m\u001b[0m\u001b[0m\n\u001b[0;32m--> 157\u001b[0;31m     \u001b[0;32mreturn\u001b[0m \u001b[0mdtype\u001b[0m\u001b[0;34m.\u001b[0m\u001b[0mimg_as_float\u001b[0m\u001b[0;34m(\u001b[0m\u001b[0marr\u001b[0m\u001b[0;34m)\u001b[0m\u001b[0;34m\u001b[0m\u001b[0m\n\u001b[0m\u001b[1;32m    158\u001b[0m \u001b[0;34m\u001b[0m\u001b[0m\n\u001b[1;32m    159\u001b[0m \u001b[0;34m\u001b[0m\u001b[0m\n",
      "\u001b[0;32m~/tf3/lib/python3.5/site-packages/skimage/util/dtype.py\u001b[0m in \u001b[0;36mimg_as_float\u001b[0;34m(image, force_copy)\u001b[0m\n\u001b[1;32m    334\u001b[0m \u001b[0;34m\u001b[0m\u001b[0m\n\u001b[1;32m    335\u001b[0m     \"\"\"\n\u001b[0;32m--> 336\u001b[0;31m     \u001b[0;32mreturn\u001b[0m \u001b[0mconvert\u001b[0m\u001b[0;34m(\u001b[0m\u001b[0mimage\u001b[0m\u001b[0;34m,\u001b[0m \u001b[0mnp\u001b[0m\u001b[0;34m.\u001b[0m\u001b[0mfloat64\u001b[0m\u001b[0;34m,\u001b[0m \u001b[0mforce_copy\u001b[0m\u001b[0;34m)\u001b[0m\u001b[0;34m\u001b[0m\u001b[0m\n\u001b[0m\u001b[1;32m    337\u001b[0m \u001b[0;34m\u001b[0m\u001b[0m\n\u001b[1;32m    338\u001b[0m \u001b[0;34m\u001b[0m\u001b[0m\n",
      "\u001b[0;32m~/tf3/lib/python3.5/site-packages/skimage/util/dtype.py\u001b[0m in \u001b[0;36mconvert\u001b[0;34m(image, dtype, force_copy, uniform)\u001b[0m\n\u001b[1;32m    234\u001b[0m     \u001b[0;32mif\u001b[0m \u001b[0mkind_in\u001b[0m \u001b[0;34m==\u001b[0m \u001b[0;34m'f'\u001b[0m\u001b[0;34m:\u001b[0m\u001b[0;34m\u001b[0m\u001b[0m\n\u001b[1;32m    235\u001b[0m         \u001b[0;32mif\u001b[0m \u001b[0mnp\u001b[0m\u001b[0;34m.\u001b[0m\u001b[0mmin\u001b[0m\u001b[0;34m(\u001b[0m\u001b[0mimage\u001b[0m\u001b[0;34m)\u001b[0m \u001b[0;34m<\u001b[0m \u001b[0;34m-\u001b[0m\u001b[0;36m1.0\u001b[0m \u001b[0;32mor\u001b[0m \u001b[0mnp\u001b[0m\u001b[0;34m.\u001b[0m\u001b[0mmax\u001b[0m\u001b[0;34m(\u001b[0m\u001b[0mimage\u001b[0m\u001b[0;34m)\u001b[0m \u001b[0;34m>\u001b[0m \u001b[0;36m1.0\u001b[0m\u001b[0;34m:\u001b[0m\u001b[0;34m\u001b[0m\u001b[0m\n\u001b[0;32m--> 236\u001b[0;31m             \u001b[0;32mraise\u001b[0m \u001b[0mValueError\u001b[0m\u001b[0;34m(\u001b[0m\u001b[0;34m\"Images of type float must be between -1 and 1.\"\u001b[0m\u001b[0;34m)\u001b[0m\u001b[0;34m\u001b[0m\u001b[0m\n\u001b[0m\u001b[1;32m    237\u001b[0m         \u001b[0;32mif\u001b[0m \u001b[0mkind_out\u001b[0m \u001b[0;34m==\u001b[0m \u001b[0;34m'f'\u001b[0m\u001b[0;34m:\u001b[0m\u001b[0;34m\u001b[0m\u001b[0m\n\u001b[1;32m    238\u001b[0m             \u001b[0;31m# float -> float\u001b[0m\u001b[0;34m\u001b[0m\u001b[0;34m\u001b[0m\u001b[0m\n",
      "\u001b[0;31mValueError\u001b[0m: Images of type float must be between -1 and 1."
     ]
    },
    {
     "data": {
      "image/png": "[encoded data removed]",
      "text/plain": [
       "<matplotlib.figure.Figure at 0x7fd630043860>"
      ]
     },
     "metadata": {},
     "output_type": "display_data"
    }
   ],
   "source": [
    "#plt.imshow(img, vmin = -2, vmax = 2)\n",
    "#plt.show()\n",
    "print(img.shape)\n",
    "fig = plt.figure()\n",
    "ax = fig.add_subplot(2, 1, 1)\n",
    "ax.imshow(img, cmap='gray', vmin = -2, vmax = 2, interpolation = 'bicubic')\n",
    "#ax.autoscale(True)\n",
    "\n"
   ]
  },
  {
   "cell_type": "code",
   "execution_count": 98,
   "metadata": {},
   "outputs": [
    {
     "name": "stdout",
     "output_type": "stream",
     "text": [
      "[[[ 0.5842837   0.70071435  0.69304544]\n",
      "  [ 0.5758691   0.688076    0.682609  ]\n",
      "  [ 0.55903983  0.66279924  0.6617362 ]\n",
      "  ...\n",
      "  [ 0.44123477  0.5743307   0.6408633 ]\n",
      "  [ 0.4244055   0.54905397  0.6408633 ]\n",
      "  [ 0.4244055   0.54905397  0.6408633 ]]\n",
      "\n",
      " [[ 0.5758691   0.688076    0.682609  ]\n",
      "  [ 0.56745446  0.6754376   0.6721726 ]\n",
      "  [ 0.55062515  0.6501609   0.6512997 ]\n",
      "  ...\n",
      "  [ 0.44123477  0.5616923   0.6408633 ]\n",
      "  [ 0.4244055   0.54905397  0.6408633 ]\n",
      "  [ 0.4244055   0.54905397  0.6408633 ]]\n",
      "\n",
      " [[ 0.55062515  0.6501609   0.6617362 ]\n",
      "  [ 0.55062515  0.6501609   0.6512997 ]\n",
      "  [ 0.5422105   0.6375225   0.6408633 ]\n",
      "  ...\n",
      "  [ 0.44123477  0.5616923   0.6408633 ]\n",
      "  [ 0.4244055   0.54905397  0.6408633 ]\n",
      "  [ 0.4244055   0.5364156   0.6408633 ]]\n",
      "\n",
      " ...\n",
      "\n",
      " [[-0.4423029  -0.28507835 -0.38190582]\n",
      "  [-0.4423029  -0.28507835 -0.38190582]\n",
      "  [-0.45071757 -0.29771674 -0.39234224]\n",
      "  ...\n",
      "  [-0.5516933  -0.44937715 -0.49670646]\n",
      "  [-0.5516933  -0.44937715 -0.49670646]\n",
      "  [-0.5516933  -0.4367388  -0.49670646]]\n",
      "\n",
      " [[-0.45071757 -0.29771674 -0.39234224]\n",
      "  [-0.4591322  -0.3103551  -0.40277869]\n",
      "  [-0.46754685 -0.32299346 -0.4132151 ]\n",
      "  ...\n",
      "  [-0.5937665  -0.52520734 -0.559325  ]\n",
      "  [-0.5937665  -0.52520734 -0.559325  ]\n",
      "  [-0.5937665  -0.52520734 -0.559325  ]]\n",
      "\n",
      " [[-0.48437613 -0.3482702  -0.43408793]\n",
      "  [-0.4927908  -0.3482702  -0.43408793]\n",
      "  [-0.4927908  -0.36090857 -0.44452435]\n",
      "  ...\n",
      "  [-0.6442544  -0.58839923 -0.61150706]\n",
      "  [-0.6442544  -0.58839923 -0.61150706]\n",
      "  [-0.6442544  -0.58839923 -0.61150706]]]\n"
     ]
    },
    {
     "name": "stderr",
     "output_type": "stream",
     "text": [
      "/home/yyoo/tf3/lib/python3.5/site-packages/skimage/io/_plugins/matplotlib_plugin.py:51: FutureWarning: Conversion of the second argument of issubdtype from `float` to `np.floating` is deprecated. In future, it will be treated as `np.float64 == np.dtype(float).type`.\n",
      "  out_of_range_float = (np.issubdtype(image.dtype, np.float) and\n"
     ]
    },
    {
     "ename": "ValueError",
     "evalue": "Floating point image RGB values must be in the 0..1 range.",
     "output_type": "error",
     "traceback": [
      "\u001b[0;31m---------------------------------------------------------------------------\u001b[0m",
      "\u001b[0;31mValueError\u001b[0m                                Traceback (most recent call last)",
      "\u001b[0;32m~/tf3/lib/python3.5/site-packages/IPython/core/formatters.py\u001b[0m in \u001b[0;36m__call__\u001b[0;34m(self, obj)\u001b[0m\n\u001b[1;32m    339\u001b[0m                 \u001b[0;32mpass\u001b[0m\u001b[0;34m\u001b[0m\u001b[0m\n\u001b[1;32m    340\u001b[0m             \u001b[0;32melse\u001b[0m\u001b[0;34m:\u001b[0m\u001b[0;34m\u001b[0m\u001b[0m\n\u001b[0;32m--> 341\u001b[0;31m                 \u001b[0;32mreturn\u001b[0m \u001b[0mprinter\u001b[0m\u001b[0;34m(\u001b[0m\u001b[0mobj\u001b[0m\u001b[0;34m)\u001b[0m\u001b[0;34m\u001b[0m\u001b[0m\n\u001b[0m\u001b[1;32m    342\u001b[0m             \u001b[0;31m# Finally look for special method names\u001b[0m\u001b[0;34m\u001b[0m\u001b[0;34m\u001b[0m\u001b[0m\n\u001b[1;32m    343\u001b[0m             \u001b[0mmethod\u001b[0m \u001b[0;34m=\u001b[0m \u001b[0mget_real_method\u001b[0m\u001b[0;34m(\u001b[0m\u001b[0mobj\u001b[0m\u001b[0;34m,\u001b[0m \u001b[0mself\u001b[0m\u001b[0;34m.\u001b[0m\u001b[0mprint_method\u001b[0m\u001b[0;34m)\u001b[0m\u001b[0;34m\u001b[0m\u001b[0m\n",
      "\u001b[0;32m~/tf3/lib/python3.5/site-packages/IPython/core/pylabtools.py\u001b[0m in \u001b[0;36m<lambda>\u001b[0;34m(fig)\u001b[0m\n\u001b[1;32m    236\u001b[0m \u001b[0;34m\u001b[0m\u001b[0m\n\u001b[1;32m    237\u001b[0m     \u001b[0;32mif\u001b[0m \u001b[0;34m'png'\u001b[0m \u001b[0;32min\u001b[0m \u001b[0mformats\u001b[0m\u001b[0;34m:\u001b[0m\u001b[0;34m\u001b[0m\u001b[0m\n\u001b[0;32m--> 238\u001b[0;31m         \u001b[0mpng_formatter\u001b[0m\u001b[0;34m.\u001b[0m\u001b[0mfor_type\u001b[0m\u001b[0;34m(\u001b[0m\u001b[0mFigure\u001b[0m\u001b[0;34m,\u001b[0m \u001b[0;32mlambda\u001b[0m \u001b[0mfig\u001b[0m\u001b[0;34m:\u001b[0m \u001b[0mprint_figure\u001b[0m\u001b[0;34m(\u001b[0m\u001b[0mfig\u001b[0m\u001b[0;34m,\u001b[0m \u001b[0;34m'png'\u001b[0m\u001b[0;34m,\u001b[0m \u001b[0;34m**\u001b[0m\u001b[0mkwargs\u001b[0m\u001b[0;34m)\u001b[0m\u001b[0;34m)\u001b[0m\u001b[0;34m\u001b[0m\u001b[0m\n\u001b[0m\u001b[1;32m    239\u001b[0m     \u001b[0;32mif\u001b[0m \u001b[0;34m'retina'\u001b[0m \u001b[0;32min\u001b[0m \u001b[0mformats\u001b[0m \u001b[0;32mor\u001b[0m \u001b[0;34m'png2x'\u001b[0m \u001b[0;32min\u001b[0m \u001b[0mformats\u001b[0m\u001b[0;34m:\u001b[0m\u001b[0;34m\u001b[0m\u001b[0m\n\u001b[1;32m    240\u001b[0m         \u001b[0mpng_formatter\u001b[0m\u001b[0;34m.\u001b[0m\u001b[0mfor_type\u001b[0m\u001b[0;34m(\u001b[0m\u001b[0mFigure\u001b[0m\u001b[0;34m,\u001b[0m \u001b[0;32mlambda\u001b[0m \u001b[0mfig\u001b[0m\u001b[0;34m:\u001b[0m \u001b[0mretina_figure\u001b[0m\u001b[0;34m(\u001b[0m\u001b[0mfig\u001b[0m\u001b[0;34m,\u001b[0m \u001b[0;34m**\u001b[0m\u001b[0mkwargs\u001b[0m\u001b[0;34m)\u001b[0m\u001b[0;34m)\u001b[0m\u001b[0;34m\u001b[0m\u001b[0m\n",
      "\u001b[0;32m~/tf3/lib/python3.5/site-packages/IPython/core/pylabtools.py\u001b[0m in \u001b[0;36mprint_figure\u001b[0;34m(fig, fmt, bbox_inches, **kwargs)\u001b[0m\n\u001b[1;32m    120\u001b[0m \u001b[0;34m\u001b[0m\u001b[0m\n\u001b[1;32m    121\u001b[0m     \u001b[0mbytes_io\u001b[0m \u001b[0;34m=\u001b[0m \u001b[0mBytesIO\u001b[0m\u001b[0;34m(\u001b[0m\u001b[0;34m)\u001b[0m\u001b[0;34m\u001b[0m\u001b[0m\n\u001b[0;32m--> 122\u001b[0;31m     \u001b[0mfig\u001b[0m\u001b[0;34m.\u001b[0m\u001b[0mcanvas\u001b[0m\u001b[0;34m.\u001b[0m\u001b[0mprint_figure\u001b[0m\u001b[0;34m(\u001b[0m\u001b[0mbytes_io\u001b[0m\u001b[0;34m,\u001b[0m \u001b[0;34m**\u001b[0m\u001b[0mkw\u001b[0m\u001b[0;34m)\u001b[0m\u001b[0;34m\u001b[0m\u001b[0m\n\u001b[0m\u001b[1;32m    123\u001b[0m     \u001b[0mdata\u001b[0m \u001b[0;34m=\u001b[0m \u001b[0mbytes_io\u001b[0m\u001b[0;34m.\u001b[0m\u001b[0mgetvalue\u001b[0m\u001b[0;34m(\u001b[0m\u001b[0;34m)\u001b[0m\u001b[0;34m\u001b[0m\u001b[0m\n\u001b[1;32m    124\u001b[0m     \u001b[0;32mif\u001b[0m \u001b[0mfmt\u001b[0m \u001b[0;34m==\u001b[0m \u001b[0;34m'svg'\u001b[0m\u001b[0;34m:\u001b[0m\u001b[0;34m\u001b[0m\u001b[0m\n",
      "\u001b[0;32m~/tf3/lib/python3.5/site-packages/matplotlib/backend_bases.py\u001b[0m in \u001b[0;36mprint_figure\u001b[0;34m(self, filename, dpi, facecolor, edgecolor, orientation, format, **kwargs)\u001b[0m\n\u001b[1;32m   2206\u001b[0m                     \u001b[0morientation\u001b[0m\u001b[0;34m=\u001b[0m\u001b[0morientation\u001b[0m\u001b[0;34m,\u001b[0m\u001b[0;34m\u001b[0m\u001b[0m\n\u001b[1;32m   2207\u001b[0m                     \u001b[0mdryrun\u001b[0m\u001b[0;34m=\u001b[0m\u001b[0;32mTrue\u001b[0m\u001b[0;34m,\u001b[0m\u001b[0;34m\u001b[0m\u001b[0m\n\u001b[0;32m-> 2208\u001b[0;31m                     **kwargs)\n\u001b[0m\u001b[1;32m   2209\u001b[0m                 \u001b[0mrenderer\u001b[0m \u001b[0;34m=\u001b[0m \u001b[0mself\u001b[0m\u001b[0;34m.\u001b[0m\u001b[0mfigure\u001b[0m\u001b[0;34m.\u001b[0m\u001b[0m_cachedRenderer\u001b[0m\u001b[0;34m\u001b[0m\u001b[0m\n\u001b[1;32m   2210\u001b[0m                 \u001b[0mbbox_inches\u001b[0m \u001b[0;34m=\u001b[0m \u001b[0mself\u001b[0m\u001b[0;34m.\u001b[0m\u001b[0mfigure\u001b[0m\u001b[0;34m.\u001b[0m\u001b[0mget_tightbbox\u001b[0m\u001b[0;34m(\u001b[0m\u001b[0mrenderer\u001b[0m\u001b[0;34m)\u001b[0m\u001b[0;34m\u001b[0m\u001b[0m\n",
      "\u001b[0;32m~/tf3/lib/python3.5/site-packages/matplotlib/backends/backend_agg.py\u001b[0m in \u001b[0;36mprint_png\u001b[0;34m(self, filename_or_obj, *args, **kwargs)\u001b[0m\n\u001b[1;32m    505\u001b[0m \u001b[0;34m\u001b[0m\u001b[0m\n\u001b[1;32m    506\u001b[0m     \u001b[0;32mdef\u001b[0m \u001b[0mprint_png\u001b[0m\u001b[0;34m(\u001b[0m\u001b[0mself\u001b[0m\u001b[0;34m,\u001b[0m \u001b[0mfilename_or_obj\u001b[0m\u001b[0;34m,\u001b[0m \u001b[0;34m*\u001b[0m\u001b[0margs\u001b[0m\u001b[0;34m,\u001b[0m \u001b[0;34m**\u001b[0m\u001b[0mkwargs\u001b[0m\u001b[0;34m)\u001b[0m\u001b[0;34m:\u001b[0m\u001b[0;34m\u001b[0m\u001b[0m\n\u001b[0;32m--> 507\u001b[0;31m         \u001b[0mFigureCanvasAgg\u001b[0m\u001b[0;34m.\u001b[0m\u001b[0mdraw\u001b[0m\u001b[0;34m(\u001b[0m\u001b[0mself\u001b[0m\u001b[0;34m)\u001b[0m\u001b[0;34m\u001b[0m\u001b[0m\n\u001b[0m\u001b[1;32m    508\u001b[0m         \u001b[0mrenderer\u001b[0m \u001b[0;34m=\u001b[0m \u001b[0mself\u001b[0m\u001b[0;34m.\u001b[0m\u001b[0mget_renderer\u001b[0m\u001b[0;34m(\u001b[0m\u001b[0;34m)\u001b[0m\u001b[0;34m\u001b[0m\u001b[0m\n\u001b[1;32m    509\u001b[0m         \u001b[0moriginal_dpi\u001b[0m \u001b[0;34m=\u001b[0m \u001b[0mrenderer\u001b[0m\u001b[0;34m.\u001b[0m\u001b[0mdpi\u001b[0m\u001b[0;34m\u001b[0m\u001b[0m\n",
      "\u001b[0;32m~/tf3/lib/python3.5/site-packages/matplotlib/backends/backend_agg.py\u001b[0m in \u001b[0;36mdraw\u001b[0;34m(self)\u001b[0m\n\u001b[1;32m    428\u001b[0m             \u001b[0;32mif\u001b[0m \u001b[0mtoolbar\u001b[0m\u001b[0;34m:\u001b[0m\u001b[0;34m\u001b[0m\u001b[0m\n\u001b[1;32m    429\u001b[0m                 \u001b[0mtoolbar\u001b[0m\u001b[0;34m.\u001b[0m\u001b[0mset_cursor\u001b[0m\u001b[0;34m(\u001b[0m\u001b[0mcursors\u001b[0m\u001b[0;34m.\u001b[0m\u001b[0mWAIT\u001b[0m\u001b[0;34m)\u001b[0m\u001b[0;34m\u001b[0m\u001b[0m\n\u001b[0;32m--> 430\u001b[0;31m             \u001b[0mself\u001b[0m\u001b[0;34m.\u001b[0m\u001b[0mfigure\u001b[0m\u001b[0;34m.\u001b[0m\u001b[0mdraw\u001b[0m\u001b[0;34m(\u001b[0m\u001b[0mself\u001b[0m\u001b[0;34m.\u001b[0m\u001b[0mrenderer\u001b[0m\u001b[0;34m)\u001b[0m\u001b[0;34m\u001b[0m\u001b[0m\n\u001b[0m\u001b[1;32m    431\u001b[0m         \u001b[0;32mfinally\u001b[0m\u001b[0;34m:\u001b[0m\u001b[0;34m\u001b[0m\u001b[0m\n\u001b[1;32m    432\u001b[0m             \u001b[0;32mif\u001b[0m \u001b[0mtoolbar\u001b[0m\u001b[0;34m:\u001b[0m\u001b[0;34m\u001b[0m\u001b[0m\n",
      "\u001b[0;32m~/tf3/lib/python3.5/site-packages/matplotlib/artist.py\u001b[0m in \u001b[0;36mdraw_wrapper\u001b[0;34m(artist, renderer, *args, **kwargs)\u001b[0m\n\u001b[1;32m     53\u001b[0m                 \u001b[0mrenderer\u001b[0m\u001b[0;34m.\u001b[0m\u001b[0mstart_filter\u001b[0m\u001b[0;34m(\u001b[0m\u001b[0;34m)\u001b[0m\u001b[0;34m\u001b[0m\u001b[0m\n\u001b[1;32m     54\u001b[0m \u001b[0;34m\u001b[0m\u001b[0m\n\u001b[0;32m---> 55\u001b[0;31m             \u001b[0;32mreturn\u001b[0m \u001b[0mdraw\u001b[0m\u001b[0;34m(\u001b[0m\u001b[0martist\u001b[0m\u001b[0;34m,\u001b[0m \u001b[0mrenderer\u001b[0m\u001b[0;34m,\u001b[0m \u001b[0;34m*\u001b[0m\u001b[0margs\u001b[0m\u001b[0;34m,\u001b[0m \u001b[0;34m**\u001b[0m\u001b[0mkwargs\u001b[0m\u001b[0;34m)\u001b[0m\u001b[0;34m\u001b[0m\u001b[0m\n\u001b[0m\u001b[1;32m     56\u001b[0m         \u001b[0;32mfinally\u001b[0m\u001b[0;34m:\u001b[0m\u001b[0;34m\u001b[0m\u001b[0m\n\u001b[1;32m     57\u001b[0m             \u001b[0;32mif\u001b[0m \u001b[0martist\u001b[0m\u001b[0;34m.\u001b[0m\u001b[0mget_agg_filter\u001b[0m\u001b[0;34m(\u001b[0m\u001b[0;34m)\u001b[0m \u001b[0;32mis\u001b[0m \u001b[0;32mnot\u001b[0m \u001b[0;32mNone\u001b[0m\u001b[0;34m:\u001b[0m\u001b[0;34m\u001b[0m\u001b[0m\n",
      "\u001b[0;32m~/tf3/lib/python3.5/site-packages/matplotlib/figure.py\u001b[0m in \u001b[0;36mdraw\u001b[0;34m(self, renderer)\u001b[0m\n\u001b[1;32m   1293\u001b[0m \u001b[0;34m\u001b[0m\u001b[0m\n\u001b[1;32m   1294\u001b[0m             mimage._draw_list_compositing_images(\n\u001b[0;32m-> 1295\u001b[0;31m                 renderer, self, artists, self.suppressComposite)\n\u001b[0m\u001b[1;32m   1296\u001b[0m \u001b[0;34m\u001b[0m\u001b[0m\n\u001b[1;32m   1297\u001b[0m             \u001b[0mrenderer\u001b[0m\u001b[0;34m.\u001b[0m\u001b[0mclose_group\u001b[0m\u001b[0;34m(\u001b[0m\u001b[0;34m'figure'\u001b[0m\u001b[0;34m)\u001b[0m\u001b[0;34m\u001b[0m\u001b[0m\n",
      "\u001b[0;32m~/tf3/lib/python3.5/site-packages/matplotlib/image.py\u001b[0m in \u001b[0;36m_draw_list_compositing_images\u001b[0;34m(renderer, parent, artists, suppress_composite)\u001b[0m\n\u001b[1;32m    136\u001b[0m     \u001b[0;32mif\u001b[0m \u001b[0mnot_composite\u001b[0m \u001b[0;32mor\u001b[0m \u001b[0;32mnot\u001b[0m \u001b[0mhas_images\u001b[0m\u001b[0;34m:\u001b[0m\u001b[0;34m\u001b[0m\u001b[0m\n\u001b[1;32m    137\u001b[0m         \u001b[0;32mfor\u001b[0m \u001b[0ma\u001b[0m \u001b[0;32min\u001b[0m \u001b[0martists\u001b[0m\u001b[0;34m:\u001b[0m\u001b[0;34m\u001b[0m\u001b[0m\n\u001b[0;32m--> 138\u001b[0;31m             \u001b[0ma\u001b[0m\u001b[0;34m.\u001b[0m\u001b[0mdraw\u001b[0m\u001b[0;34m(\u001b[0m\u001b[0mrenderer\u001b[0m\u001b[0;34m)\u001b[0m\u001b[0;34m\u001b[0m\u001b[0m\n\u001b[0m\u001b[1;32m    139\u001b[0m     \u001b[0;32melse\u001b[0m\u001b[0;34m:\u001b[0m\u001b[0;34m\u001b[0m\u001b[0m\n\u001b[1;32m    140\u001b[0m         \u001b[0;31m# Composite any adjacent images together\u001b[0m\u001b[0;34m\u001b[0m\u001b[0;34m\u001b[0m\u001b[0m\n",
      "\u001b[0;32m~/tf3/lib/python3.5/site-packages/matplotlib/artist.py\u001b[0m in \u001b[0;36mdraw_wrapper\u001b[0;34m(artist, renderer, *args, **kwargs)\u001b[0m\n\u001b[1;32m     53\u001b[0m                 \u001b[0mrenderer\u001b[0m\u001b[0;34m.\u001b[0m\u001b[0mstart_filter\u001b[0m\u001b[0;34m(\u001b[0m\u001b[0;34m)\u001b[0m\u001b[0;34m\u001b[0m\u001b[0m\n\u001b[1;32m     54\u001b[0m \u001b[0;34m\u001b[0m\u001b[0m\n\u001b[0;32m---> 55\u001b[0;31m             \u001b[0;32mreturn\u001b[0m \u001b[0mdraw\u001b[0m\u001b[0;34m(\u001b[0m\u001b[0martist\u001b[0m\u001b[0;34m,\u001b[0m \u001b[0mrenderer\u001b[0m\u001b[0;34m,\u001b[0m \u001b[0;34m*\u001b[0m\u001b[0margs\u001b[0m\u001b[0;34m,\u001b[0m \u001b[0;34m**\u001b[0m\u001b[0mkwargs\u001b[0m\u001b[0;34m)\u001b[0m\u001b[0;34m\u001b[0m\u001b[0m\n\u001b[0m\u001b[1;32m     56\u001b[0m         \u001b[0;32mfinally\u001b[0m\u001b[0;34m:\u001b[0m\u001b[0;34m\u001b[0m\u001b[0m\n\u001b[1;32m     57\u001b[0m             \u001b[0;32mif\u001b[0m \u001b[0martist\u001b[0m\u001b[0;34m.\u001b[0m\u001b[0mget_agg_filter\u001b[0m\u001b[0;34m(\u001b[0m\u001b[0;34m)\u001b[0m \u001b[0;32mis\u001b[0m \u001b[0;32mnot\u001b[0m \u001b[0;32mNone\u001b[0m\u001b[0;34m:\u001b[0m\u001b[0;34m\u001b[0m\u001b[0m\n",
      "\u001b[0;32m~/tf3/lib/python3.5/site-packages/matplotlib/axes/_base.py\u001b[0m in \u001b[0;36mdraw\u001b[0;34m(self, renderer, inframe)\u001b[0m\n\u001b[1;32m   2397\u001b[0m             \u001b[0mrenderer\u001b[0m\u001b[0;34m.\u001b[0m\u001b[0mstop_rasterizing\u001b[0m\u001b[0;34m(\u001b[0m\u001b[0;34m)\u001b[0m\u001b[0;34m\u001b[0m\u001b[0m\n\u001b[1;32m   2398\u001b[0m \u001b[0;34m\u001b[0m\u001b[0m\n\u001b[0;32m-> 2399\u001b[0;31m         \u001b[0mmimage\u001b[0m\u001b[0;34m.\u001b[0m\u001b[0m_draw_list_compositing_images\u001b[0m\u001b[0;34m(\u001b[0m\u001b[0mrenderer\u001b[0m\u001b[0;34m,\u001b[0m \u001b[0mself\u001b[0m\u001b[0;34m,\u001b[0m \u001b[0martists\u001b[0m\u001b[0;34m)\u001b[0m\u001b[0;34m\u001b[0m\u001b[0m\n\u001b[0m\u001b[1;32m   2400\u001b[0m \u001b[0;34m\u001b[0m\u001b[0m\n\u001b[1;32m   2401\u001b[0m         \u001b[0mrenderer\u001b[0m\u001b[0;34m.\u001b[0m\u001b[0mclose_group\u001b[0m\u001b[0;34m(\u001b[0m\u001b[0;34m'axes'\u001b[0m\u001b[0;34m)\u001b[0m\u001b[0;34m\u001b[0m\u001b[0m\n",
      "\u001b[0;32m~/tf3/lib/python3.5/site-packages/matplotlib/image.py\u001b[0m in \u001b[0;36m_draw_list_compositing_images\u001b[0;34m(renderer, parent, artists, suppress_composite)\u001b[0m\n\u001b[1;32m    136\u001b[0m     \u001b[0;32mif\u001b[0m \u001b[0mnot_composite\u001b[0m \u001b[0;32mor\u001b[0m \u001b[0;32mnot\u001b[0m \u001b[0mhas_images\u001b[0m\u001b[0;34m:\u001b[0m\u001b[0;34m\u001b[0m\u001b[0m\n\u001b[1;32m    137\u001b[0m         \u001b[0;32mfor\u001b[0m \u001b[0ma\u001b[0m \u001b[0;32min\u001b[0m \u001b[0martists\u001b[0m\u001b[0;34m:\u001b[0m\u001b[0;34m\u001b[0m\u001b[0m\n\u001b[0;32m--> 138\u001b[0;31m             \u001b[0ma\u001b[0m\u001b[0;34m.\u001b[0m\u001b[0mdraw\u001b[0m\u001b[0;34m(\u001b[0m\u001b[0mrenderer\u001b[0m\u001b[0;34m)\u001b[0m\u001b[0;34m\u001b[0m\u001b[0m\n\u001b[0m\u001b[1;32m    139\u001b[0m     \u001b[0;32melse\u001b[0m\u001b[0;34m:\u001b[0m\u001b[0;34m\u001b[0m\u001b[0m\n\u001b[1;32m    140\u001b[0m         \u001b[0;31m# Composite any adjacent images together\u001b[0m\u001b[0;34m\u001b[0m\u001b[0;34m\u001b[0m\u001b[0m\n",
      "\u001b[0;32m~/tf3/lib/python3.5/site-packages/matplotlib/artist.py\u001b[0m in \u001b[0;36mdraw_wrapper\u001b[0;34m(artist, renderer, *args, **kwargs)\u001b[0m\n\u001b[1;32m     53\u001b[0m                 \u001b[0mrenderer\u001b[0m\u001b[0;34m.\u001b[0m\u001b[0mstart_filter\u001b[0m\u001b[0;34m(\u001b[0m\u001b[0;34m)\u001b[0m\u001b[0;34m\u001b[0m\u001b[0m\n\u001b[1;32m     54\u001b[0m \u001b[0;34m\u001b[0m\u001b[0m\n\u001b[0;32m---> 55\u001b[0;31m             \u001b[0;32mreturn\u001b[0m \u001b[0mdraw\u001b[0m\u001b[0;34m(\u001b[0m\u001b[0martist\u001b[0m\u001b[0;34m,\u001b[0m \u001b[0mrenderer\u001b[0m\u001b[0;34m,\u001b[0m \u001b[0;34m*\u001b[0m\u001b[0margs\u001b[0m\u001b[0;34m,\u001b[0m \u001b[0;34m**\u001b[0m\u001b[0mkwargs\u001b[0m\u001b[0;34m)\u001b[0m\u001b[0;34m\u001b[0m\u001b[0m\n\u001b[0m\u001b[1;32m     56\u001b[0m         \u001b[0;32mfinally\u001b[0m\u001b[0;34m:\u001b[0m\u001b[0;34m\u001b[0m\u001b[0m\n\u001b[1;32m     57\u001b[0m             \u001b[0;32mif\u001b[0m \u001b[0martist\u001b[0m\u001b[0;34m.\u001b[0m\u001b[0mget_agg_filter\u001b[0m\u001b[0;34m(\u001b[0m\u001b[0;34m)\u001b[0m \u001b[0;32mis\u001b[0m \u001b[0;32mnot\u001b[0m \u001b[0;32mNone\u001b[0m\u001b[0;34m:\u001b[0m\u001b[0;34m\u001b[0m\u001b[0m\n",
      "\u001b[0;32m~/tf3/lib/python3.5/site-packages/matplotlib/image.py\u001b[0m in \u001b[0;36mdraw\u001b[0;34m(self, renderer, *args, **kwargs)\u001b[0m\n\u001b[1;32m    546\u001b[0m         \u001b[0;32melse\u001b[0m\u001b[0;34m:\u001b[0m\u001b[0;34m\u001b[0m\u001b[0m\n\u001b[1;32m    547\u001b[0m             im, l, b, trans = self.make_image(\n\u001b[0;32m--> 548\u001b[0;31m                 renderer, renderer.get_image_magnification())\n\u001b[0m\u001b[1;32m    549\u001b[0m             \u001b[0;32mif\u001b[0m \u001b[0mim\u001b[0m \u001b[0;32mis\u001b[0m \u001b[0;32mnot\u001b[0m \u001b[0;32mNone\u001b[0m\u001b[0;34m:\u001b[0m\u001b[0;34m\u001b[0m\u001b[0m\n\u001b[1;32m    550\u001b[0m                 \u001b[0mrenderer\u001b[0m\u001b[0;34m.\u001b[0m\u001b[0mdraw_image\u001b[0m\u001b[0;34m(\u001b[0m\u001b[0mgc\u001b[0m\u001b[0;34m,\u001b[0m \u001b[0ml\u001b[0m\u001b[0;34m,\u001b[0m \u001b[0mb\u001b[0m\u001b[0;34m,\u001b[0m \u001b[0mim\u001b[0m\u001b[0;34m)\u001b[0m\u001b[0;34m\u001b[0m\u001b[0m\n",
      "\u001b[0;32m~/tf3/lib/python3.5/site-packages/matplotlib/image.py\u001b[0m in \u001b[0;36mmake_image\u001b[0;34m(self, renderer, magnification, unsampled)\u001b[0m\n\u001b[1;32m    772\u001b[0m         return self._make_image(\n\u001b[1;32m    773\u001b[0m             \u001b[0mself\u001b[0m\u001b[0;34m.\u001b[0m\u001b[0m_A\u001b[0m\u001b[0;34m,\u001b[0m \u001b[0mbbox\u001b[0m\u001b[0;34m,\u001b[0m \u001b[0mtransformed_bbox\u001b[0m\u001b[0;34m,\u001b[0m \u001b[0mself\u001b[0m\u001b[0;34m.\u001b[0m\u001b[0maxes\u001b[0m\u001b[0;34m.\u001b[0m\u001b[0mbbox\u001b[0m\u001b[0;34m,\u001b[0m \u001b[0mmagnification\u001b[0m\u001b[0;34m,\u001b[0m\u001b[0;34m\u001b[0m\u001b[0m\n\u001b[0;32m--> 774\u001b[0;31m             unsampled=unsampled)\n\u001b[0m\u001b[1;32m    775\u001b[0m \u001b[0;34m\u001b[0m\u001b[0m\n\u001b[1;32m    776\u001b[0m     \u001b[0;32mdef\u001b[0m \u001b[0m_check_unsampled_image\u001b[0m\u001b[0;34m(\u001b[0m\u001b[0mself\u001b[0m\u001b[0;34m,\u001b[0m \u001b[0mrenderer\u001b[0m\u001b[0;34m)\u001b[0m\u001b[0;34m:\u001b[0m\u001b[0;34m\u001b[0m\u001b[0m\n",
      "\u001b[0;32m~/tf3/lib/python3.5/site-packages/matplotlib/image.py\u001b[0m in \u001b[0;36m_make_image\u001b[0;34m(self, A, in_bbox, out_bbox, clip_bbox, magnification, unsampled, round_to_pixel_border)\u001b[0m\n\u001b[1;32m    464\u001b[0m             \u001b[0;31m# (of int or float)\u001b[0m\u001b[0;34m\u001b[0m\u001b[0;34m\u001b[0m\u001b[0m\n\u001b[1;32m    465\u001b[0m             \u001b[0;31m# or an RGBA array of re-sampled input\u001b[0m\u001b[0;34m\u001b[0m\u001b[0;34m\u001b[0m\u001b[0m\n\u001b[0;32m--> 466\u001b[0;31m             \u001b[0moutput\u001b[0m \u001b[0;34m=\u001b[0m \u001b[0mself\u001b[0m\u001b[0;34m.\u001b[0m\u001b[0mto_rgba\u001b[0m\u001b[0;34m(\u001b[0m\u001b[0moutput\u001b[0m\u001b[0;34m,\u001b[0m \u001b[0mbytes\u001b[0m\u001b[0;34m=\u001b[0m\u001b[0;32mTrue\u001b[0m\u001b[0;34m,\u001b[0m \u001b[0mnorm\u001b[0m\u001b[0;34m=\u001b[0m\u001b[0;32mFalse\u001b[0m\u001b[0;34m)\u001b[0m\u001b[0;34m\u001b[0m\u001b[0m\n\u001b[0m\u001b[1;32m    467\u001b[0m             \u001b[0;31m# output is now a correctly sized RGBA array of uint8\u001b[0m\u001b[0;34m\u001b[0m\u001b[0;34m\u001b[0m\u001b[0m\n\u001b[1;32m    468\u001b[0m \u001b[0;34m\u001b[0m\u001b[0m\n",
      "\u001b[0;32m~/tf3/lib/python3.5/site-packages/matplotlib/cm.py\u001b[0m in \u001b[0;36mto_rgba\u001b[0;34m(self, x, alpha, bytes, norm)\u001b[0m\n\u001b[1;32m    255\u001b[0m                 \u001b[0;32mif\u001b[0m \u001b[0mxx\u001b[0m\u001b[0;34m.\u001b[0m\u001b[0mdtype\u001b[0m\u001b[0;34m.\u001b[0m\u001b[0mkind\u001b[0m \u001b[0;34m==\u001b[0m \u001b[0;34m'f'\u001b[0m\u001b[0;34m:\u001b[0m\u001b[0;34m\u001b[0m\u001b[0m\n\u001b[1;32m    256\u001b[0m                     \u001b[0;32mif\u001b[0m \u001b[0mnorm\u001b[0m \u001b[0;32mand\u001b[0m \u001b[0mxx\u001b[0m\u001b[0;34m.\u001b[0m\u001b[0mmax\u001b[0m\u001b[0;34m(\u001b[0m\u001b[0;34m)\u001b[0m \u001b[0;34m>\u001b[0m \u001b[0;36m1\u001b[0m \u001b[0;32mor\u001b[0m \u001b[0mxx\u001b[0m\u001b[0;34m.\u001b[0m\u001b[0mmin\u001b[0m\u001b[0;34m(\u001b[0m\u001b[0;34m)\u001b[0m \u001b[0;34m<\u001b[0m \u001b[0;36m0\u001b[0m\u001b[0;34m:\u001b[0m\u001b[0;34m\u001b[0m\u001b[0m\n\u001b[0;32m--> 257\u001b[0;31m                         raise ValueError(\"Floating point image RGB values \"\n\u001b[0m\u001b[1;32m    258\u001b[0m                                          \"must be in the 0..1 range.\")\n\u001b[1;32m    259\u001b[0m                     \u001b[0;32mif\u001b[0m \u001b[0mbytes\u001b[0m\u001b[0;34m:\u001b[0m\u001b[0;34m\u001b[0m\u001b[0m\n",
      "\u001b[0;31mValueError\u001b[0m: Floating point image RGB values must be in the 0..1 range."
     ]
    },
    {
     "data": {
      "text/plain": [
       "<matplotlib.figure.Figure at 0x7fd5f08e09b0>"
      ]
     },
     "metadata": {},
     "output_type": "display_data"
    }
   ],
   "source": [
    "#print(img*0.5)\n",
    "I = np.minimum(np.maximum(img*0.5,-1),1)\n",
    "print(I)\n",
    "\n",
    "from skimage import data, io, filters\n",
    "io.imshow(I)\n",
    "io.show()"
   ]
  },
  {
   "cell_type": "markdown",
   "metadata": {},
   "source": [
    "### Example to get test data"
   ]
  },
  {
   "cell_type": "code",
   "execution_count": 31,
   "metadata": {},
   "outputs": [
    {
     "name": "stdout",
     "output_type": "stream",
     "text": [
      "0 [(array([[[ 1.1685674 ,  1.4014287 ,  1.3860909 ],\n",
      "        [ 1.1517382 ,  1.376152  ,  1.365218  ],\n",
      "        [ 1.1180797 ,  1.3255985 ,  1.3234724 ],\n",
      "        ...,\n",
      "        [ 0.88246953,  1.1486614 ,  1.2817266 ],\n",
      "        [ 0.848811  ,  1.0981079 ,  1.2817266 ],\n",
      "        [ 0.848811  ,  1.0981079 ,  1.2817266 ]],\n",
      "\n",
      "       [[ 1.1517382 ,  1.376152  ,  1.365218  ],\n",
      "        [ 1.1349089 ,  1.3508753 ,  1.3443452 ],\n",
      "        [ 1.1012503 ,  1.3003218 ,  1.3025994 ],\n",
      "        ...,\n",
      "        [ 0.88246953,  1.1233846 ,  1.2817266 ],\n",
      "        [ 0.848811  ,  1.0981079 ,  1.2817266 ],\n",
      "        [ 0.848811  ,  1.0981079 ,  1.2817266 ]],\n",
      "\n",
      "       [[ 1.1012503 ,  1.3003218 ,  1.3234724 ],\n",
      "        [ 1.1012503 ,  1.3003218 ,  1.3025994 ],\n",
      "        [ 1.084421  ,  1.275045  ,  1.2817266 ],\n",
      "        ...,\n",
      "        [ 0.88246953,  1.1233846 ,  1.2817266 ],\n",
      "        [ 0.848811  ,  1.0981079 ,  1.2817266 ],\n",
      "        [ 0.848811  ,  1.0728312 ,  1.2817266 ]],\n",
      "\n",
      "       ...,\n",
      "\n",
      "       [[-0.8846058 , -0.5701567 , -0.76381165],\n",
      "        [-0.8846058 , -0.5701567 , -0.76381165],\n",
      "        [-0.90143514, -0.5954335 , -0.7846845 ],\n",
      "        ...,\n",
      "        [-1.1033866 , -0.8987543 , -0.9934129 ],\n",
      "        [-1.1033866 , -0.8987543 , -0.9934129 ],\n",
      "        [-1.1033866 , -0.8734776 , -0.9934129 ]],\n",
      "\n",
      "       [[-0.90143514, -0.5954335 , -0.7846845 ],\n",
      "        [-0.9182644 , -0.6207102 , -0.80555737],\n",
      "        [-0.9350937 , -0.6459869 , -0.8264302 ],\n",
      "        ...,\n",
      "        [-1.187533  , -1.0504147 , -1.11865   ],\n",
      "        [-1.187533  , -1.0504147 , -1.11865   ],\n",
      "        [-1.187533  , -1.0504147 , -1.11865   ]],\n",
      "\n",
      "       [[-0.96875226, -0.6965404 , -0.86817586],\n",
      "        [-0.9855816 , -0.6965404 , -0.86817586],\n",
      "        [-0.9855816 , -0.72181714, -0.8890487 ],\n",
      "        ...,\n",
      "        [-1.2885088 , -1.1767985 , -1.2230141 ],\n",
      "        [-1.2885088 , -1.1767985 , -1.2230141 ],\n",
      "        [-1.2885088 , -1.1767985 , -1.2230141 ]]], dtype=float32), array([[-0.05066079,  0.31497794],\n",
      "       [ 0.26211452,  0.17841411],\n",
      "       [ 0.06828195,  0.03744495],\n",
      "       [ 0.00220263,  0.03303963],\n",
      "       [-0.03744492,  0.21365637],\n",
      "       [-0.28414097,  0.36784142],\n",
      "       [ 0.13436121, -0.02863437],\n",
      "       [-0.0462555 , -0.10792953],\n",
      "       [ 0.04625553, -0.22687224],\n",
      "       [ 0.15638769, -0.10792953],\n",
      "       [-0.10352424, -0.12114537],\n",
      "       [-0.01101321, -0.25330395],\n",
      "       [ 0.05947137, -0.2709251 ],\n",
      "       [ 0.05947137, -0.37665197]]), array([[ True,  True],\n",
      "       [ True,  True],\n",
      "       [ True,  True],\n",
      "       [ True,  True],\n",
      "       [ True,  True],\n",
      "       [ True,  True],\n",
      "       [ True,  True],\n",
      "       [ True,  True],\n",
      "       [ True,  True],\n",
      "       [ True,  True],\n",
      "       [ True,  True],\n",
      "       [ True,  True],\n",
      "       [ True,  True],\n",
      "       [ True,  True]]), {'orig_tightest_bbox': array([ 20.71940235,  20.9005996 ,  52.08308357, 126.40998408]), 'bbox': array([  0,   0,  95, 169]), 'image_id': '/var/data/lsp/images/im1001.jpg'})]\n"
     ]
    }
   ],
   "source": [
    "#print(test_iterator)\n",
    "test_iterator = iterators.MultiprocessIterator(\n",
    "    test_dataset, batch_size=128,\n",
    "    repeat=False, shuffle=False,\n",
    "    n_processes=1, n_prefetch=1)\n",
    "# http://docs.chainer.org/en/stable/reference/generated/chainer.iterators.MultiprocessIterator.html\n",
    "\n",
    "for i, batch in enumerate(test_iterator): \n",
    "    print(i, batch)"
   ]
  },
  {
   "cell_type": "code",
   "execution_count": 32,
   "metadata": {},
   "outputs": [],
   "source": [
    "def get_gt_data(test_iterator):\n",
    "    test_it = copy.copy(test_iterator)\n",
    "    num_test_examples = len(test_it.dataset)\n",
    "    num_batches = int(math.ceil(num_test_examples / test_it.batch_size))\n",
    "    gt_joints = list()\n",
    "    gt_joints_is_valid = list()\n",
    "    orig_bboxes = list()\n",
    "\n",
    "    print(len(test_it.dataset))\n",
    "    for i, batch in tqdm(enumerate(test_it), total=num_batches):\n",
    "        feeds = batch2feeds(batch)\n",
    "        gt_joints.append(feeds[1])\n",
    "        gt_joints_is_valid.append(feeds[2])\n",
    "        orig_bboxes.append(np.vstack([x['bbox'] for x in feeds[3]]))\n",
    "\n",
    "    gt_joints = np.vstack(gt_joints)\n",
    "    gt_joints_is_valid = np.vstack(gt_joints_is_valid)\n",
    "    orig_bboxes = np.vstack(orig_bboxes)\n",
    "    return gt_joints, gt_joints_is_valid, orig_bboxes"
   ]
  },
  {
   "cell_type": "code",
   "execution_count": 33,
   "metadata": {},
   "outputs": [
    {
     "name": "stderr",
     "output_type": "stream",
     "text": [
      "\r",
      "  0%|          | 0/1 [00:00<?, ?it/s]"
     ]
    },
    {
     "name": "stdout",
     "output_type": "stream",
     "text": [
      "1\n"
     ]
    },
    {
     "name": "stderr",
     "output_type": "stream",
     "text": [
      "100%|██████████| 1/1 [00:00<00:00, 13.87it/s]\n"
     ]
    },
    {
     "name": "stdout",
     "output_type": "stream",
     "text": [
      "(1, 14, 2)\n",
      "(1, 14, 2)\n",
      "(1, 4)\n"
     ]
    }
   ],
   "source": [
    "test_iterator = iterators.MultiprocessIterator(\n",
    "    test_dataset, batch_size=128,\n",
    "    repeat=False, shuffle=False,\n",
    "    n_processes=1, n_prefetch=1)\n",
    "# http://docs.chainer.org/en/stable/reference/generated/chainer.iterators.MultiprocessIterator.html\n",
    "\n",
    "gt_joints, gt_joints_is_valid, orig_bboxes = get_gt_data(test_iterator)\n",
    "\n",
    "print(gt_joints.shape)\n",
    "print(gt_joints_is_valid.shape)\n",
    "print(orig_bboxes.shape)"
   ]
  },
  {
   "cell_type": "code",
   "execution_count": 34,
   "metadata": {},
   "outputs": [
    {
     "data": {
      "text/plain": [
       "array([[  0,   0,  95, 169]])"
      ]
     },
     "execution_count": 34,
     "metadata": {},
     "output_type": "execute_result"
    }
   ],
   "source": [
    "orig_bboxes"
   ]
  },
  {
   "cell_type": "code",
   "execution_count": 35,
   "metadata": {},
   "outputs": [
    {
     "name": "stdout",
     "output_type": "stream",
     "text": [
      "<scripts.dataset.PoseDataset object at 0x7fdd34019fd0>\n"
     ]
    }
   ],
   "source": [
    "print(test_dataset)"
   ]
  },
  {
   "cell_type": "code",
   "execution_count": null,
   "metadata": {},
   "outputs": [],
   "source": []
  }
 ],
 "metadata": {
  "kernelspec": {
   "display_name": "Python 3",
   "language": "python",
   "name": "python3"
  },
  "language_info": {
   "codemirror_mode": {
    "name": "ipython",
    "version": 3
   },
   "file_extension": ".py",
   "mimetype": "text/x-python",
   "name": "python",
   "nbconvert_exporter": "python",
   "pygments_lexer": "ipython3",
   "version": "3.5.2"
  }
 },
 "nbformat": 4,
 "nbformat_minor": 2
}
